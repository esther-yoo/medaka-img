{
 "cells": [
  {
   "cell_type": "code",
   "execution_count": 1,
   "metadata": {},
   "outputs": [],
   "source": [
    "# Required libraries\n",
    "import os\n",
    "import math\n",
    "import pims\n",
    "from natsort import natsorted\n",
    "import torch\n",
    "import torch.nn as nn\n",
    "from torch import Tensor\n",
    "import random\n",
    "import cv2 as cv\n",
    "import numpy as np\n",
    "import pandas as pd\n",
    "import skimage as ski\n",
    "from PIL import Image\n",
    "import statistics\n",
    "from PIL.ExifTags import TAGS\n",
    "import matplotlib.pyplot as plt\n",
    "from typing import Any, Callable, List, Optional, Type, Union\n",
    "from tqdm import tqdm # for calculating mean, stdev (https://kozodoi.me/blog/20210308/compute-image-stats)\n",
    "from itertools import islice # for taking first n elements from an iterable (dataloader object)\n",
    "from torchinfo import summary\n",
    "import wandb\n",
    "from datetime import datetime\n",
    "\n",
    "from torch.utils.data import Dataset, DataLoader, random_split\n",
    "\n",
    "from torchvision.models import resnet101, ResNet101_Weights, resnet50, ResNet50_Weights\n",
    "from torchvision.io import read_image\n",
    "from torchvision.utils import save_image\n",
    "from torch.utils.checkpoint import checkpoint\n",
    "from torchvision.transforms import v2 as transforms\n",
    "\n",
    "from transformers import AutoModel\n",
    "\n",
    "# from pythae.models import AE, AEConfig, AutoModel\n",
    "# from pythae.trainers import BaseTrainerConfig\n",
    "# from pythae.pipelines.training import TrainingPipeline\n",
    "# from pythae.models.nn.benchmarks.celeba import Encoder_ResNet_AE_CELEBA, Decoder_ResNet_AE_CELEBA, Encoder_Conv_AE_CELEBA, Decoder_Conv_AE_CELEBA, Encoder_ResNet_VAE_CELEBA\n",
    "# from pythae.data.datasets import DatasetOutput\n",
    "# from pythae.samplers import NormalSampler\n",
    "from pythae.trainers.training_callbacks import WandbCallback\n",
    "\n",
    "os.environ['WANDB_DATA_DIR'] = '/hps/nobackup/birney/users/esther/wandb/artifacts/staging/'\n",
    "os.environ['WANDB_TIMEOUT'] = '120'\n",
    "os.environ['JAVA_HOME'] = '/hps/nobackup/birney/users/esther/Fiji.app/java/linux-amd64/zulu8.60.0.21-ca-fx-jdk8.0.322-linux_x64/jre/'"
   ]
  },
  {
   "cell_type": "code",
   "execution_count": 2,
   "metadata": {},
   "outputs": [],
   "source": [
    "! module load cuda/12.2.0"
   ]
  },
  {
   "cell_type": "code",
   "execution_count": 3,
   "metadata": {},
   "outputs": [
    {
     "name": "stdout",
     "output_type": "stream",
     "text": [
      "12.1\n"
     ]
    }
   ],
   "source": [
    "device = \"cuda\" if torch.cuda.is_available() else \"cpu\"\n",
    "print(torch.version.cuda)"
   ]
  },
  {
   "cell_type": "code",
   "execution_count": 4,
   "metadata": {},
   "outputs": [
    {
     "data": {
      "text/plain": [
       "<torch._C.Generator at 0x7fe4deaae830>"
      ]
     },
     "execution_count": 4,
     "metadata": {},
     "output_type": "execute_result"
    }
   ],
   "source": [
    "torch.manual_seed(1)"
   ]
  },
  {
   "cell_type": "code",
   "execution_count": 5,
   "metadata": {},
   "outputs": [],
   "source": [
    "# Set working directory\n",
    "os.chdir('/nfs/research/birney/users/esther/medaka-img/src_files/')\n",
    "model_dir = '/hps/nobackup/birney/users/esther/medaka-img/models/'"
   ]
  },
  {
   "cell_type": "code",
   "execution_count": 6,
   "metadata": {},
   "outputs": [
    {
     "name": "stderr",
     "output_type": "stream",
     "text": [
      "\u001b[34m\u001b[1mwandb\u001b[0m: Using wandb-core as the SDK backend. Please refer to https://wandb.me/wandb-core for more information.\n",
      "\u001b[34m\u001b[1mwandb\u001b[0m: Currently logged in as: \u001b[33mey267\u001b[0m (\u001b[33mey267-university-of-cambridge\u001b[0m). Use \u001b[1m`wandb login --relogin`\u001b[0m to force relogin\n"
     ]
    },
    {
     "data": {
      "text/plain": [
       "True"
      ]
     },
     "execution_count": 6,
     "metadata": {},
     "output_type": "execute_result"
    }
   ],
   "source": [
    "wandb.login()"
   ]
  },
  {
   "cell_type": "markdown",
   "metadata": {},
   "source": [
    "## Build the CNN-based autoencoder\n",
    "Feed a 224x224 image into the autoencoder"
   ]
  },
  {
   "cell_type": "code",
   "execution_count": 7,
   "metadata": {},
   "outputs": [],
   "source": [
    "class AutoEncoderConv(nn.Module):\n",
    "    def __init__(self, input_dim, latent_dim):\n",
    "        super(AutoEncoderConv, self).__init__()\n",
    "        # encoder\n",
    "        self.conv1 = nn.Sequential(\n",
    "            nn.Conv2d(input_dim[0], 128, kernel_size=4, stride=2, padding=1),\n",
    "            nn.BatchNorm2d(128),\n",
    "            nn.ReLU()\n",
    "        )\n",
    "        self.conv2 = nn.Sequential(\n",
    "            nn.Conv2d(128, 256, kernel_size=4, stride=2, padding=1),\n",
    "            nn.BatchNorm2d(256),\n",
    "            nn.ReLU()\n",
    "        )\n",
    "        self.conv3 = nn.Sequential(\n",
    "            nn.Conv2d(256, 512, kernel_size=4, stride=2, padding=1),\n",
    "            nn.BatchNorm2d(512),\n",
    "            nn.ReLU()\n",
    "        )\n",
    "        self.conv4 = nn.Sequential(\n",
    "            nn.Conv2d(512, 1024, kernel_size=4, stride=2, padding=1),\n",
    "            nn.BatchNorm2d(1024),\n",
    "            nn.ReLU()\n",
    "        )\n",
    "        self.embedding = nn.Linear(1024 * 14 * 14, latent_dim)\n",
    "\n",
    "        # decoder\n",
    "        self.deconv1 = nn.Sequential(nn.Linear(latent_dim, 1024 * 28 * 28))\n",
    "        self.deconv2 = nn.Sequential(\n",
    "            nn.ConvTranspose2d(1024, 512, kernel_size=5, stride=2, padding=2),\n",
    "            nn.BatchNorm2d(512),\n",
    "            nn.ReLU()\n",
    "        )\n",
    "        self.deconv3 = nn.Sequential(\n",
    "            nn.ConvTranspose2d(512, 256, kernel_size=5, stride=2, padding=1, output_padding=0),\n",
    "            nn.BatchNorm2d(256),\n",
    "            nn.ReLU()\n",
    "        )\n",
    "        self.deconv4 = nn.Sequential(\n",
    "            nn.ConvTranspose2d(256, 128, kernel_size=5, stride=2, padding=2, output_padding=1),\n",
    "            nn.BatchNorm2d(128),\n",
    "            nn.ReLU()\n",
    "        )\n",
    "        self.deconv5 = nn.Sequential(\n",
    "                nn.ConvTranspose2d(128, input_dim[0], 5, 1, padding=1), nn.Sigmoid()\n",
    "        )\n",
    "    \n",
    "    def forward(self, x):\n",
    "        x = self.conv1(x)\n",
    "        x = self.conv2(x)\n",
    "        x = self.conv3(x)\n",
    "        x = self.conv4(x)\n",
    "        x = self.embedding(x.reshape(x.shape[0], -1))\n",
    "        x = self.deconv1(x)\n",
    "        x = x.view(-1, 1024, 28, 28)\n",
    "        x = self.deconv2(x)\n",
    "        x = self.deconv3(x)\n",
    "        x = self.deconv4(x)\n",
    "        x = self.deconv5(x)\n",
    "        return x"
   ]
  },
  {
   "cell_type": "code",
   "execution_count": 8,
   "metadata": {},
   "outputs": [
    {
     "data": {
      "text/plain": [
       "==========================================================================================\n",
       "Layer (type:depth-idx)                   Output Shape              Param #\n",
       "==========================================================================================\n",
       "AutoEncoderConv                          [1, 3, 224, 224]          --\n",
       "├─Sequential: 1-1                        [1, 128, 112, 112]        --\n",
       "│    └─Conv2d: 2-1                       [1, 128, 112, 112]        6,272\n",
       "│    └─BatchNorm2d: 2-2                  [1, 128, 112, 112]        256\n",
       "│    └─ReLU: 2-3                         [1, 128, 112, 112]        --\n",
       "├─Sequential: 1-2                        [1, 256, 56, 56]          --\n",
       "│    └─Conv2d: 2-4                       [1, 256, 56, 56]          524,544\n",
       "│    └─BatchNorm2d: 2-5                  [1, 256, 56, 56]          512\n",
       "│    └─ReLU: 2-6                         [1, 256, 56, 56]          --\n",
       "├─Sequential: 1-3                        [1, 512, 28, 28]          --\n",
       "│    └─Conv2d: 2-7                       [1, 512, 28, 28]          2,097,664\n",
       "│    └─BatchNorm2d: 2-8                  [1, 512, 28, 28]          1,024\n",
       "│    └─ReLU: 2-9                         [1, 512, 28, 28]          --\n",
       "├─Sequential: 1-4                        [1, 1024, 14, 14]         --\n",
       "│    └─Conv2d: 2-10                      [1, 1024, 14, 14]         8,389,632\n",
       "│    └─BatchNorm2d: 2-11                 [1, 1024, 14, 14]         2,048\n",
       "│    └─ReLU: 2-12                        [1, 1024, 14, 14]         --\n",
       "├─Linear: 1-5                            [1, 128]                  25,690,240\n",
       "├─Sequential: 1-6                        [1, 802816]               --\n",
       "│    └─Linear: 2-13                      [1, 802816]               103,563,264\n",
       "├─Sequential: 1-7                        [1, 512, 55, 55]          --\n",
       "│    └─ConvTranspose2d: 2-14             [1, 512, 55, 55]          13,107,712\n",
       "│    └─BatchNorm2d: 2-15                 [1, 512, 55, 55]          1,024\n",
       "│    └─ReLU: 2-16                        [1, 512, 55, 55]          --\n",
       "├─Sequential: 1-8                        [1, 256, 111, 111]        --\n",
       "│    └─ConvTranspose2d: 2-17             [1, 256, 111, 111]        3,277,056\n",
       "│    └─BatchNorm2d: 2-18                 [1, 256, 111, 111]        512\n",
       "│    └─ReLU: 2-19                        [1, 256, 111, 111]        --\n",
       "├─Sequential: 1-9                        [1, 128, 222, 222]        --\n",
       "│    └─ConvTranspose2d: 2-20             [1, 128, 222, 222]        819,328\n",
       "│    └─BatchNorm2d: 2-21                 [1, 128, 222, 222]        256\n",
       "│    └─ReLU: 2-22                        [1, 128, 222, 222]        --\n",
       "├─Sequential: 1-10                       [1, 3, 224, 224]          --\n",
       "│    └─ConvTranspose2d: 2-23             [1, 3, 224, 224]          9,603\n",
       "│    └─Sigmoid: 2-24                     [1, 3, 224, 224]          --\n",
       "==========================================================================================\n",
       "Total params: 157,490,947\n",
       "Trainable params: 157,490,947\n",
       "Non-trainable params: 0\n",
       "Total mult-adds (G): 126.03\n",
       "==========================================================================================\n",
       "Input size (MB): 0.60\n",
       "Forward/backward pass size (MB): 231.98\n",
       "Params size (MB): 629.96\n",
       "Estimated Total Size (MB): 862.54\n",
       "=========================================================================================="
      ]
     },
     "execution_count": 8,
     "metadata": {},
     "output_type": "execute_result"
    }
   ],
   "source": [
    "model = AutoEncoderConv((3, 224, 224), 128)\n",
    "\n",
    "summary(model, input_size=(1, 3, 224, 224))"
   ]
  },
  {
   "cell_type": "code",
   "execution_count": 9,
   "metadata": {},
   "outputs": [
    {
     "name": "stdout",
     "output_type": "stream",
     "text": [
      "Linear(in_features=200704, out_features=128, bias=True)\n"
     ]
    }
   ],
   "source": [
    "print(*list(model.children())[4:-5])"
   ]
  },
  {
   "cell_type": "code",
   "execution_count": 10,
   "metadata": {},
   "outputs": [],
   "source": [
    "class ConvClassifier(nn.Module):\n",
    "    def __init__(self, input_dim, latent_dim):\n",
    "        super(ConvClassifier, self).__init__()\n",
    "\n",
    "        convnet = AutoEncoderConv(input_dim, latent_dim)\n",
    "\n",
    "        checkpoint = torch.load(f'{model_dir}/checkpoints/convnet-ae-pytorch-medaka/amber-sweep-1/ckpt-model-convnet-ae-run-amber-sweep-1-epoch-499-time-2024-10-29-1820.pt')\n",
    "        convnet.load_state_dict(checkpoint['model_state_dict'])\n",
    "        \n",
    "        self.encoder = nn.Sequential(*list(convnet.children())[:-6])\n",
    "        self.embedding = nn.Sequential(*list(convnet.children())[4:-5])\n",
    "\n",
    "        self.fc1 = nn.Linear(latent_dim, 64)\n",
    "        self.fc2 = nn.Linear(64, 5)\n",
    "        self.fc3 = nn.Linear(5, 1)\n",
    "\n",
    "    def forward(self, x):\n",
    "        x = self.encoder(x)\n",
    "        x = self.embedding(x.reshape(x.shape[0], -1))\n",
    "        x = self.fc1(x)\n",
    "        x = self.fc2(x)\n",
    "        x = self.fc3(x)\n",
    "        return x"
   ]
  },
  {
   "cell_type": "code",
   "execution_count": 11,
   "metadata": {},
   "outputs": [
    {
     "data": {
      "text/plain": [
       "==========================================================================================\n",
       "Layer (type:depth-idx)                   Output Shape              Param #\n",
       "==========================================================================================\n",
       "ConvClassifier                           [1, 1]                    --\n",
       "├─Sequential: 1-1                        [1, 1024, 14, 14]         --\n",
       "│    └─Sequential: 2-1                   [1, 128, 112, 112]        --\n",
       "│    │    └─Conv2d: 3-1                  [1, 128, 112, 112]        6,272\n",
       "│    │    └─BatchNorm2d: 3-2             [1, 128, 112, 112]        256\n",
       "│    │    └─ReLU: 3-3                    [1, 128, 112, 112]        --\n",
       "│    └─Sequential: 2-2                   [1, 256, 56, 56]          --\n",
       "│    │    └─Conv2d: 3-4                  [1, 256, 56, 56]          524,544\n",
       "│    │    └─BatchNorm2d: 3-5             [1, 256, 56, 56]          512\n",
       "│    │    └─ReLU: 3-6                    [1, 256, 56, 56]          --\n",
       "│    └─Sequential: 2-3                   [1, 512, 28, 28]          --\n",
       "│    │    └─Conv2d: 3-7                  [1, 512, 28, 28]          2,097,664\n",
       "│    │    └─BatchNorm2d: 3-8             [1, 512, 28, 28]          1,024\n",
       "│    │    └─ReLU: 3-9                    [1, 512, 28, 28]          --\n",
       "│    └─Sequential: 2-4                   [1, 1024, 14, 14]         --\n",
       "│    │    └─Conv2d: 3-10                 [1, 1024, 14, 14]         8,389,632\n",
       "│    │    └─BatchNorm2d: 3-11            [1, 1024, 14, 14]         2,048\n",
       "│    │    └─ReLU: 3-12                   [1, 1024, 14, 14]         --\n",
       "├─Sequential: 1-2                        [1, 128]                  --\n",
       "│    └─Linear: 2-5                       [1, 128]                  25,690,240\n",
       "├─Linear: 1-3                            [1, 64]                   8,256\n",
       "├─Linear: 1-4                            [1, 5]                    325\n",
       "├─Linear: 1-5                            [1, 1]                    6\n",
       "==========================================================================================\n",
       "Total params: 36,720,779\n",
       "Trainable params: 36,720,779\n",
       "Non-trainable params: 0\n",
       "Total mult-adds (G): 5.04\n",
       "==========================================================================================\n",
       "Input size (MB): 0.60\n",
       "Forward/backward pass size (MB): 48.17\n",
       "Params size (MB): 146.88\n",
       "Estimated Total Size (MB): 195.66\n",
       "=========================================================================================="
      ]
     },
     "execution_count": 11,
     "metadata": {},
     "output_type": "execute_result"
    }
   ],
   "source": [
    "model = ConvClassifier((3, 224, 224), 128)\n",
    "\n",
    "summary(model, input_size=(1, 3, 224, 224))"
   ]
  },
  {
   "cell_type": "code",
   "execution_count": 12,
   "metadata": {},
   "outputs": [
    {
     "name": "stdout",
     "output_type": "stream",
     "text": [
      "0 True\n",
      "torch.Size([128, 3, 4, 4])\n",
      "1 True\n",
      "torch.Size([128])\n",
      "2 True\n",
      "torch.Size([128])\n",
      "3 True\n",
      "torch.Size([128])\n",
      "4 True\n",
      "torch.Size([256, 128, 4, 4])\n",
      "5 True\n",
      "torch.Size([256])\n",
      "6 True\n",
      "torch.Size([256])\n",
      "7 True\n",
      "torch.Size([256])\n",
      "8 True\n",
      "torch.Size([512, 256, 4, 4])\n",
      "9 True\n",
      "torch.Size([512])\n",
      "10 True\n",
      "torch.Size([512])\n",
      "11 True\n",
      "torch.Size([512])\n",
      "12 True\n",
      "torch.Size([1024, 512, 4, 4])\n",
      "13 True\n",
      "torch.Size([1024])\n",
      "14 True\n",
      "torch.Size([1024])\n",
      "15 True\n",
      "torch.Size([1024])\n",
      "16 True\n",
      "torch.Size([128, 200704])\n",
      "17 True\n",
      "torch.Size([128])\n",
      "18 True\n",
      "torch.Size([64, 128])\n",
      "19 True\n",
      "torch.Size([64])\n",
      "20 True\n",
      "torch.Size([5, 64])\n",
      "21 True\n",
      "torch.Size([5])\n",
      "22 True\n",
      "torch.Size([1, 5])\n",
      "23 True\n",
      "torch.Size([1])\n"
     ]
    }
   ],
   "source": [
    "for idx, param in enumerate(model.parameters()):\n",
    "    print(idx, param.requires_grad)\n",
    "    print(param.size())\n",
    "    param.requires_grad = False\n",
    "    if (idx > 17): \n",
    "        param.requires_grad = True"
   ]
  },
  {
   "cell_type": "code",
   "execution_count": 64,
   "metadata": {},
   "outputs": [],
   "source": [
    "class ConvClassifierPretrained(nn.Module):\n",
    "    def __init__(self, input_dim, latent_dim):\n",
    "        super(ConvClassifierPretrained, self).__init__()\n",
    "        # encoder\n",
    "        self.encoder = nn.Sequential(\n",
    "            nn.Sequential(\n",
    "                nn.Conv2d(input_dim[0], 128, kernel_size=4, stride=2, padding=1),\n",
    "                nn.BatchNorm2d(128),\n",
    "                nn.ReLU()\n",
    "            ),\n",
    "            nn.Sequential(\n",
    "                nn.Conv2d(128, 256, kernel_size=4, stride=2, padding=1),\n",
    "                nn.BatchNorm2d(256),\n",
    "                nn.ReLU()\n",
    "            ),\n",
    "            nn.Sequential(\n",
    "                nn.Conv2d(256, 512, kernel_size=4, stride=2, padding=1),\n",
    "                nn.BatchNorm2d(512),\n",
    "                nn.ReLU()\n",
    "            ),\n",
    "            nn.Sequential(\n",
    "                nn.Conv2d(512, 1024, kernel_size=4, stride=2, padding=1),\n",
    "                nn.BatchNorm2d(1024),\n",
    "                nn.ReLU()\n",
    "            )\n",
    "        )\n",
    "        self.embedding = nn.Sequential(nn.Linear(1024 * 14 * 14, latent_dim))\n",
    "        self.fc1 = nn.Linear(latent_dim, 64)\n",
    "        self.fc2 = nn.Linear(64, 5)\n",
    "        self.fc3 = nn.Linear(5, 1)\n",
    "\n",
    "    def forward(self, x):\n",
    "        x = self.encoder(x)\n",
    "        x = self.embedding(x.reshape(x.shape[0], -1))\n",
    "        x = self.fc1(x)\n",
    "        x = self.fc2(x)\n",
    "        x = self.fc3(x)\n",
    "        return x"
   ]
  },
  {
   "cell_type": "code",
   "execution_count": 65,
   "metadata": {},
   "outputs": [
    {
     "data": {
      "text/plain": [
       "==========================================================================================\n",
       "Layer (type:depth-idx)                   Output Shape              Param #\n",
       "==========================================================================================\n",
       "ConvClassifierPretrained                 [1, 1]                    --\n",
       "├─Sequential: 1-1                        [1, 1024, 14, 14]         --\n",
       "│    └─Sequential: 2-1                   [1, 128, 112, 112]        --\n",
       "│    │    └─Conv2d: 3-1                  [1, 128, 112, 112]        6,272\n",
       "│    │    └─BatchNorm2d: 3-2             [1, 128, 112, 112]        256\n",
       "│    │    └─ReLU: 3-3                    [1, 128, 112, 112]        --\n",
       "│    └─Sequential: 2-2                   [1, 256, 56, 56]          --\n",
       "│    │    └─Conv2d: 3-4                  [1, 256, 56, 56]          524,544\n",
       "│    │    └─BatchNorm2d: 3-5             [1, 256, 56, 56]          512\n",
       "│    │    └─ReLU: 3-6                    [1, 256, 56, 56]          --\n",
       "│    └─Sequential: 2-3                   [1, 512, 28, 28]          --\n",
       "│    │    └─Conv2d: 3-7                  [1, 512, 28, 28]          2,097,664\n",
       "│    │    └─BatchNorm2d: 3-8             [1, 512, 28, 28]          1,024\n",
       "│    │    └─ReLU: 3-9                    [1, 512, 28, 28]          --\n",
       "│    └─Sequential: 2-4                   [1, 1024, 14, 14]         --\n",
       "│    │    └─Conv2d: 3-10                 [1, 1024, 14, 14]         8,389,632\n",
       "│    │    └─BatchNorm2d: 3-11            [1, 1024, 14, 14]         2,048\n",
       "│    │    └─ReLU: 3-12                   [1, 1024, 14, 14]         --\n",
       "├─Sequential: 1-2                        [1, 128]                  --\n",
       "│    └─Linear: 2-5                       [1, 128]                  25,690,240\n",
       "├─Linear: 1-3                            [1, 64]                   8,256\n",
       "├─Linear: 1-4                            [1, 5]                    325\n",
       "├─Linear: 1-5                            [1, 1]                    6\n",
       "==========================================================================================\n",
       "Total params: 36,720,779\n",
       "Trainable params: 36,720,779\n",
       "Non-trainable params: 0\n",
       "Total mult-adds (G): 5.04\n",
       "==========================================================================================\n",
       "Input size (MB): 0.60\n",
       "Forward/backward pass size (MB): 48.17\n",
       "Params size (MB): 146.88\n",
       "Estimated Total Size (MB): 195.66\n",
       "=========================================================================================="
      ]
     },
     "execution_count": 65,
     "metadata": {},
     "output_type": "execute_result"
    }
   ],
   "source": [
    "model = ConvClassifierPretrained((3, 224, 224), 128)\n",
    "\n",
    "summary(model, input_size=(1, 3, 224, 224))"
   ]
  },
  {
   "cell_type": "code",
   "execution_count": 13,
   "metadata": {},
   "outputs": [
    {
     "name": "stdout",
     "output_type": "stream",
     "text": [
      "0 False\n",
      "torch.Size([128, 3, 4, 4])\n",
      "1 False\n",
      "torch.Size([128])\n",
      "2 False\n",
      "torch.Size([128])\n",
      "3 False\n",
      "torch.Size([128])\n",
      "4 False\n",
      "torch.Size([256, 128, 4, 4])\n",
      "5 False\n",
      "torch.Size([256])\n",
      "6 False\n",
      "torch.Size([256])\n",
      "7 False\n",
      "torch.Size([256])\n",
      "8 False\n",
      "torch.Size([512, 256, 4, 4])\n",
      "9 False\n",
      "torch.Size([512])\n",
      "10 False\n",
      "torch.Size([512])\n",
      "11 False\n",
      "torch.Size([512])\n",
      "12 False\n",
      "torch.Size([1024, 512, 4, 4])\n",
      "13 False\n",
      "torch.Size([1024])\n",
      "14 False\n",
      "torch.Size([1024])\n",
      "15 False\n",
      "torch.Size([1024])\n",
      "16 False\n",
      "torch.Size([128, 200704])\n",
      "17 False\n",
      "torch.Size([128])\n",
      "18 True\n",
      "torch.Size([64, 128])\n",
      "19 True\n",
      "torch.Size([64])\n",
      "20 True\n",
      "torch.Size([5, 64])\n",
      "21 True\n",
      "torch.Size([5])\n",
      "22 True\n",
      "torch.Size([1, 5])\n",
      "23 True\n",
      "torch.Size([1])\n"
     ]
    }
   ],
   "source": [
    "for idx, param in enumerate(model.parameters()):\n",
    "    print(idx, param.requires_grad)\n",
    "    print(param.size())"
   ]
  },
  {
   "cell_type": "markdown",
   "metadata": {},
   "source": [
    "## Configure wandb"
   ]
  },
  {
   "cell_type": "code",
   "execution_count": 78,
   "metadata": {},
   "outputs": [
    {
     "name": "stdout",
     "output_type": "stream",
     "text": [
      "32\n"
     ]
    }
   ],
   "source": [
    "config = dict(\n",
    "    epochs=301,\n",
    "    batch_size=32,\n",
    "    learning_rate=0.0000001,\n",
    "    dataset=\"medaka-img-2024-10-03\",\n",
    "    architecture=\"Convolutional NN Autoencoder - predict vertebrae counts\",\n",
    "    model=\"convnet-ae\",\n",
    "    train_img_rotation=10, # How much to rotate images during training\n",
    "    ckpt_freq=50, # How often to save model checkpoints\n",
    "    ckpt_dir=model_dir, # Directory to save model checkpoints\n",
    "    reconstruction_table_freq=50, # How often to save reconstruction table\n",
    "\n",
    ")\n",
    "\n",
    "print(config['batch_size'])"
   ]
  },
  {
   "cell_type": "markdown",
   "metadata": {},
   "source": [
    "## Load medaka data"
   ]
  },
  {
   "cell_type": "code",
   "execution_count": 15,
   "metadata": {},
   "outputs": [],
   "source": [
    "# Custom min-max scaling function to pass into Compose; transforms pixel values to range [0,1] for each image individually\n",
    "class MinMaxScaling:\n",
    "    def __call__(self, tensor):\n",
    "        return (tensor - tensor.min()) / (tensor.max() - tensor.min())"
   ]
  },
  {
   "cell_type": "code",
   "execution_count": 16,
   "metadata": {},
   "outputs": [
    {
     "name": "stderr",
     "output_type": "stream",
     "text": [
      "/hps/software/users/birney/esther/micromamba/envs/indigene-img/lib/python3.9/site-packages/torchvision/transforms/v2/_deprecated.py:42: UserWarning: The transform `ToTensor()` is deprecated and will be removed in a future release. Instead, please use `v2.Compose([v2.ToImage(), v2.ToDtype(torch.float32, scale=True)])`.Output is equivalent up to float precision.\n",
      "  warnings.warn(\n"
     ]
    }
   ],
   "source": [
    "# Compose image transformations\n",
    "# Based on testing below, MinMax scaling is the best normalization method for this dataset\n",
    "# Using mean and std of the dataset for normalization is maybe not representative of the entire dataset,\n",
    "# as the maximum value after normalization is 431.33228 (eg. subtracting the max pixel value, )\n",
    "transform = transforms.Compose([\n",
    "    transforms.ToTensor(),\n",
    "    transforms.Lambda(lambda img: transforms.functional.crop(img, 0, 0, 980, 1392)), # crop out bottom text\n",
    "    transforms.Resize((224, 224)),\n",
    "    # transforms.Resize((979, 979)), # resize to 979x979 to give 490x490 after first conv\n",
    "    # transforms.RandomCrop(64), # crop to 64x64\n",
    "    # transforms.Normalize(mean=(0, 0, 0), std=(1, 1, 1)) # temporarily, to get the mean and stdev of the dataset\n",
    "    # transforms.Normalize(mean=(0.035028, 0.000052371, 0.00043022), std=(0.0600, 0.0013, 0.0028))\n",
    "    # transforms.Normalize(mean=(0.485, 0.456, 0.406), std=(0.229, 0.224, 0.225)), # imagenet normalization -> returns black images\n",
    "    MinMaxScaling() # custom normalization\n",
    "])"
   ]
  },
  {
   "cell_type": "markdown",
   "metadata": {},
   "source": [
    "Flip all left-facing images to the right within the MedakaDataset class"
   ]
  },
  {
   "cell_type": "code",
   "execution_count": 17,
   "metadata": {},
   "outputs": [],
   "source": [
    "# Read in dataframe indicating whether the fish is facing left or right\n",
    "fish_direction_df= pd.read_csv(\"/nfs/research/birney/users/esther/medaka-img/scripts/left-facing-fish.csv\")\n",
    "\n",
    "# Only keep rows where the fish is facing left\n",
    "fish_left_df = fish_direction_df[fish_direction_df['left_facing'] == 'left']\n",
    "fish_left_df = fish_left_df.rename(columns={'Unnamed: 0': 'img_name'})"
   ]
  },
  {
   "cell_type": "code",
   "execution_count": 38,
   "metadata": {},
   "outputs": [],
   "source": [
    "class MedakaDataset(Dataset):\n",
    "    def __init__(self, csv_file, src_dir, transform=transform):\n",
    "        self.image_paths = pd.read_csv(csv_file)['img_name']\n",
    "        self.abdominal = pd.read_csv(csv_file)['abdominal']\n",
    "        self.caudal = pd.read_csv(csv_file)['caudal']\n",
    "\n",
    "        self.src_dir = src_dir\n",
    "        self.transform = transform\n",
    "\n",
    "    def __len__(self):\n",
    "        return len(self.image_paths)\n",
    "\n",
    "    def __getitem__(self, idx):\n",
    "        img_name = self.image_paths[idx]\n",
    "        img_path = f'{self.src_dir}/{img_name}'\n",
    "        abdominal = torch.tensor(self.abdominal[idx])\n",
    "        caudal = torch.tensor(self.caudal[idx])\n",
    "                \n",
    "        image = ski.io.imread(img_path)\n",
    "\n",
    "        # Convert to tensor, crop out bottom text, and normalize\n",
    "        if self.transform is not None:\n",
    "            image = self.transform(image)\n",
    "\n",
    "        # If facing left, flip the image horizontally\n",
    "        if os.path.splitext(img_name)[0] in fish_left_df['img_name'].values:\n",
    "            image = transforms.functional.hflip(image)\n",
    "\n",
    "        return image.to(device), img_name, abdominal.to(torch.float), caudal.to(torch.float) # in script cannot use .to(device) here"
   ]
  },
  {
   "cell_type": "code",
   "execution_count": 39,
   "metadata": {},
   "outputs": [
    {
     "name": "stdout",
     "output_type": "stream",
     "text": [
      "Total training set length: 1112\n",
      "Train length: 889\n",
      "Validation length: 223\n",
      "Test length:  1008\n"
     ]
    }
   ],
   "source": [
    "# Load dataset\n",
    "dataset = MedakaDataset(csv_file='train_set_2024-10-03.csv', \n",
    "                                src_dir='/nfs/research/birney/users/esther/medaka-img/src_files/train_2024-10-03/raw_images', \n",
    "                                transform=transform)\n",
    "\n",
    "train_len = int(len(dataset) * 0.8)\n",
    "val_len = len(dataset) - train_len\n",
    "\n",
    "train_dataset, val_dataset = random_split(dataset, [train_len, val_len])\n",
    "\n",
    "print(f\"Total training set length: {len(dataset)}\")\n",
    "print(f\"Train length: {train_len}\")\n",
    "print(f\"Validation length: {val_len}\")\n",
    "\n",
    "test_dataset = MedakaDataset(csv_file='test_set_2024-10-03 copy.csv',\n",
    "                                src_dir='/nfs/research/birney/users/esther/medaka-img/src_files/test_2024-10-03/raw_images',\n",
    "                                transform=transform)\n",
    "print(\"Test length: \", len(test_dataset))"
   ]
  },
  {
   "cell_type": "code",
   "execution_count": 69,
   "metadata": {},
   "outputs": [
    {
     "name": "stdout",
     "output_type": "stream",
     "text": [
      "tensor(30.)\n"
     ]
    }
   ],
   "source": [
    "print(dataset[0][2] + dataset[0][3])"
   ]
  },
  {
   "cell_type": "markdown",
   "metadata": {},
   "source": [
    "Implement checkpointing"
   ]
  },
  {
   "cell_type": "code",
   "execution_count": 22,
   "metadata": {},
   "outputs": [],
   "source": [
    "def save_checkpoint(model, optimizer, epoch, filename=\"checkpoint.pth.tar\"):\n",
    "    checkpoint = {\n",
    "        'epoch': epoch,\n",
    "        'model_state_dict': model.state_dict(),\n",
    "        'optimizer_state_dict': optimizer.state_dict()\n",
    "    }\n",
    "    os.makedirs(os.path.dirname(filename), exist_ok=True)\n",
    "    torch.save(checkpoint, filename)\n",
    "\n",
    "def load_checkpoint(filename, model, optimizer):\n",
    "    checkpoint = torch.load(filename)\n",
    "    model.load_state_dict(checkpoint['model_state_dict'])\n",
    "    optimizer.load_state_dict(checkpoint['optimizer_state_dict'])\n",
    "    return checkpoint['epoch']"
   ]
  },
  {
   "cell_type": "markdown",
   "metadata": {},
   "source": [
    "## Create training loop"
   ]
  },
  {
   "cell_type": "code",
   "execution_count": 23,
   "metadata": {},
   "outputs": [],
   "source": [
    "random_trans = transforms.Compose([\n",
    "        transforms.RandomRotation(config['train_img_rotation'])\n",
    "    ])"
   ]
  },
  {
   "cell_type": "code",
   "execution_count": 79,
   "metadata": {},
   "outputs": [],
   "source": [
    "def make(config):\n",
    "    # Make the data\n",
    "    train_loader = DataLoader(train_dataset, batch_size=config['batch_size'], shuffle=True)\n",
    "    val_loader = DataLoader(val_dataset, batch_size=config['batch_size'])\n",
    "\n",
    "    # Make the model\n",
    "    # model = ConvClassifier((3, 224, 224), 128)\n",
    "    model = ConvClassifierPretrained((3, 224, 224), 128)\n",
    "    checkpoint = torch.load(\"/hps/nobackup/birney/users/esther/medaka-img/models/checkpoints/convnet-ae-pytorch-medaka/fresh-resonance-35/ckpt-model-convnet-ae-run-fresh-resonance-35-epoch-300-val_loss-6.73119.pt\")\n",
    "    # checkpoint = torch.load(\"/hps/nobackup/birney/users/esther/medaka-img/models/checkpoints/convnet-ae-pytorch-medaka/morning-violet-31/ckpt-model-convnet-ae-run-morning-violet-31-epoch-200-val_loss-4.51547.pt\")\n",
    "    model.load_state_dict(checkpoint['model_state_dict'])\n",
    "    for idx, param in enumerate(model.parameters()):\n",
    "        param.requires_grad = False\n",
    "        if (idx > 17): \n",
    "            param.requires_grad = True\n",
    "    model.to(device)\n",
    "    # model = AutoEncoder(num_input, num_hidden_0, num_hidden_1, num_hidden_2, num_hidden_3, num_hidden_4).to(device)\n",
    "\n",
    "    # Make the loss and optimizer\n",
    "    criterion = nn.MSELoss()\n",
    "    optimizer = torch.optim.Adam(\n",
    "        model.parameters(), lr=config['learning_rate'])\n",
    "    optimizer.load_state_dict(checkpoint['optimizer_state_dict'])\n",
    "    \n",
    "    return model, train_loader, val_loader, criterion, optimizer"
   ]
  },
  {
   "cell_type": "code",
   "execution_count": 76,
   "metadata": {},
   "outputs": [],
   "source": [
    "def train(model, train_loader, val_loader, criterion, optimizer, run_name, config):\n",
    "    # Tell wandb to watch what the model gets up to: gradients, weights, and more!\n",
    "    wandb.watch(model, criterion, log=\"all\", log_freq=10)\n",
    "\n",
    "    # Create wandb table\n",
    "    columns = [\"epoch\", \"id\", \"num_vertebrae\", \"predicted_vertebrae\"]\n",
    "    test_table = wandb.Table(columns=columns)\n",
    "\n",
    "    # Run training and track with wandb\n",
    "    example_ct = 0  # number of examples seen\n",
    "    batch_ct = 0\n",
    "\n",
    "    for epoch in tqdm(range(config['epochs'])):\n",
    "        model.train()\n",
    "        for image, image_name, abdominal, caudal in train_loader:\n",
    "            image = random_trans(image)\n",
    "            # image = torch.reshape(random_trans(image),(-1, 224*224))\n",
    "            train_loss = train_batch(image, (abdominal + caudal), model, optimizer, criterion)\n",
    "            example_ct +=  len(image) # the batch size\n",
    "            batch_ct += 1\n",
    "\n",
    "        train_log(train_loss, example_ct, epoch)\n",
    "\n",
    "        model.eval()\n",
    "        with torch.no_grad():\n",
    "            val_loss = 0.0\n",
    "            for image, image_name, abdominal, caudal in val_loader:\n",
    "                # image = torch.reshape(image,(-1, 224*224))\n",
    "                image = random_trans(image)\n",
    "                image = image.to(device)\n",
    "                output = model(image)\n",
    "                loss = criterion(output.to(device), (abdominal + caudal).to(device))\n",
    "                val_loss += loss.item()\n",
    "\n",
    "            val_loss /= len(val_loader)\n",
    "            wandb.log({\"val_loss\": val_loss}, step=epoch)\n",
    "            print(f\"Validation loss: {val_loss:.5f}\")\n",
    "            \n",
    "        # Every 20th epoch, save model checkpoint\n",
    "        if (epoch == config['epochs'] - 1) or (epoch % 100 == 0) and (epoch != 0):\n",
    "            # date_time = datetime.now().strftime(\"%Y%m%d%H%M%S\")\n",
    "            ckpt_name = f\"ckpt-model-{config['model']}-run-{run_name}-epoch-{epoch}-val_loss-{val_loss:.5f}\"    \n",
    "\n",
    "            # save_checkpoint(model, optimizer, epoch, filename=f'{model_dir}/checkpoints/vanilla-ae-pytorch-medaka/{ckpt_name}-{date_time}.pt')\n",
    "            save_checkpoint(model, optimizer, epoch, filename=f'{model_dir}/checkpoints/convnet-ae-pytorch-medaka/{run_name}/{ckpt_name}.pt')\n",
    "\n",
    "        #     # model_checkpoint = wandb.Artifact(\n",
    "        #     #     name=ckpt_name,\n",
    "        #     #     type=\"model\").add_file(local_path=f'{model_dir}/checkpoints/vanilla-ae-pytorch-medaka/{ckpt_name}-{date_time}.pt')\n",
    "\n",
    "        #     # assert isinstance(model_checkpoint, wandb.Artifact), \"model_checkpoint is not a wandb.Artifact\"\n",
    "\n",
    "        #     wandb.log_artifact(\n",
    "        #         artifact_or_path=f'{model_dir}/checkpoints/vanilla-ae-pytorch-medaka/{run_name}/{ckpt_name}.pt', \n",
    "        #         type=\"model-checkpoint\",\n",
    "        #         aliases=[f\"model={config['model']}\", f\"architecture={config['architecture']}\", f\"epoch={epoch}\", f\"run={run_name}\"])   \n",
    "\n",
    "\n",
    "        # Every 50th epoch, output image reconstruction\n",
    "        if (epoch % 5 == 0):\n",
    "            print(\"Logging table at epoch\", epoch)\n",
    "            show_img, id, abdominal, caudal = val_dataset[0]\n",
    "            show_img = show_img.unsqueeze(0)\n",
    "            output = model(show_img.to(device)).cpu().detach().to(torch.float32)\n",
    "            # recon_img = model(show_img.to(device)).cpu().detach().to(torch.float32)\n",
    "            test_table.add_data(epoch, id, (abdominal + caudal), output.item())\n",
    "            test_table = wandb.Table(columns=columns, data=test_table.data)\n",
    "            wandb.log({\"Vertebrae classification performance\": test_table})\n",
    "\n",
    "\n",
    "def train_batch(image, count, model, optimizer, criterion):\n",
    "    image = image.to(device)\n",
    "    \n",
    "    # Forward pass\n",
    "    output = torch.squeeze(model(image))\n",
    "    loss = criterion(output.to(device), count.to(device))\n",
    "    \n",
    "    # Backward pass\n",
    "    optimizer.zero_grad()\n",
    "    loss.backward()\n",
    "\n",
    "    # Step with optimizer\n",
    "    optimizer.step()\n",
    "\n",
    "    return loss\n",
    "\n",
    "def train_log(loss, example_ct, epoch):\n",
    "    # Where the magic happens\n",
    "    wandb.log({\"epoch\": epoch, \"train loss\": loss}, step=epoch)\n",
    "    print(f\"Loss after {str(example_ct).zfill(5)} examples: {loss:.5f}\")"
   ]
  },
  {
   "cell_type": "code",
   "execution_count": 57,
   "metadata": {},
   "outputs": [],
   "source": [
    "\n",
    "def test(model, test_loader, criterion):\n",
    "    wandb.define_metric(\"img_name\")\n",
    "    wandb.define_metric(\"test_loss\", step_metric=\"img_name\")\n",
    "    columns = [\"id\", \"image\", \"reconstructed\"]\n",
    "    test_set_table = wandb.Table(columns=columns)\n",
    "\n",
    "    model.eval()\n",
    "\n",
    "    # Run the model on some test examples\n",
    "    with torch.no_grad():\n",
    "        counter = 0\n",
    "        for image, image_name in test_loader:\n",
    "            image = image.to(device)\n",
    "            output = model(image)\n",
    "            loss = criterion(output, image)\n",
    "            counter += 1\n",
    "            log_dict = {\"img_name\": image_name, \n",
    "                        \"test_loss\": loss\n",
    "                }\n",
    "\n",
    "            print(f\"Test Loss: {loss:.6f}\")\n",
    "            wandb.log(log_dict)\n",
    "\n",
    "            if counter % 10 == 0:\n",
    "                print(\"Logging table for image \", image_name)\n",
    "                show_img = image\n",
    "                recon_img = model(show_img.to(device)).cpu().detach().to(torch.float32)\n",
    "                test_set_table.add_data(image_name, wandb.Image(show_img), wandb.Image(recon_img))\n",
    "                test_set_table = wandb.Table(columns=columns, data=test_set_table.data)\n",
    "                wandb.log({\"Image reconstruction performance\": test_set_table})\n",
    "        \n",
    "        # wandb.log({\"vali\": correct / total})\n",
    "\n",
    "    # Save the model in the exchangeable ONNX format\n",
    "    # torch.onnx.export(model, image, \"model.onnx\")\n",
    "    # wandb.save(\"model.onnx\")"
   ]
  },
  {
   "cell_type": "code",
   "execution_count": 66,
   "metadata": {},
   "outputs": [],
   "source": [
    "model = AutoEncoderConv((3, 224, 224), 128).to(device)\n",
    "optimizer = torch.optim.Adam(model.parameters(), lr=0.001)\n",
    "\n",
    "checkpoint = torch.load(f'{model_dir}/checkpoints/convnet-ae-pytorch-medaka/amber-sweep-1/ckpt-model-convnet-ae-run-amber-sweep-1-epoch-499-time-2024-10-29-1820.pt')\n",
    "model.load_state_dict(checkpoint['model_state_dict'])\n",
    "optimizer.load_state_dict(checkpoint['optimizer_state_dict'])\n",
    "epoch = checkpoint['epoch']\n",
    "criterion = nn.MSELoss()\n",
    "\n",
    "test_loader = DataLoader(test_dataset, batch_size=1, shuffle=True)"
   ]
  },
  {
   "cell_type": "markdown",
   "metadata": {},
   "source": []
  },
  {
   "cell_type": "code",
   "execution_count": 28,
   "metadata": {},
   "outputs": [],
   "source": [
    "def model_pipeline(hyperparameters):\n",
    "    run = wandb.init(project=\"convnet-ae-pytorch-medaka\", config=hyperparameters)\n",
    "    # tell wandb to get started\n",
    "    with run:\n",
    "      run_name = run.name\n",
    "      # make the model, data, and optimization problem\n",
    "      model, train_loader, val_loader, criterion, optimizer = make(hyperparameters)\n",
    "\n",
    "      # and use them to train the model\n",
    "      train(model, train_loader, val_loader, criterion, optimizer, run_name, hyperparameters)\n",
    "\n",
    "      # and test its final performance\n",
    "      # test(model, test_loader, nn.CrossEntropyLoss())\n",
    "\n",
    "    run.finish()\n",
    "\n",
    "    return model, run_name"
   ]
  },
  {
   "cell_type": "code",
   "execution_count": 80,
   "metadata": {},
   "outputs": [
    {
     "data": {
      "text/html": [
       "Tracking run with wandb version 0.18.3"
      ],
      "text/plain": [
       "<IPython.core.display.HTML object>"
      ]
     },
     "metadata": {},
     "output_type": "display_data"
    },
    {
     "data": {
      "text/html": [
       "Run data is saved locally in <code>/nfs/research/birney/users/esther/medaka-img/src_files/wandb/run-20241103_012508-pf3sxufx</code>"
      ],
      "text/plain": [
       "<IPython.core.display.HTML object>"
      ]
     },
     "metadata": {},
     "output_type": "display_data"
    },
    {
     "data": {
      "text/html": [
       "Syncing run <strong><a href='https://wandb.ai/ey267-university-of-cambridge/convnet-ae-pytorch-medaka/runs/pf3sxufx' target=\"_blank\">wandering-snow-36</a></strong> to <a href='https://wandb.ai/ey267-university-of-cambridge/convnet-ae-pytorch-medaka' target=\"_blank\">Weights & Biases</a> (<a href='https://wandb.me/run' target=\"_blank\">docs</a>)<br/>"
      ],
      "text/plain": [
       "<IPython.core.display.HTML object>"
      ]
     },
     "metadata": {},
     "output_type": "display_data"
    },
    {
     "data": {
      "text/html": [
       " View project at <a href='https://wandb.ai/ey267-university-of-cambridge/convnet-ae-pytorch-medaka' target=\"_blank\">https://wandb.ai/ey267-university-of-cambridge/convnet-ae-pytorch-medaka</a>"
      ],
      "text/plain": [
       "<IPython.core.display.HTML object>"
      ]
     },
     "metadata": {},
     "output_type": "display_data"
    },
    {
     "data": {
      "text/html": [
       " View run at <a href='https://wandb.ai/ey267-university-of-cambridge/convnet-ae-pytorch-medaka/runs/pf3sxufx' target=\"_blank\">https://wandb.ai/ey267-university-of-cambridge/convnet-ae-pytorch-medaka/runs/pf3sxufx</a>"
      ],
      "text/plain": [
       "<IPython.core.display.HTML object>"
      ]
     },
     "metadata": {},
     "output_type": "display_data"
    },
    {
     "name": "stderr",
     "output_type": "stream",
     "text": [
      "  0%|          | 0/301 [00:00<?, ?it/s]"
     ]
    },
    {
     "name": "stdout",
     "output_type": "stream",
     "text": [
      "Loss after 00889 examples: 3.54618\n"
     ]
    },
    {
     "name": "stderr",
     "output_type": "stream",
     "text": [
      "/hps/software/users/birney/esther/micromamba/envs/indigene-img/lib/python3.9/site-packages/torch/nn/modules/loss.py:535: UserWarning: Using a target size (torch.Size([32])) that is different to the input size (torch.Size([32, 1])). This will likely lead to incorrect results due to broadcasting. Please ensure they have the same size.\n",
      "  return F.mse_loss(input, target, reduction=self.reduction)\n",
      "/hps/software/users/birney/esther/micromamba/envs/indigene-img/lib/python3.9/site-packages/torch/nn/modules/loss.py:535: UserWarning: Using a target size (torch.Size([31])) that is different to the input size (torch.Size([31, 1])). This will likely lead to incorrect results due to broadcasting. Please ensure they have the same size.\n",
      "  return F.mse_loss(input, target, reduction=self.reduction)\n"
     ]
    },
    {
     "name": "stdout",
     "output_type": "stream",
     "text": [
      "Validation loss: 6.70740\n",
      "Logging table at epoch 0\n"
     ]
    },
    {
     "name": "stderr",
     "output_type": "stream",
     "text": [
      "  0%|          | 1/301 [00:05<27:05,  5.42s/it]"
     ]
    },
    {
     "name": "stdout",
     "output_type": "stream",
     "text": [
      "Loss after 01778 examples: 6.13343\n"
     ]
    },
    {
     "name": "stderr",
     "output_type": "stream",
     "text": [
      "  1%|          | 2/301 [00:10<25:02,  5.03s/it]"
     ]
    },
    {
     "name": "stdout",
     "output_type": "stream",
     "text": [
      "Validation loss: 6.31914\n",
      "Loss after 02667 examples: 6.43655\n"
     ]
    },
    {
     "name": "stderr",
     "output_type": "stream",
     "text": [
      "  1%|          | 3/301 [00:14<24:00,  4.83s/it]"
     ]
    },
    {
     "name": "stdout",
     "output_type": "stream",
     "text": [
      "Validation loss: 6.61718\n",
      "Loss after 03556 examples: 8.86442\n"
     ]
    },
    {
     "name": "stderr",
     "output_type": "stream",
     "text": [
      "  1%|▏         | 4/301 [00:19<23:42,  4.79s/it]"
     ]
    },
    {
     "name": "stdout",
     "output_type": "stream",
     "text": [
      "Validation loss: 7.11964\n",
      "Loss after 04445 examples: 5.14659\n"
     ]
    },
    {
     "name": "stderr",
     "output_type": "stream",
     "text": [
      "  2%|▏         | 5/301 [00:24<23:17,  4.72s/it]"
     ]
    },
    {
     "name": "stdout",
     "output_type": "stream",
     "text": [
      "Validation loss: 5.56779\n",
      "Loss after 05334 examples: 5.64664\n",
      "Validation loss: 7.57910\n",
      "Logging table at epoch 5\n"
     ]
    },
    {
     "name": "stderr",
     "output_type": "stream",
     "text": [
      "  2%|▏         | 6/301 [00:28<23:28,  4.77s/it]"
     ]
    },
    {
     "name": "stdout",
     "output_type": "stream",
     "text": [
      "Loss after 06223 examples: 2.75406\n"
     ]
    },
    {
     "name": "stderr",
     "output_type": "stream",
     "text": [
      "  2%|▏         | 7/301 [00:33<23:18,  4.76s/it]"
     ]
    },
    {
     "name": "stdout",
     "output_type": "stream",
     "text": [
      "Validation loss: 6.36538\n",
      "Loss after 07112 examples: 6.20380\n"
     ]
    },
    {
     "name": "stderr",
     "output_type": "stream",
     "text": [
      "  3%|▎         | 8/301 [00:38<23:05,  4.73s/it]"
     ]
    },
    {
     "name": "stdout",
     "output_type": "stream",
     "text": [
      "Validation loss: 6.89377\n",
      "Loss after 08001 examples: 10.22134\n"
     ]
    },
    {
     "name": "stderr",
     "output_type": "stream",
     "text": [
      "  3%|▎         | 9/301 [00:43<22:59,  4.72s/it]"
     ]
    },
    {
     "name": "stdout",
     "output_type": "stream",
     "text": [
      "Validation loss: 6.24487\n",
      "Loss after 08890 examples: 6.07682\n"
     ]
    },
    {
     "name": "stderr",
     "output_type": "stream",
     "text": [
      "  3%|▎         | 10/301 [00:47<22:55,  4.73s/it]"
     ]
    },
    {
     "name": "stdout",
     "output_type": "stream",
     "text": [
      "Validation loss: 6.50126\n",
      "Loss after 09779 examples: 2.85434\n",
      "Validation loss: 6.77053\n",
      "Logging table at epoch 10\n"
     ]
    },
    {
     "name": "stderr",
     "output_type": "stream",
     "text": [
      "  4%|▎         | 11/301 [00:52<23:06,  4.78s/it]"
     ]
    },
    {
     "name": "stdout",
     "output_type": "stream",
     "text": [
      "Loss after 10668 examples: 4.19314\n"
     ]
    },
    {
     "name": "stderr",
     "output_type": "stream",
     "text": [
      "  4%|▍         | 12/301 [00:57<22:56,  4.76s/it]"
     ]
    },
    {
     "name": "stdout",
     "output_type": "stream",
     "text": [
      "Validation loss: 6.37347\n",
      "Loss after 11557 examples: 4.31361\n"
     ]
    },
    {
     "name": "stderr",
     "output_type": "stream",
     "text": [
      "  4%|▍         | 13/301 [01:02<22:40,  4.73s/it]"
     ]
    },
    {
     "name": "stdout",
     "output_type": "stream",
     "text": [
      "Validation loss: 6.62985\n",
      "Loss after 12446 examples: 4.23672\n"
     ]
    },
    {
     "name": "stderr",
     "output_type": "stream",
     "text": [
      "  5%|▍         | 14/301 [01:06<22:34,  4.72s/it]"
     ]
    },
    {
     "name": "stdout",
     "output_type": "stream",
     "text": [
      "Validation loss: 7.04550\n",
      "Loss after 13335 examples: 8.28468\n"
     ]
    },
    {
     "name": "stderr",
     "output_type": "stream",
     "text": [
      "  5%|▍         | 15/301 [01:11<22:16,  4.67s/it]"
     ]
    },
    {
     "name": "stdout",
     "output_type": "stream",
     "text": [
      "Validation loss: 6.53389\n",
      "Loss after 14224 examples: 8.16170\n",
      "Validation loss: 7.67533\n",
      "Logging table at epoch 15\n"
     ]
    },
    {
     "name": "stderr",
     "output_type": "stream",
     "text": [
      "  5%|▌         | 16/301 [01:16<22:30,  4.74s/it]"
     ]
    },
    {
     "name": "stdout",
     "output_type": "stream",
     "text": [
      "Loss after 15113 examples: 7.60440\n"
     ]
    },
    {
     "name": "stderr",
     "output_type": "stream",
     "text": [
      "  6%|▌         | 17/301 [01:20<22:19,  4.72s/it]"
     ]
    },
    {
     "name": "stdout",
     "output_type": "stream",
     "text": [
      "Validation loss: 6.53332\n",
      "Loss after 16002 examples: 12.48705\n"
     ]
    },
    {
     "name": "stderr",
     "output_type": "stream",
     "text": [
      "  6%|▌         | 18/301 [01:25<22:10,  4.70s/it]"
     ]
    },
    {
     "name": "stdout",
     "output_type": "stream",
     "text": [
      "Validation loss: 7.43520\n",
      "Loss after 16891 examples: 7.59782\n"
     ]
    },
    {
     "name": "stderr",
     "output_type": "stream",
     "text": [
      "  6%|▋         | 19/301 [01:30<21:58,  4.67s/it]"
     ]
    },
    {
     "name": "stdout",
     "output_type": "stream",
     "text": [
      "Validation loss: 7.15581\n",
      "Loss after 17780 examples: 5.15904\n"
     ]
    },
    {
     "name": "stderr",
     "output_type": "stream",
     "text": [
      "  7%|▋         | 20/301 [01:34<21:55,  4.68s/it]"
     ]
    },
    {
     "name": "stdout",
     "output_type": "stream",
     "text": [
      "Validation loss: 7.61657\n",
      "Loss after 18669 examples: 4.27729\n",
      "Validation loss: 6.56096\n",
      "Logging table at epoch 20\n"
     ]
    },
    {
     "name": "stderr",
     "output_type": "stream",
     "text": [
      "  7%|▋         | 21/301 [01:39<22:19,  4.78s/it]"
     ]
    },
    {
     "name": "stdout",
     "output_type": "stream",
     "text": [
      "Loss after 19558 examples: 5.71383\n"
     ]
    },
    {
     "name": "stderr",
     "output_type": "stream",
     "text": [
      "  7%|▋         | 22/301 [01:44<21:57,  4.72s/it]"
     ]
    },
    {
     "name": "stdout",
     "output_type": "stream",
     "text": [
      "Validation loss: 6.54895\n",
      "Loss after 20447 examples: 5.24954\n"
     ]
    },
    {
     "name": "stderr",
     "output_type": "stream",
     "text": [
      "  8%|▊         | 23/301 [01:49<21:54,  4.73s/it]"
     ]
    },
    {
     "name": "stdout",
     "output_type": "stream",
     "text": [
      "Validation loss: 6.82153\n",
      "Loss after 21336 examples: 5.32033\n"
     ]
    },
    {
     "name": "stderr",
     "output_type": "stream",
     "text": [
      "  8%|▊         | 24/301 [01:53<21:40,  4.69s/it]"
     ]
    },
    {
     "name": "stdout",
     "output_type": "stream",
     "text": [
      "Validation loss: 6.85434\n",
      "Loss after 22225 examples: 4.28822\n"
     ]
    },
    {
     "name": "stderr",
     "output_type": "stream",
     "text": [
      "  8%|▊         | 25/301 [01:58<21:38,  4.70s/it]"
     ]
    },
    {
     "name": "stdout",
     "output_type": "stream",
     "text": [
      "Validation loss: 6.57839\n",
      "Loss after 23114 examples: 7.25984\n"
     ]
    },
    {
     "name": "stderr",
     "output_type": "stream",
     "text": [
      "  9%|▊         | 26/301 [02:03<21:39,  4.72s/it]"
     ]
    },
    {
     "name": "stdout",
     "output_type": "stream",
     "text": [
      "Validation loss: 6.20096\n",
      "Logging table at epoch 25\n",
      "Loss after 24003 examples: 7.71101\n"
     ]
    },
    {
     "name": "stderr",
     "output_type": "stream",
     "text": [
      "  9%|▉         | 27/301 [02:07<21:29,  4.71s/it]"
     ]
    },
    {
     "name": "stdout",
     "output_type": "stream",
     "text": [
      "Validation loss: 6.93088\n",
      "Loss after 24892 examples: 4.54933\n"
     ]
    },
    {
     "name": "stderr",
     "output_type": "stream",
     "text": [
      "  9%|▉         | 28/301 [02:12<21:10,  4.65s/it]"
     ]
    },
    {
     "name": "stdout",
     "output_type": "stream",
     "text": [
      "Validation loss: 6.26154\n",
      "Loss after 25781 examples: 5.32195\n"
     ]
    },
    {
     "name": "stderr",
     "output_type": "stream",
     "text": [
      " 10%|▉         | 29/301 [02:17<21:07,  4.66s/it]"
     ]
    },
    {
     "name": "stdout",
     "output_type": "stream",
     "text": [
      "Validation loss: 6.82083\n",
      "Loss after 26670 examples: 3.81400\n"
     ]
    },
    {
     "name": "stderr",
     "output_type": "stream",
     "text": [
      " 10%|▉         | 30/301 [02:21<21:03,  4.66s/it]"
     ]
    },
    {
     "name": "stdout",
     "output_type": "stream",
     "text": [
      "Validation loss: 6.27865\n",
      "Loss after 27559 examples: 9.42275\n"
     ]
    },
    {
     "name": "stderr",
     "output_type": "stream",
     "text": [
      " 10%|█         | 31/301 [02:26<21:13,  4.72s/it]"
     ]
    },
    {
     "name": "stdout",
     "output_type": "stream",
     "text": [
      "Validation loss: 8.03910\n",
      "Logging table at epoch 30\n",
      "Loss after 28448 examples: 3.10377\n"
     ]
    },
    {
     "name": "stderr",
     "output_type": "stream",
     "text": [
      " 11%|█         | 32/301 [02:31<20:58,  4.68s/it]"
     ]
    },
    {
     "name": "stdout",
     "output_type": "stream",
     "text": [
      "Validation loss: 6.81624\n",
      "Loss after 29337 examples: 5.02199\n"
     ]
    },
    {
     "name": "stderr",
     "output_type": "stream",
     "text": [
      " 11%|█         | 33/301 [02:35<20:53,  4.68s/it]"
     ]
    },
    {
     "name": "stdout",
     "output_type": "stream",
     "text": [
      "Validation loss: 7.05680\n",
      "Loss after 30226 examples: 6.53050\n"
     ]
    },
    {
     "name": "stderr",
     "output_type": "stream",
     "text": [
      " 11%|█▏        | 34/301 [02:40<20:41,  4.65s/it]"
     ]
    },
    {
     "name": "stdout",
     "output_type": "stream",
     "text": [
      "Validation loss: 6.17189\n",
      "Loss after 31115 examples: 4.34232\n"
     ]
    },
    {
     "name": "stderr",
     "output_type": "stream",
     "text": [
      " 12%|█▏        | 35/301 [02:45<20:41,  4.67s/it]"
     ]
    },
    {
     "name": "stdout",
     "output_type": "stream",
     "text": [
      "Validation loss: 6.99802\n",
      "Loss after 32004 examples: 7.70938\n"
     ]
    },
    {
     "name": "stderr",
     "output_type": "stream",
     "text": [
      " 12%|█▏        | 36/301 [02:50<20:48,  4.71s/it]"
     ]
    },
    {
     "name": "stdout",
     "output_type": "stream",
     "text": [
      "Validation loss: 6.98170\n",
      "Logging table at epoch 35\n",
      "Loss after 32893 examples: 6.45170\n"
     ]
    },
    {
     "name": "stderr",
     "output_type": "stream",
     "text": [
      " 12%|█▏        | 37/301 [02:54<20:42,  4.71s/it]"
     ]
    },
    {
     "name": "stdout",
     "output_type": "stream",
     "text": [
      "Validation loss: 7.65817\n",
      "Loss after 33782 examples: 6.31953\n"
     ]
    },
    {
     "name": "stderr",
     "output_type": "stream",
     "text": [
      " 13%|█▎        | 38/301 [02:59<20:32,  4.69s/it]"
     ]
    },
    {
     "name": "stdout",
     "output_type": "stream",
     "text": [
      "Validation loss: 7.12432\n",
      "Loss after 34671 examples: 6.25838\n"
     ]
    },
    {
     "name": "stderr",
     "output_type": "stream",
     "text": [
      " 13%|█▎        | 39/301 [03:04<20:37,  4.73s/it]"
     ]
    },
    {
     "name": "stdout",
     "output_type": "stream",
     "text": [
      "Validation loss: 6.76315\n",
      "Loss after 35560 examples: 5.62143\n"
     ]
    },
    {
     "name": "stderr",
     "output_type": "stream",
     "text": [
      " 13%|█▎        | 40/301 [03:08<20:28,  4.71s/it]"
     ]
    },
    {
     "name": "stdout",
     "output_type": "stream",
     "text": [
      "Validation loss: 6.46052\n",
      "Loss after 36449 examples: 5.71884\n",
      "Validation loss: 6.08693\n",
      "Logging table at epoch 40\n"
     ]
    },
    {
     "name": "stderr",
     "output_type": "stream",
     "text": [
      " 14%|█▎        | 41/301 [03:13<20:45,  4.79s/it]"
     ]
    },
    {
     "name": "stdout",
     "output_type": "stream",
     "text": [
      "Loss after 37338 examples: 5.29576\n"
     ]
    },
    {
     "name": "stderr",
     "output_type": "stream",
     "text": [
      " 14%|█▍        | 42/301 [03:18<20:38,  4.78s/it]"
     ]
    },
    {
     "name": "stdout",
     "output_type": "stream",
     "text": [
      "Validation loss: 7.35983\n",
      "Loss after 38227 examples: 4.98080\n"
     ]
    },
    {
     "name": "stderr",
     "output_type": "stream",
     "text": [
      " 14%|█▍        | 43/301 [03:23<20:39,  4.81s/it]"
     ]
    },
    {
     "name": "stdout",
     "output_type": "stream",
     "text": [
      "Validation loss: 5.87894\n",
      "Loss after 39116 examples: 5.81494\n"
     ]
    },
    {
     "name": "stderr",
     "output_type": "stream",
     "text": [
      " 15%|█▍        | 44/301 [03:28<20:24,  4.76s/it]"
     ]
    },
    {
     "name": "stdout",
     "output_type": "stream",
     "text": [
      "Validation loss: 5.49244\n",
      "Loss after 40005 examples: 3.54406\n"
     ]
    },
    {
     "name": "stderr",
     "output_type": "stream",
     "text": [
      " 15%|█▍        | 45/301 [03:32<20:18,  4.76s/it]"
     ]
    },
    {
     "name": "stdout",
     "output_type": "stream",
     "text": [
      "Validation loss: 5.91392\n",
      "Loss after 40894 examples: 3.81547\n",
      "Validation loss: 6.45125\n",
      "Logging table at epoch 45\n"
     ]
    },
    {
     "name": "stderr",
     "output_type": "stream",
     "text": [
      " 15%|█▌        | 46/301 [03:37<20:33,  4.84s/it]"
     ]
    },
    {
     "name": "stdout",
     "output_type": "stream",
     "text": [
      "Loss after 41783 examples: 5.67714\n"
     ]
    },
    {
     "name": "stderr",
     "output_type": "stream",
     "text": [
      " 16%|█▌        | 47/301 [03:42<20:17,  4.79s/it]"
     ]
    },
    {
     "name": "stdout",
     "output_type": "stream",
     "text": [
      "Validation loss: 7.44392\n",
      "Loss after 42672 examples: 5.79025\n"
     ]
    },
    {
     "name": "stderr",
     "output_type": "stream",
     "text": [
      " 16%|█▌        | 48/301 [03:47<20:08,  4.78s/it]"
     ]
    },
    {
     "name": "stdout",
     "output_type": "stream",
     "text": [
      "Validation loss: 6.05646\n",
      "Loss after 43561 examples: 4.64692\n"
     ]
    },
    {
     "name": "stderr",
     "output_type": "stream",
     "text": [
      " 16%|█▋        | 49/301 [03:52<19:57,  4.75s/it]"
     ]
    },
    {
     "name": "stdout",
     "output_type": "stream",
     "text": [
      "Validation loss: 7.29162\n",
      "Loss after 44450 examples: 8.20778\n"
     ]
    },
    {
     "name": "stderr",
     "output_type": "stream",
     "text": [
      " 17%|█▋        | 50/301 [03:56<19:55,  4.76s/it]"
     ]
    },
    {
     "name": "stdout",
     "output_type": "stream",
     "text": [
      "Validation loss: 6.87719\n",
      "Loss after 45339 examples: 3.76726\n",
      "Validation loss: 7.08694\n",
      "Logging table at epoch 50\n"
     ]
    },
    {
     "name": "stderr",
     "output_type": "stream",
     "text": [
      " 17%|█▋        | 51/301 [04:01<20:02,  4.81s/it]"
     ]
    },
    {
     "name": "stdout",
     "output_type": "stream",
     "text": [
      "Loss after 46228 examples: 10.21383\n"
     ]
    },
    {
     "name": "stderr",
     "output_type": "stream",
     "text": [
      " 17%|█▋        | 52/301 [04:06<19:54,  4.80s/it]"
     ]
    },
    {
     "name": "stdout",
     "output_type": "stream",
     "text": [
      "Validation loss: 8.08515\n",
      "Loss after 47117 examples: 5.50613\n"
     ]
    },
    {
     "name": "stderr",
     "output_type": "stream",
     "text": [
      " 18%|█▊        | 53/301 [04:11<19:42,  4.77s/it]"
     ]
    },
    {
     "name": "stdout",
     "output_type": "stream",
     "text": [
      "Validation loss: 5.99275\n",
      "Loss after 48006 examples: 7.51229\n"
     ]
    },
    {
     "name": "stderr",
     "output_type": "stream",
     "text": [
      " 18%|█▊        | 54/301 [04:15<19:32,  4.75s/it]"
     ]
    },
    {
     "name": "stdout",
     "output_type": "stream",
     "text": [
      "Validation loss: 7.10773\n",
      "Loss after 48895 examples: 4.43114\n"
     ]
    },
    {
     "name": "stderr",
     "output_type": "stream",
     "text": [
      " 18%|█▊        | 55/301 [04:20<19:25,  4.74s/it]"
     ]
    },
    {
     "name": "stdout",
     "output_type": "stream",
     "text": [
      "Validation loss: 7.17508\n",
      "Loss after 49784 examples: 6.58545\n"
     ]
    },
    {
     "name": "stderr",
     "output_type": "stream",
     "text": [
      " 19%|█▊        | 56/301 [04:25<19:35,  4.80s/it]"
     ]
    },
    {
     "name": "stdout",
     "output_type": "stream",
     "text": [
      "Validation loss: 5.93483\n",
      "Logging table at epoch 55\n",
      "Loss after 50673 examples: 4.75737\n"
     ]
    },
    {
     "name": "stderr",
     "output_type": "stream",
     "text": [
      " 19%|█▉        | 57/301 [04:30<19:25,  4.78s/it]"
     ]
    },
    {
     "name": "stdout",
     "output_type": "stream",
     "text": [
      "Validation loss: 6.46573\n",
      "Loss after 51562 examples: 3.92201\n"
     ]
    },
    {
     "name": "stderr",
     "output_type": "stream",
     "text": [
      " 19%|█▉        | 58/301 [04:35<19:24,  4.79s/it]"
     ]
    },
    {
     "name": "stdout",
     "output_type": "stream",
     "text": [
      "Validation loss: 6.39470\n",
      "Loss after 52451 examples: 5.94612\n"
     ]
    },
    {
     "name": "stderr",
     "output_type": "stream",
     "text": [
      " 20%|█▉        | 59/301 [04:39<19:13,  4.77s/it]"
     ]
    },
    {
     "name": "stdout",
     "output_type": "stream",
     "text": [
      "Validation loss: 6.18834\n",
      "Loss after 53340 examples: 3.03906\n"
     ]
    },
    {
     "name": "stderr",
     "output_type": "stream",
     "text": [
      " 20%|█▉        | 60/301 [04:44<19:03,  4.74s/it]"
     ]
    },
    {
     "name": "stdout",
     "output_type": "stream",
     "text": [
      "Validation loss: 6.75165\n",
      "Loss after 54229 examples: 5.43625\n",
      "Validation loss: 6.96214\n",
      "Logging table at epoch 60\n"
     ]
    },
    {
     "name": "stderr",
     "output_type": "stream",
     "text": [
      " 20%|██        | 61/301 [04:49<19:13,  4.80s/it]"
     ]
    },
    {
     "name": "stdout",
     "output_type": "stream",
     "text": [
      "Loss after 55118 examples: 6.17832\n"
     ]
    },
    {
     "name": "stderr",
     "output_type": "stream",
     "text": [
      " 21%|██        | 62/301 [04:54<19:00,  4.77s/it]"
     ]
    },
    {
     "name": "stdout",
     "output_type": "stream",
     "text": [
      "Validation loss: 6.58316\n",
      "Loss after 56007 examples: 9.99833\n"
     ]
    },
    {
     "name": "stderr",
     "output_type": "stream",
     "text": [
      " 21%|██        | 63/301 [04:58<18:42,  4.71s/it]"
     ]
    },
    {
     "name": "stdout",
     "output_type": "stream",
     "text": [
      "Validation loss: 6.07358\n",
      "Loss after 56896 examples: 4.59162\n"
     ]
    },
    {
     "name": "stderr",
     "output_type": "stream",
     "text": [
      " 21%|██▏       | 64/301 [05:03<18:34,  4.70s/it]"
     ]
    },
    {
     "name": "stdout",
     "output_type": "stream",
     "text": [
      "Validation loss: 6.59945\n",
      "Loss after 57785 examples: 7.89168\n"
     ]
    },
    {
     "name": "stderr",
     "output_type": "stream",
     "text": [
      " 22%|██▏       | 65/301 [05:08<18:21,  4.67s/it]"
     ]
    },
    {
     "name": "stdout",
     "output_type": "stream",
     "text": [
      "Validation loss: 6.97154\n",
      "Loss after 58674 examples: 4.90930\n"
     ]
    },
    {
     "name": "stderr",
     "output_type": "stream",
     "text": [
      " 22%|██▏       | 66/301 [05:12<18:32,  4.73s/it]"
     ]
    },
    {
     "name": "stdout",
     "output_type": "stream",
     "text": [
      "Validation loss: 6.56638\n",
      "Logging table at epoch 65\n",
      "Loss after 59563 examples: 5.06380\n"
     ]
    },
    {
     "name": "stderr",
     "output_type": "stream",
     "text": [
      " 22%|██▏       | 67/301 [05:17<18:16,  4.69s/it]"
     ]
    },
    {
     "name": "stdout",
     "output_type": "stream",
     "text": [
      "Validation loss: 6.28203\n",
      "Loss after 60452 examples: 4.65777\n"
     ]
    },
    {
     "name": "stderr",
     "output_type": "stream",
     "text": [
      " 23%|██▎       | 68/301 [05:22<18:15,  4.70s/it]"
     ]
    },
    {
     "name": "stdout",
     "output_type": "stream",
     "text": [
      "Validation loss: 6.54347\n",
      "Loss after 61341 examples: 4.17874\n"
     ]
    },
    {
     "name": "stderr",
     "output_type": "stream",
     "text": [
      " 23%|██▎       | 69/301 [05:26<18:12,  4.71s/it]"
     ]
    },
    {
     "name": "stdout",
     "output_type": "stream",
     "text": [
      "Validation loss: 7.19297\n",
      "Loss after 62230 examples: 3.94307\n"
     ]
    },
    {
     "name": "stderr",
     "output_type": "stream",
     "text": [
      " 23%|██▎       | 70/301 [05:31<18:02,  4.69s/it]"
     ]
    },
    {
     "name": "stdout",
     "output_type": "stream",
     "text": [
      "Validation loss: 7.79585\n",
      "Loss after 63119 examples: 6.52270\n",
      "Validation loss: 6.30589\n",
      "Logging table at epoch 70\n"
     ]
    },
    {
     "name": "stderr",
     "output_type": "stream",
     "text": [
      " 24%|██▎       | 71/301 [05:36<18:08,  4.73s/it]"
     ]
    },
    {
     "name": "stdout",
     "output_type": "stream",
     "text": [
      "Loss after 64008 examples: 5.56689\n"
     ]
    },
    {
     "name": "stderr",
     "output_type": "stream",
     "text": [
      " 24%|██▍       | 72/301 [05:41<17:55,  4.70s/it]"
     ]
    },
    {
     "name": "stdout",
     "output_type": "stream",
     "text": [
      "Validation loss: 6.21924\n",
      "Loss after 64897 examples: 5.38494\n"
     ]
    },
    {
     "name": "stderr",
     "output_type": "stream",
     "text": [
      " 24%|██▍       | 73/301 [05:45<17:46,  4.68s/it]"
     ]
    },
    {
     "name": "stdout",
     "output_type": "stream",
     "text": [
      "Validation loss: 5.83297\n",
      "Loss after 65786 examples: 10.11095\n"
     ]
    },
    {
     "name": "stderr",
     "output_type": "stream",
     "text": [
      " 25%|██▍       | 74/301 [05:50<17:41,  4.67s/it]"
     ]
    },
    {
     "name": "stdout",
     "output_type": "stream",
     "text": [
      "Validation loss: 6.94121\n",
      "Loss after 66675 examples: 5.26374\n"
     ]
    },
    {
     "name": "stderr",
     "output_type": "stream",
     "text": [
      " 25%|██▍       | 75/301 [05:54<17:35,  4.67s/it]"
     ]
    },
    {
     "name": "stdout",
     "output_type": "stream",
     "text": [
      "Validation loss: 6.24214\n",
      "Loss after 67564 examples: 6.08634\n",
      "Validation loss: 5.81109\n",
      "Logging table at epoch 75\n"
     ]
    },
    {
     "name": "stderr",
     "output_type": "stream",
     "text": [
      " 25%|██▌       | 76/301 [05:59<17:41,  4.72s/it]"
     ]
    },
    {
     "name": "stdout",
     "output_type": "stream",
     "text": [
      "Loss after 68453 examples: 7.89036\n"
     ]
    },
    {
     "name": "stderr",
     "output_type": "stream",
     "text": [
      " 26%|██▌       | 77/301 [06:04<17:31,  4.70s/it]"
     ]
    },
    {
     "name": "stdout",
     "output_type": "stream",
     "text": [
      "Validation loss: 7.06585\n",
      "Loss after 69342 examples: 3.02948\n"
     ]
    },
    {
     "name": "stderr",
     "output_type": "stream",
     "text": [
      " 26%|██▌       | 78/301 [06:08<17:15,  4.64s/it]"
     ]
    },
    {
     "name": "stdout",
     "output_type": "stream",
     "text": [
      "Validation loss: 7.42320\n",
      "Loss after 70231 examples: 7.75881\n"
     ]
    },
    {
     "name": "stderr",
     "output_type": "stream",
     "text": [
      " 26%|██▌       | 79/301 [06:13<17:13,  4.65s/it]"
     ]
    },
    {
     "name": "stdout",
     "output_type": "stream",
     "text": [
      "Validation loss: 6.52075\n",
      "Loss after 71120 examples: 6.85183\n"
     ]
    },
    {
     "name": "stderr",
     "output_type": "stream",
     "text": [
      " 27%|██▋       | 80/301 [06:18<17:03,  4.63s/it]"
     ]
    },
    {
     "name": "stdout",
     "output_type": "stream",
     "text": [
      "Validation loss: 7.96107\n",
      "Loss after 72009 examples: 3.72149\n",
      "Validation loss: 7.49224\n",
      "Logging table at epoch 80\n"
     ]
    },
    {
     "name": "stderr",
     "output_type": "stream",
     "text": [
      " 27%|██▋       | 81/301 [06:23<17:20,  4.73s/it]"
     ]
    },
    {
     "name": "stdout",
     "output_type": "stream",
     "text": [
      "Loss after 72898 examples: 6.07134\n"
     ]
    },
    {
     "name": "stderr",
     "output_type": "stream",
     "text": [
      " 27%|██▋       | 82/301 [06:27<17:12,  4.71s/it]"
     ]
    },
    {
     "name": "stdout",
     "output_type": "stream",
     "text": [
      "Validation loss: 6.62004\n",
      "Loss after 73787 examples: 6.23128\n"
     ]
    },
    {
     "name": "stderr",
     "output_type": "stream",
     "text": [
      " 28%|██▊       | 83/301 [06:32<17:05,  4.70s/it]"
     ]
    },
    {
     "name": "stdout",
     "output_type": "stream",
     "text": [
      "Validation loss: 7.84682\n",
      "Loss after 74676 examples: 7.24540\n"
     ]
    },
    {
     "name": "stderr",
     "output_type": "stream",
     "text": [
      " 28%|██▊       | 84/301 [06:37<16:51,  4.66s/it]"
     ]
    },
    {
     "name": "stdout",
     "output_type": "stream",
     "text": [
      "Validation loss: 5.80328\n",
      "Loss after 75565 examples: 3.55796\n"
     ]
    },
    {
     "name": "stderr",
     "output_type": "stream",
     "text": [
      " 28%|██▊       | 85/301 [06:41<16:47,  4.67s/it]"
     ]
    },
    {
     "name": "stdout",
     "output_type": "stream",
     "text": [
      "Validation loss: 6.65362\n",
      "Loss after 76454 examples: 8.15364\n"
     ]
    },
    {
     "name": "stderr",
     "output_type": "stream",
     "text": [
      " 29%|██▊       | 86/301 [06:46<16:47,  4.69s/it]"
     ]
    },
    {
     "name": "stdout",
     "output_type": "stream",
     "text": [
      "Validation loss: 5.87059\n",
      "Logging table at epoch 85\n",
      "Loss after 77343 examples: 9.14034\n"
     ]
    },
    {
     "name": "stderr",
     "output_type": "stream",
     "text": [
      " 29%|██▉       | 87/301 [06:51<16:50,  4.72s/it]"
     ]
    },
    {
     "name": "stdout",
     "output_type": "stream",
     "text": [
      "Validation loss: 6.09251\n",
      "Loss after 78232 examples: 4.89455\n"
     ]
    },
    {
     "name": "stderr",
     "output_type": "stream",
     "text": [
      " 29%|██▉       | 88/301 [06:55<16:39,  4.69s/it]"
     ]
    },
    {
     "name": "stdout",
     "output_type": "stream",
     "text": [
      "Validation loss: 6.53627\n",
      "Loss after 79121 examples: 2.47359\n"
     ]
    },
    {
     "name": "stderr",
     "output_type": "stream",
     "text": [
      " 30%|██▉       | 89/301 [07:00<16:43,  4.73s/it]"
     ]
    },
    {
     "name": "stdout",
     "output_type": "stream",
     "text": [
      "Validation loss: 6.26582\n",
      "Loss after 80010 examples: 3.01409\n"
     ]
    },
    {
     "name": "stderr",
     "output_type": "stream",
     "text": [
      " 30%|██▉       | 90/301 [07:05<16:30,  4.69s/it]"
     ]
    },
    {
     "name": "stdout",
     "output_type": "stream",
     "text": [
      "Validation loss: 6.44525\n",
      "Loss after 80899 examples: 8.07854\n",
      "Validation loss: 6.19294\n",
      "Logging table at epoch 90\n"
     ]
    },
    {
     "name": "stderr",
     "output_type": "stream",
     "text": [
      " 30%|███       | 91/301 [07:10<16:34,  4.74s/it]"
     ]
    },
    {
     "name": "stdout",
     "output_type": "stream",
     "text": [
      "Loss after 81788 examples: 7.86039\n"
     ]
    },
    {
     "name": "stderr",
     "output_type": "stream",
     "text": [
      " 31%|███       | 92/301 [07:14<16:21,  4.69s/it]"
     ]
    },
    {
     "name": "stdout",
     "output_type": "stream",
     "text": [
      "Validation loss: 6.52096\n",
      "Loss after 82677 examples: 5.20400\n"
     ]
    },
    {
     "name": "stderr",
     "output_type": "stream",
     "text": [
      " 31%|███       | 93/301 [07:19<16:19,  4.71s/it]"
     ]
    },
    {
     "name": "stdout",
     "output_type": "stream",
     "text": [
      "Validation loss: 6.39651\n",
      "Loss after 83566 examples: 3.94104\n"
     ]
    },
    {
     "name": "stderr",
     "output_type": "stream",
     "text": [
      " 31%|███       | 94/301 [07:24<16:07,  4.67s/it]"
     ]
    },
    {
     "name": "stdout",
     "output_type": "stream",
     "text": [
      "Validation loss: 7.91187\n",
      "Loss after 84455 examples: 8.72814\n"
     ]
    },
    {
     "name": "stderr",
     "output_type": "stream",
     "text": [
      " 32%|███▏      | 95/301 [07:28<16:04,  4.68s/it]"
     ]
    },
    {
     "name": "stdout",
     "output_type": "stream",
     "text": [
      "Validation loss: 6.76107\n",
      "Loss after 85344 examples: 3.99714\n",
      "Validation loss: 6.23843\n",
      "Logging table at epoch 95\n"
     ]
    },
    {
     "name": "stderr",
     "output_type": "stream",
     "text": [
      " 32%|███▏      | 96/301 [07:33<16:18,  4.77s/it]"
     ]
    },
    {
     "name": "stdout",
     "output_type": "stream",
     "text": [
      "Loss after 86233 examples: 4.76873\n"
     ]
    },
    {
     "name": "stderr",
     "output_type": "stream",
     "text": [
      " 32%|███▏      | 97/301 [07:38<16:08,  4.75s/it]"
     ]
    },
    {
     "name": "stdout",
     "output_type": "stream",
     "text": [
      "Validation loss: 6.21053\n",
      "Loss after 87122 examples: 5.73961\n"
     ]
    },
    {
     "name": "stderr",
     "output_type": "stream",
     "text": [
      " 33%|███▎      | 98/301 [07:43<16:01,  4.73s/it]"
     ]
    },
    {
     "name": "stdout",
     "output_type": "stream",
     "text": [
      "Validation loss: 6.93965\n",
      "Loss after 88011 examples: 4.89010\n"
     ]
    },
    {
     "name": "stderr",
     "output_type": "stream",
     "text": [
      " 33%|███▎      | 99/301 [07:47<15:52,  4.71s/it]"
     ]
    },
    {
     "name": "stdout",
     "output_type": "stream",
     "text": [
      "Validation loss: 6.13853\n",
      "Loss after 88900 examples: 5.95809\n"
     ]
    },
    {
     "name": "stderr",
     "output_type": "stream",
     "text": [
      " 33%|███▎      | 100/301 [07:52<15:52,  4.74s/it]"
     ]
    },
    {
     "name": "stdout",
     "output_type": "stream",
     "text": [
      "Validation loss: 6.68158\n",
      "Loss after 89789 examples: 5.89222\n",
      "Validation loss: 6.10061\n",
      "Logging table at epoch 100\n"
     ]
    },
    {
     "name": "stderr",
     "output_type": "stream",
     "text": [
      " 34%|███▎      | 101/301 [07:57<16:09,  4.85s/it]"
     ]
    },
    {
     "name": "stdout",
     "output_type": "stream",
     "text": [
      "Loss after 90678 examples: 11.25935\n"
     ]
    },
    {
     "name": "stderr",
     "output_type": "stream",
     "text": [
      " 34%|███▍      | 102/301 [08:02<16:01,  4.83s/it]"
     ]
    },
    {
     "name": "stdout",
     "output_type": "stream",
     "text": [
      "Validation loss: 6.59213\n",
      "Loss after 91567 examples: 5.69613\n"
     ]
    },
    {
     "name": "stderr",
     "output_type": "stream",
     "text": [
      " 34%|███▍      | 103/301 [08:07<15:57,  4.84s/it]"
     ]
    },
    {
     "name": "stdout",
     "output_type": "stream",
     "text": [
      "Validation loss: 6.88373\n",
      "Loss after 92456 examples: 6.47076\n"
     ]
    },
    {
     "name": "stderr",
     "output_type": "stream",
     "text": [
      " 35%|███▍      | 104/301 [08:12<15:40,  4.77s/it]"
     ]
    },
    {
     "name": "stdout",
     "output_type": "stream",
     "text": [
      "Validation loss: 7.33156\n",
      "Loss after 93345 examples: 4.69302\n"
     ]
    },
    {
     "name": "stderr",
     "output_type": "stream",
     "text": [
      " 35%|███▍      | 105/301 [08:16<15:21,  4.70s/it]"
     ]
    },
    {
     "name": "stdout",
     "output_type": "stream",
     "text": [
      "Validation loss: 7.37520\n",
      "Loss after 94234 examples: 2.79091\n",
      "Validation loss: 6.45483\n",
      "Logging table at epoch 105\n"
     ]
    },
    {
     "name": "stderr",
     "output_type": "stream",
     "text": [
      " 35%|███▌      | 106/301 [08:21<15:29,  4.77s/it]"
     ]
    },
    {
     "name": "stdout",
     "output_type": "stream",
     "text": [
      "Loss after 95123 examples: 6.59910\n"
     ]
    },
    {
     "name": "stderr",
     "output_type": "stream",
     "text": [
      " 36%|███▌      | 107/301 [08:26<15:11,  4.70s/it]"
     ]
    },
    {
     "name": "stdout",
     "output_type": "stream",
     "text": [
      "Validation loss: 6.06516\n",
      "Loss after 96012 examples: 7.82849\n"
     ]
    },
    {
     "name": "stderr",
     "output_type": "stream",
     "text": [
      " 36%|███▌      | 108/301 [08:30<15:02,  4.68s/it]"
     ]
    },
    {
     "name": "stdout",
     "output_type": "stream",
     "text": [
      "Validation loss: 6.76050\n",
      "Loss after 96901 examples: 7.44150\n"
     ]
    },
    {
     "name": "stderr",
     "output_type": "stream",
     "text": [
      " 36%|███▌      | 109/301 [08:35<14:51,  4.64s/it]"
     ]
    },
    {
     "name": "stdout",
     "output_type": "stream",
     "text": [
      "Validation loss: 6.65583\n",
      "Loss after 97790 examples: 3.97317\n"
     ]
    },
    {
     "name": "stderr",
     "output_type": "stream",
     "text": [
      " 37%|███▋      | 110/301 [08:39<14:50,  4.66s/it]"
     ]
    },
    {
     "name": "stdout",
     "output_type": "stream",
     "text": [
      "Validation loss: 5.61453\n",
      "Loss after 98679 examples: 4.86762\n",
      "Validation loss: 7.19103\n",
      "Logging table at epoch 110\n"
     ]
    },
    {
     "name": "stderr",
     "output_type": "stream",
     "text": [
      " 37%|███▋      | 111/301 [08:44<14:49,  4.68s/it]"
     ]
    },
    {
     "name": "stdout",
     "output_type": "stream",
     "text": [
      "Loss after 99568 examples: 4.00642\n"
     ]
    },
    {
     "name": "stderr",
     "output_type": "stream",
     "text": [
      " 37%|███▋      | 112/301 [08:49<14:49,  4.70s/it]"
     ]
    },
    {
     "name": "stdout",
     "output_type": "stream",
     "text": [
      "Validation loss: 6.77131\n",
      "Loss after 100457 examples: 4.88151\n"
     ]
    },
    {
     "name": "stderr",
     "output_type": "stream",
     "text": [
      " 38%|███▊      | 113/301 [08:54<14:36,  4.66s/it]"
     ]
    },
    {
     "name": "stdout",
     "output_type": "stream",
     "text": [
      "Validation loss: 5.97270\n",
      "Loss after 101346 examples: 6.76674\n"
     ]
    },
    {
     "name": "stderr",
     "output_type": "stream",
     "text": [
      " 38%|███▊      | 114/301 [08:58<14:30,  4.65s/it]"
     ]
    },
    {
     "name": "stdout",
     "output_type": "stream",
     "text": [
      "Validation loss: 6.54215\n",
      "Loss after 102235 examples: 5.09132\n"
     ]
    },
    {
     "name": "stderr",
     "output_type": "stream",
     "text": [
      " 38%|███▊      | 115/301 [09:03<14:20,  4.63s/it]"
     ]
    },
    {
     "name": "stdout",
     "output_type": "stream",
     "text": [
      "Validation loss: 6.28124\n",
      "Loss after 103124 examples: 6.50903\n",
      "Validation loss: 5.83403\n",
      "Logging table at epoch 115\n"
     ]
    },
    {
     "name": "stderr",
     "output_type": "stream",
     "text": [
      " 39%|███▊      | 116/301 [09:08<14:29,  4.70s/it]"
     ]
    },
    {
     "name": "stdout",
     "output_type": "stream",
     "text": [
      "Loss after 104013 examples: 3.99192\n"
     ]
    },
    {
     "name": "stderr",
     "output_type": "stream",
     "text": [
      " 39%|███▉      | 117/301 [09:12<14:15,  4.65s/it]"
     ]
    },
    {
     "name": "stdout",
     "output_type": "stream",
     "text": [
      "Validation loss: 5.97580\n",
      "Loss after 104902 examples: 4.71221\n"
     ]
    },
    {
     "name": "stderr",
     "output_type": "stream",
     "text": [
      " 39%|███▉      | 118/301 [09:17<14:09,  4.64s/it]"
     ]
    },
    {
     "name": "stdout",
     "output_type": "stream",
     "text": [
      "Validation loss: 7.74004\n",
      "Loss after 105791 examples: 6.19191\n"
     ]
    },
    {
     "name": "stderr",
     "output_type": "stream",
     "text": [
      " 40%|███▉      | 119/301 [09:21<14:05,  4.64s/it]"
     ]
    },
    {
     "name": "stdout",
     "output_type": "stream",
     "text": [
      "Validation loss: 6.16143\n",
      "Loss after 106680 examples: 9.81065\n"
     ]
    },
    {
     "name": "stderr",
     "output_type": "stream",
     "text": [
      " 40%|███▉      | 120/301 [09:26<14:01,  4.65s/it]"
     ]
    },
    {
     "name": "stdout",
     "output_type": "stream",
     "text": [
      "Validation loss: 7.64639\n",
      "Loss after 107569 examples: 6.46142\n",
      "Validation loss: 7.23084\n",
      "Logging table at epoch 120\n"
     ]
    },
    {
     "name": "stderr",
     "output_type": "stream",
     "text": [
      " 40%|████      | 121/301 [09:31<14:07,  4.71s/it]"
     ]
    },
    {
     "name": "stdout",
     "output_type": "stream",
     "text": [
      "Loss after 108458 examples: 4.31102\n"
     ]
    },
    {
     "name": "stderr",
     "output_type": "stream",
     "text": [
      " 41%|████      | 122/301 [09:35<13:56,  4.67s/it]"
     ]
    },
    {
     "name": "stdout",
     "output_type": "stream",
     "text": [
      "Validation loss: 7.39481\n",
      "Loss after 109347 examples: 8.12937\n"
     ]
    },
    {
     "name": "stderr",
     "output_type": "stream",
     "text": [
      " 41%|████      | 123/301 [09:40<13:48,  4.65s/it]"
     ]
    },
    {
     "name": "stdout",
     "output_type": "stream",
     "text": [
      "Validation loss: 5.96658\n",
      "Loss after 110236 examples: 8.54284\n"
     ]
    },
    {
     "name": "stderr",
     "output_type": "stream",
     "text": [
      " 41%|████      | 124/301 [09:45<13:40,  4.64s/it]"
     ]
    },
    {
     "name": "stdout",
     "output_type": "stream",
     "text": [
      "Validation loss: 7.84458\n",
      "Loss after 111125 examples: 3.78862\n"
     ]
    },
    {
     "name": "stderr",
     "output_type": "stream",
     "text": [
      " 42%|████▏     | 125/301 [09:49<13:42,  4.67s/it]"
     ]
    },
    {
     "name": "stdout",
     "output_type": "stream",
     "text": [
      "Validation loss: 7.35542\n",
      "Loss after 112014 examples: 7.63059\n"
     ]
    },
    {
     "name": "stderr",
     "output_type": "stream",
     "text": [
      " 42%|████▏     | 126/301 [09:54<13:38,  4.68s/it]"
     ]
    },
    {
     "name": "stdout",
     "output_type": "stream",
     "text": [
      "Validation loss: 5.87957\n",
      "Logging table at epoch 125\n",
      "Loss after 112903 examples: 8.06015\n"
     ]
    },
    {
     "name": "stderr",
     "output_type": "stream",
     "text": [
      " 42%|████▏     | 127/301 [09:59<13:30,  4.66s/it]"
     ]
    },
    {
     "name": "stdout",
     "output_type": "stream",
     "text": [
      "Validation loss: 6.32928\n",
      "Loss after 113792 examples: 6.70329\n"
     ]
    },
    {
     "name": "stderr",
     "output_type": "stream",
     "text": [
      " 43%|████▎     | 128/301 [10:03<13:21,  4.63s/it]"
     ]
    },
    {
     "name": "stdout",
     "output_type": "stream",
     "text": [
      "Validation loss: 7.44824\n",
      "Loss after 114681 examples: 6.09463\n"
     ]
    },
    {
     "name": "stderr",
     "output_type": "stream",
     "text": [
      " 43%|████▎     | 129/301 [10:08<13:15,  4.63s/it]"
     ]
    },
    {
     "name": "stdout",
     "output_type": "stream",
     "text": [
      "Validation loss: 8.56974\n",
      "Loss after 115570 examples: 2.33377\n"
     ]
    },
    {
     "name": "stderr",
     "output_type": "stream",
     "text": [
      " 43%|████▎     | 130/301 [10:12<13:04,  4.59s/it]"
     ]
    },
    {
     "name": "stdout",
     "output_type": "stream",
     "text": [
      "Validation loss: 6.47626\n",
      "Loss after 116459 examples: 5.96248\n"
     ]
    },
    {
     "name": "stderr",
     "output_type": "stream",
     "text": [
      " 44%|████▎     | 131/301 [10:17<13:08,  4.64s/it]"
     ]
    },
    {
     "name": "stdout",
     "output_type": "stream",
     "text": [
      "Validation loss: 6.91613\n",
      "Logging table at epoch 130\n",
      "Loss after 117348 examples: 5.16225\n"
     ]
    },
    {
     "name": "stderr",
     "output_type": "stream",
     "text": [
      " 44%|████▍     | 132/301 [10:22<13:02,  4.63s/it]"
     ]
    },
    {
     "name": "stdout",
     "output_type": "stream",
     "text": [
      "Validation loss: 6.54650\n",
      "Loss after 118237 examples: 3.99736\n"
     ]
    },
    {
     "name": "stderr",
     "output_type": "stream",
     "text": [
      " 44%|████▍     | 133/301 [10:26<12:58,  4.63s/it]"
     ]
    },
    {
     "name": "stdout",
     "output_type": "stream",
     "text": [
      "Validation loss: 6.31349\n",
      "Loss after 119126 examples: 6.15264\n"
     ]
    },
    {
     "name": "stderr",
     "output_type": "stream",
     "text": [
      " 45%|████▍     | 134/301 [10:31<12:47,  4.59s/it]"
     ]
    },
    {
     "name": "stdout",
     "output_type": "stream",
     "text": [
      "Validation loss: 7.50666\n",
      "Loss after 120015 examples: 3.66100\n"
     ]
    },
    {
     "name": "stderr",
     "output_type": "stream",
     "text": [
      " 45%|████▍     | 135/301 [10:36<12:42,  4.59s/it]"
     ]
    },
    {
     "name": "stdout",
     "output_type": "stream",
     "text": [
      "Validation loss: 7.82173\n",
      "Loss after 120904 examples: 3.82770\n",
      "Validation loss: 7.00582\n",
      "Logging table at epoch 135\n"
     ]
    },
    {
     "name": "stderr",
     "output_type": "stream",
     "text": [
      " 45%|████▌     | 136/301 [10:40<12:53,  4.68s/it]"
     ]
    },
    {
     "name": "stdout",
     "output_type": "stream",
     "text": [
      "Loss after 121793 examples: 5.14691\n"
     ]
    },
    {
     "name": "stderr",
     "output_type": "stream",
     "text": [
      " 46%|████▌     | 137/301 [10:45<12:45,  4.67s/it]"
     ]
    },
    {
     "name": "stdout",
     "output_type": "stream",
     "text": [
      "Validation loss: 6.07170\n",
      "Loss after 122682 examples: 7.24047\n"
     ]
    },
    {
     "name": "stderr",
     "output_type": "stream",
     "text": [
      " 46%|████▌     | 138/301 [10:50<12:36,  4.64s/it]"
     ]
    },
    {
     "name": "stdout",
     "output_type": "stream",
     "text": [
      "Validation loss: 6.37059\n",
      "Loss after 123571 examples: 5.07007\n"
     ]
    },
    {
     "name": "stderr",
     "output_type": "stream",
     "text": [
      " 46%|████▌     | 139/301 [10:54<12:32,  4.65s/it]"
     ]
    },
    {
     "name": "stdout",
     "output_type": "stream",
     "text": [
      "Validation loss: 6.17924\n",
      "Loss after 124460 examples: 4.59887\n"
     ]
    },
    {
     "name": "stderr",
     "output_type": "stream",
     "text": [
      " 47%|████▋     | 140/301 [10:59<12:26,  4.63s/it]"
     ]
    },
    {
     "name": "stdout",
     "output_type": "stream",
     "text": [
      "Validation loss: 6.10826\n",
      "Loss after 125349 examples: 5.50577\n",
      "Validation loss: 6.49310\n",
      "Logging table at epoch 140\n"
     ]
    },
    {
     "name": "stderr",
     "output_type": "stream",
     "text": [
      " 47%|████▋     | 141/301 [11:04<12:29,  4.68s/it]"
     ]
    },
    {
     "name": "stdout",
     "output_type": "stream",
     "text": [
      "Loss after 126238 examples: 3.60733\n"
     ]
    },
    {
     "name": "stderr",
     "output_type": "stream",
     "text": [
      " 47%|████▋     | 142/301 [11:08<12:22,  4.67s/it]"
     ]
    },
    {
     "name": "stdout",
     "output_type": "stream",
     "text": [
      "Validation loss: 5.92475\n",
      "Loss after 127127 examples: 6.08911\n"
     ]
    },
    {
     "name": "stderr",
     "output_type": "stream",
     "text": [
      " 48%|████▊     | 143/301 [11:13<12:16,  4.66s/it]"
     ]
    },
    {
     "name": "stdout",
     "output_type": "stream",
     "text": [
      "Validation loss: 5.93489\n",
      "Loss after 128016 examples: 6.37384\n"
     ]
    },
    {
     "name": "stderr",
     "output_type": "stream",
     "text": [
      " 48%|████▊     | 144/301 [11:18<12:09,  4.65s/it]"
     ]
    },
    {
     "name": "stdout",
     "output_type": "stream",
     "text": [
      "Validation loss: 6.29448\n",
      "Loss after 128905 examples: 4.47951\n"
     ]
    },
    {
     "name": "stderr",
     "output_type": "stream",
     "text": [
      " 48%|████▊     | 145/301 [11:22<12:07,  4.66s/it]"
     ]
    },
    {
     "name": "stdout",
     "output_type": "stream",
     "text": [
      "Validation loss: 7.05450\n",
      "Loss after 129794 examples: 4.56382\n",
      "Validation loss: 6.81981\n",
      "Logging table at epoch 145\n"
     ]
    },
    {
     "name": "stderr",
     "output_type": "stream",
     "text": [
      " 49%|████▊     | 146/301 [11:27<12:09,  4.71s/it]"
     ]
    },
    {
     "name": "stdout",
     "output_type": "stream",
     "text": [
      "Loss after 130683 examples: 6.38420\n"
     ]
    },
    {
     "name": "stderr",
     "output_type": "stream",
     "text": [
      " 49%|████▉     | 147/301 [11:32<11:56,  4.65s/it]"
     ]
    },
    {
     "name": "stdout",
     "output_type": "stream",
     "text": [
      "Validation loss: 6.11593\n",
      "Loss after 131572 examples: 5.69676\n"
     ]
    },
    {
     "name": "stderr",
     "output_type": "stream",
     "text": [
      " 49%|████▉     | 148/301 [11:36<11:51,  4.65s/it]"
     ]
    },
    {
     "name": "stdout",
     "output_type": "stream",
     "text": [
      "Validation loss: 7.24302\n",
      "Loss after 132461 examples: 4.40879\n"
     ]
    },
    {
     "name": "stderr",
     "output_type": "stream",
     "text": [
      " 50%|████▉     | 149/301 [11:41<11:42,  4.62s/it]"
     ]
    },
    {
     "name": "stdout",
     "output_type": "stream",
     "text": [
      "Validation loss: 6.44217\n",
      "Loss after 133350 examples: 3.94979\n"
     ]
    },
    {
     "name": "stderr",
     "output_type": "stream",
     "text": [
      " 50%|████▉     | 150/301 [11:45<11:38,  4.63s/it]"
     ]
    },
    {
     "name": "stdout",
     "output_type": "stream",
     "text": [
      "Validation loss: 6.52288\n",
      "Loss after 134239 examples: 4.33008\n",
      "Validation loss: 6.13757\n",
      "Logging table at epoch 150\n"
     ]
    },
    {
     "name": "stderr",
     "output_type": "stream",
     "text": [
      " 50%|█████     | 151/301 [11:50<11:44,  4.70s/it]"
     ]
    },
    {
     "name": "stdout",
     "output_type": "stream",
     "text": [
      "Loss after 135128 examples: 3.82685\n"
     ]
    },
    {
     "name": "stderr",
     "output_type": "stream",
     "text": [
      " 50%|█████     | 152/301 [11:55<11:38,  4.69s/it]"
     ]
    },
    {
     "name": "stdout",
     "output_type": "stream",
     "text": [
      "Validation loss: 7.43726\n",
      "Loss after 136017 examples: 3.77456\n"
     ]
    },
    {
     "name": "stderr",
     "output_type": "stream",
     "text": [
      " 51%|█████     | 153/301 [12:00<11:28,  4.65s/it]"
     ]
    },
    {
     "name": "stdout",
     "output_type": "stream",
     "text": [
      "Validation loss: 6.34298\n",
      "Loss after 136906 examples: 7.90263\n"
     ]
    },
    {
     "name": "stderr",
     "output_type": "stream",
     "text": [
      " 51%|█████     | 154/301 [12:04<11:23,  4.65s/it]"
     ]
    },
    {
     "name": "stdout",
     "output_type": "stream",
     "text": [
      "Validation loss: 5.93121\n",
      "Loss after 137795 examples: 4.16780\n"
     ]
    },
    {
     "name": "stderr",
     "output_type": "stream",
     "text": [
      " 51%|█████▏    | 155/301 [12:09<11:13,  4.61s/it]"
     ]
    },
    {
     "name": "stdout",
     "output_type": "stream",
     "text": [
      "Validation loss: 6.42932\n",
      "Loss after 138684 examples: 6.37646\n",
      "Validation loss: 7.60301\n",
      "Logging table at epoch 155\n"
     ]
    },
    {
     "name": "stderr",
     "output_type": "stream",
     "text": [
      " 52%|█████▏    | 156/301 [12:14<11:18,  4.68s/it]"
     ]
    },
    {
     "name": "stdout",
     "output_type": "stream",
     "text": [
      "Loss after 139573 examples: 4.56007\n"
     ]
    },
    {
     "name": "stderr",
     "output_type": "stream",
     "text": [
      " 52%|█████▏    | 157/301 [12:18<11:06,  4.63s/it]"
     ]
    },
    {
     "name": "stdout",
     "output_type": "stream",
     "text": [
      "Validation loss: 6.60963\n",
      "Loss after 140462 examples: 7.98290\n"
     ]
    },
    {
     "name": "stderr",
     "output_type": "stream",
     "text": [
      " 52%|█████▏    | 158/301 [12:23<11:01,  4.63s/it]"
     ]
    },
    {
     "name": "stdout",
     "output_type": "stream",
     "text": [
      "Validation loss: 6.18845\n",
      "Loss after 141351 examples: 5.29935\n"
     ]
    },
    {
     "name": "stderr",
     "output_type": "stream",
     "text": [
      " 53%|█████▎    | 159/301 [12:27<10:53,  4.61s/it]"
     ]
    },
    {
     "name": "stdout",
     "output_type": "stream",
     "text": [
      "Validation loss: 6.51697\n",
      "Loss after 142240 examples: 3.64567\n"
     ]
    },
    {
     "name": "stderr",
     "output_type": "stream",
     "text": [
      " 53%|█████▎    | 160/301 [12:32<10:50,  4.61s/it]"
     ]
    },
    {
     "name": "stdout",
     "output_type": "stream",
     "text": [
      "Validation loss: 6.96078\n",
      "Loss after 143129 examples: 5.68028\n"
     ]
    },
    {
     "name": "stderr",
     "output_type": "stream",
     "text": [
      " 53%|█████▎    | 161/301 [12:37<10:57,  4.69s/it]"
     ]
    },
    {
     "name": "stdout",
     "output_type": "stream",
     "text": [
      "Validation loss: 6.57091\n",
      "Logging table at epoch 160\n",
      "Loss after 144018 examples: 2.80636\n"
     ]
    },
    {
     "name": "stderr",
     "output_type": "stream",
     "text": [
      " 54%|█████▍    | 162/301 [12:41<10:48,  4.67s/it]"
     ]
    },
    {
     "name": "stdout",
     "output_type": "stream",
     "text": [
      "Validation loss: 6.86984\n",
      "Loss after 144907 examples: 4.84952\n"
     ]
    },
    {
     "name": "stderr",
     "output_type": "stream",
     "text": [
      " 54%|█████▍    | 163/301 [12:46<10:41,  4.65s/it]"
     ]
    },
    {
     "name": "stdout",
     "output_type": "stream",
     "text": [
      "Validation loss: 6.35720\n",
      "Loss after 145796 examples: 9.77916\n"
     ]
    },
    {
     "name": "stderr",
     "output_type": "stream",
     "text": [
      " 54%|█████▍    | 164/301 [12:51<10:40,  4.67s/it]"
     ]
    },
    {
     "name": "stdout",
     "output_type": "stream",
     "text": [
      "Validation loss: 7.95291\n",
      "Loss after 146685 examples: 6.98700\n"
     ]
    },
    {
     "name": "stderr",
     "output_type": "stream",
     "text": [
      " 55%|█████▍    | 165/301 [12:55<10:30,  4.64s/it]"
     ]
    },
    {
     "name": "stdout",
     "output_type": "stream",
     "text": [
      "Validation loss: 6.06492\n",
      "Loss after 147574 examples: 8.34789\n",
      "Validation loss: 6.54776\n",
      "Logging table at epoch 165\n"
     ]
    },
    {
     "name": "stderr",
     "output_type": "stream",
     "text": [
      " 55%|█████▌    | 166/301 [13:00<10:34,  4.70s/it]"
     ]
    },
    {
     "name": "stdout",
     "output_type": "stream",
     "text": [
      "Loss after 148463 examples: 3.90535\n"
     ]
    },
    {
     "name": "stderr",
     "output_type": "stream",
     "text": [
      " 55%|█████▌    | 167/301 [13:05<10:23,  4.66s/it]"
     ]
    },
    {
     "name": "stdout",
     "output_type": "stream",
     "text": [
      "Validation loss: 6.39428\n",
      "Loss after 149352 examples: 5.07918\n"
     ]
    },
    {
     "name": "stderr",
     "output_type": "stream",
     "text": [
      " 56%|█████▌    | 168/301 [13:09<10:17,  4.64s/it]"
     ]
    },
    {
     "name": "stdout",
     "output_type": "stream",
     "text": [
      "Validation loss: 6.54445\n",
      "Loss after 150241 examples: 8.24343\n"
     ]
    },
    {
     "name": "stderr",
     "output_type": "stream",
     "text": [
      " 56%|█████▌    | 169/301 [13:14<10:11,  4.63s/it]"
     ]
    },
    {
     "name": "stdout",
     "output_type": "stream",
     "text": [
      "Validation loss: 7.51273\n",
      "Loss after 151130 examples: 3.27549\n"
     ]
    },
    {
     "name": "stderr",
     "output_type": "stream",
     "text": [
      " 56%|█████▋    | 170/301 [13:19<10:12,  4.68s/it]"
     ]
    },
    {
     "name": "stdout",
     "output_type": "stream",
     "text": [
      "Validation loss: 6.77760\n",
      "Loss after 152019 examples: 7.59237\n",
      "Validation loss: 5.75922\n",
      "Logging table at epoch 170\n"
     ]
    },
    {
     "name": "stderr",
     "output_type": "stream",
     "text": [
      " 57%|█████▋    | 171/301 [13:24<10:14,  4.73s/it]"
     ]
    },
    {
     "name": "stdout",
     "output_type": "stream",
     "text": [
      "Loss after 152908 examples: 5.50282\n"
     ]
    },
    {
     "name": "stderr",
     "output_type": "stream",
     "text": [
      " 57%|█████▋    | 172/301 [13:28<10:04,  4.68s/it]"
     ]
    },
    {
     "name": "stdout",
     "output_type": "stream",
     "text": [
      "Validation loss: 6.61130\n",
      "Loss after 153797 examples: 2.10972\n"
     ]
    },
    {
     "name": "stderr",
     "output_type": "stream",
     "text": [
      " 57%|█████▋    | 173/301 [13:33<10:00,  4.69s/it]"
     ]
    },
    {
     "name": "stdout",
     "output_type": "stream",
     "text": [
      "Validation loss: 5.93724\n",
      "Loss after 154686 examples: 8.17434\n"
     ]
    },
    {
     "name": "stderr",
     "output_type": "stream",
     "text": [
      " 58%|█████▊    | 174/301 [13:37<09:51,  4.66s/it]"
     ]
    },
    {
     "name": "stdout",
     "output_type": "stream",
     "text": [
      "Validation loss: 6.14368\n",
      "Loss after 155575 examples: 7.18364\n"
     ]
    },
    {
     "name": "stderr",
     "output_type": "stream",
     "text": [
      " 58%|█████▊    | 175/301 [13:42<09:47,  4.67s/it]"
     ]
    },
    {
     "name": "stdout",
     "output_type": "stream",
     "text": [
      "Validation loss: 7.44695\n",
      "Loss after 156464 examples: 7.37595\n",
      "Validation loss: 7.23236\n",
      "Logging table at epoch 175\n"
     ]
    },
    {
     "name": "stderr",
     "output_type": "stream",
     "text": [
      " 58%|█████▊    | 176/301 [13:47<09:47,  4.70s/it]"
     ]
    },
    {
     "name": "stdout",
     "output_type": "stream",
     "text": [
      "Loss after 157353 examples: 5.75358\n"
     ]
    },
    {
     "name": "stderr",
     "output_type": "stream",
     "text": [
      " 59%|█████▉    | 177/301 [13:52<09:43,  4.71s/it]"
     ]
    },
    {
     "name": "stdout",
     "output_type": "stream",
     "text": [
      "Validation loss: 5.99661\n",
      "Loss after 158242 examples: 4.35885\n"
     ]
    },
    {
     "name": "stderr",
     "output_type": "stream",
     "text": [
      " 59%|█████▉    | 178/301 [13:56<09:33,  4.66s/it]"
     ]
    },
    {
     "name": "stdout",
     "output_type": "stream",
     "text": [
      "Validation loss: 6.34941\n",
      "Loss after 159131 examples: 4.46579\n"
     ]
    },
    {
     "name": "stderr",
     "output_type": "stream",
     "text": [
      " 59%|█████▉    | 179/301 [14:01<09:27,  4.65s/it]"
     ]
    },
    {
     "name": "stdout",
     "output_type": "stream",
     "text": [
      "Validation loss: 6.24927\n",
      "Loss after 160020 examples: 5.03690\n"
     ]
    },
    {
     "name": "stderr",
     "output_type": "stream",
     "text": [
      " 60%|█████▉    | 180/301 [14:05<09:19,  4.62s/it]"
     ]
    },
    {
     "name": "stdout",
     "output_type": "stream",
     "text": [
      "Validation loss: 6.64309\n",
      "Loss after 160909 examples: 7.68061\n",
      "Validation loss: 5.71437\n",
      "Logging table at epoch 180\n"
     ]
    },
    {
     "name": "stderr",
     "output_type": "stream",
     "text": [
      " 60%|██████    | 181/301 [14:10<09:23,  4.70s/it]"
     ]
    },
    {
     "name": "stdout",
     "output_type": "stream",
     "text": [
      "Loss after 161798 examples: 5.86975\n"
     ]
    },
    {
     "name": "stderr",
     "output_type": "stream",
     "text": [
      " 60%|██████    | 182/301 [14:15<09:15,  4.67s/it]"
     ]
    },
    {
     "name": "stdout",
     "output_type": "stream",
     "text": [
      "Validation loss: 6.37967\n",
      "Loss after 162687 examples: 5.51628\n"
     ]
    },
    {
     "name": "stderr",
     "output_type": "stream",
     "text": [
      " 61%|██████    | 183/301 [14:19<09:12,  4.68s/it]"
     ]
    },
    {
     "name": "stdout",
     "output_type": "stream",
     "text": [
      "Validation loss: 6.40603\n",
      "Loss after 163576 examples: 3.12827\n"
     ]
    },
    {
     "name": "stderr",
     "output_type": "stream",
     "text": [
      " 61%|██████    | 184/301 [14:24<09:02,  4.63s/it]"
     ]
    },
    {
     "name": "stdout",
     "output_type": "stream",
     "text": [
      "Validation loss: 6.40844\n",
      "Loss after 164465 examples: 8.54431\n"
     ]
    },
    {
     "name": "stderr",
     "output_type": "stream",
     "text": [
      " 61%|██████▏   | 185/301 [14:29<08:56,  4.62s/it]"
     ]
    },
    {
     "name": "stdout",
     "output_type": "stream",
     "text": [
      "Validation loss: 6.59047\n",
      "Loss after 165354 examples: 3.80246\n",
      "Validation loss: 8.43646\n",
      "Logging table at epoch 185\n"
     ]
    },
    {
     "name": "stderr",
     "output_type": "stream",
     "text": [
      " 62%|██████▏   | 186/301 [14:33<08:53,  4.64s/it]"
     ]
    },
    {
     "name": "stdout",
     "output_type": "stream",
     "text": [
      "Loss after 166243 examples: 6.74412\n"
     ]
    },
    {
     "name": "stderr",
     "output_type": "stream",
     "text": [
      " 62%|██████▏   | 187/301 [14:38<08:49,  4.64s/it]"
     ]
    },
    {
     "name": "stdout",
     "output_type": "stream",
     "text": [
      "Validation loss: 6.58687\n",
      "Loss after 167132 examples: 4.89700\n"
     ]
    },
    {
     "name": "stderr",
     "output_type": "stream",
     "text": [
      " 62%|██████▏   | 188/301 [14:42<08:41,  4.61s/it]"
     ]
    },
    {
     "name": "stdout",
     "output_type": "stream",
     "text": [
      "Validation loss: 7.24290\n",
      "Loss after 168021 examples: 5.86834\n"
     ]
    },
    {
     "name": "stderr",
     "output_type": "stream",
     "text": [
      " 63%|██████▎   | 189/301 [14:47<08:38,  4.63s/it]"
     ]
    },
    {
     "name": "stdout",
     "output_type": "stream",
     "text": [
      "Validation loss: 7.70717\n",
      "Loss after 168910 examples: 8.37742\n"
     ]
    },
    {
     "name": "stderr",
     "output_type": "stream",
     "text": [
      " 63%|██████▎   | 190/301 [14:52<08:33,  4.62s/it]"
     ]
    },
    {
     "name": "stdout",
     "output_type": "stream",
     "text": [
      "Validation loss: 6.86157\n",
      "Loss after 169799 examples: 3.53878\n",
      "Validation loss: 7.25678\n",
      "Logging table at epoch 190\n"
     ]
    },
    {
     "name": "stderr",
     "output_type": "stream",
     "text": [
      " 63%|██████▎   | 191/301 [14:57<08:34,  4.68s/it]"
     ]
    },
    {
     "name": "stdout",
     "output_type": "stream",
     "text": [
      "Loss after 170688 examples: 4.28769\n"
     ]
    },
    {
     "name": "stderr",
     "output_type": "stream",
     "text": [
      " 64%|██████▍   | 192/301 [15:01<08:26,  4.65s/it]"
     ]
    },
    {
     "name": "stdout",
     "output_type": "stream",
     "text": [
      "Validation loss: 7.94533\n",
      "Loss after 171577 examples: 5.75726\n"
     ]
    },
    {
     "name": "stderr",
     "output_type": "stream",
     "text": [
      " 64%|██████▍   | 193/301 [15:06<08:21,  4.64s/it]"
     ]
    },
    {
     "name": "stdout",
     "output_type": "stream",
     "text": [
      "Validation loss: 6.14032\n",
      "Loss after 172466 examples: 5.17576\n"
     ]
    },
    {
     "name": "stderr",
     "output_type": "stream",
     "text": [
      " 64%|██████▍   | 194/301 [15:10<08:13,  4.61s/it]"
     ]
    },
    {
     "name": "stdout",
     "output_type": "stream",
     "text": [
      "Validation loss: 5.99513\n",
      "Loss after 173355 examples: 5.16360\n"
     ]
    },
    {
     "name": "stderr",
     "output_type": "stream",
     "text": [
      " 65%|██████▍   | 195/301 [15:15<08:09,  4.62s/it]"
     ]
    },
    {
     "name": "stdout",
     "output_type": "stream",
     "text": [
      "Validation loss: 7.27283\n",
      "Loss after 174244 examples: 3.39086\n",
      "Validation loss: 6.95021\n",
      "Logging table at epoch 195\n"
     ]
    },
    {
     "name": "stderr",
     "output_type": "stream",
     "text": [
      " 65%|██████▌   | 196/301 [15:20<08:13,  4.70s/it]"
     ]
    },
    {
     "name": "stdout",
     "output_type": "stream",
     "text": [
      "Loss after 175133 examples: 2.20388\n"
     ]
    },
    {
     "name": "stderr",
     "output_type": "stream",
     "text": [
      " 65%|██████▌   | 197/301 [15:24<08:04,  4.66s/it]"
     ]
    },
    {
     "name": "stdout",
     "output_type": "stream",
     "text": [
      "Validation loss: 6.18822\n",
      "Loss after 176022 examples: 4.89636\n"
     ]
    },
    {
     "name": "stderr",
     "output_type": "stream",
     "text": [
      " 66%|██████▌   | 198/301 [15:29<08:01,  4.67s/it]"
     ]
    },
    {
     "name": "stdout",
     "output_type": "stream",
     "text": [
      "Validation loss: 5.97210\n",
      "Loss after 176911 examples: 5.43636\n"
     ]
    },
    {
     "name": "stderr",
     "output_type": "stream",
     "text": [
      " 66%|██████▌   | 199/301 [15:34<07:50,  4.62s/it]"
     ]
    },
    {
     "name": "stdout",
     "output_type": "stream",
     "text": [
      "Validation loss: 6.38364\n",
      "Loss after 177800 examples: 7.62938\n"
     ]
    },
    {
     "name": "stderr",
     "output_type": "stream",
     "text": [
      " 66%|██████▋   | 200/301 [15:38<07:46,  4.62s/it]"
     ]
    },
    {
     "name": "stdout",
     "output_type": "stream",
     "text": [
      "Validation loss: 6.22412\n",
      "Loss after 178689 examples: 4.73470\n",
      "Validation loss: 7.04227\n",
      "Logging table at epoch 200\n"
     ]
    },
    {
     "name": "stderr",
     "output_type": "stream",
     "text": [
      " 67%|██████▋   | 201/301 [15:48<10:08,  6.08s/it]"
     ]
    },
    {
     "name": "stdout",
     "output_type": "stream",
     "text": [
      "Loss after 179578 examples: 5.82373\n"
     ]
    },
    {
     "name": "stderr",
     "output_type": "stream",
     "text": [
      " 67%|██████▋   | 202/301 [15:52<09:20,  5.66s/it]"
     ]
    },
    {
     "name": "stdout",
     "output_type": "stream",
     "text": [
      "Validation loss: 6.18263\n",
      "Loss after 180467 examples: 6.33535\n"
     ]
    },
    {
     "name": "stderr",
     "output_type": "stream",
     "text": [
      " 67%|██████▋   | 203/301 [15:57<08:42,  5.33s/it]"
     ]
    },
    {
     "name": "stdout",
     "output_type": "stream",
     "text": [
      "Validation loss: 7.42361\n",
      "Loss after 181356 examples: 4.86776\n"
     ]
    },
    {
     "name": "stderr",
     "output_type": "stream",
     "text": [
      " 68%|██████▊   | 204/301 [16:02<08:16,  5.12s/it]"
     ]
    },
    {
     "name": "stdout",
     "output_type": "stream",
     "text": [
      "Validation loss: 7.77859\n",
      "Loss after 182245 examples: 12.17903\n"
     ]
    },
    {
     "name": "stderr",
     "output_type": "stream",
     "text": [
      " 68%|██████▊   | 205/301 [16:06<07:54,  4.95s/it]"
     ]
    },
    {
     "name": "stdout",
     "output_type": "stream",
     "text": [
      "Validation loss: 7.43995\n",
      "Loss after 183134 examples: 6.66550\n",
      "Validation loss: 5.91604\n",
      "Logging table at epoch 205\n"
     ]
    },
    {
     "name": "stderr",
     "output_type": "stream",
     "text": [
      " 68%|██████▊   | 206/301 [16:11<07:47,  4.92s/it]"
     ]
    },
    {
     "name": "stdout",
     "output_type": "stream",
     "text": [
      "Loss after 184023 examples: 6.80877\n"
     ]
    },
    {
     "name": "stderr",
     "output_type": "stream",
     "text": [
      " 69%|██████▉   | 207/301 [16:16<07:33,  4.82s/it]"
     ]
    },
    {
     "name": "stdout",
     "output_type": "stream",
     "text": [
      "Validation loss: 6.90072\n",
      "Loss after 184912 examples: 5.55514\n"
     ]
    },
    {
     "name": "stderr",
     "output_type": "stream",
     "text": [
      " 69%|██████▉   | 208/301 [16:20<07:26,  4.80s/it]"
     ]
    },
    {
     "name": "stdout",
     "output_type": "stream",
     "text": [
      "Validation loss: 6.91572\n",
      "Loss after 185801 examples: 4.17586\n"
     ]
    },
    {
     "name": "stderr",
     "output_type": "stream",
     "text": [
      " 69%|██████▉   | 209/301 [16:25<07:14,  4.73s/it]"
     ]
    },
    {
     "name": "stdout",
     "output_type": "stream",
     "text": [
      "Validation loss: 7.01578\n",
      "Loss after 186690 examples: 3.82054\n"
     ]
    },
    {
     "name": "stderr",
     "output_type": "stream",
     "text": [
      " 70%|██████▉   | 210/301 [16:30<07:08,  4.71s/it]"
     ]
    },
    {
     "name": "stdout",
     "output_type": "stream",
     "text": [
      "Validation loss: 6.81672\n",
      "Loss after 187579 examples: 6.47363\n",
      "Validation loss: 7.28433\n",
      "Logging table at epoch 210\n"
     ]
    },
    {
     "name": "stderr",
     "output_type": "stream",
     "text": [
      " 70%|███████   | 211/301 [16:34<07:04,  4.72s/it]"
     ]
    },
    {
     "name": "stdout",
     "output_type": "stream",
     "text": [
      "Loss after 188468 examples: 4.27450\n"
     ]
    },
    {
     "name": "stderr",
     "output_type": "stream",
     "text": [
      " 70%|███████   | 212/301 [16:39<06:57,  4.69s/it]"
     ]
    },
    {
     "name": "stdout",
     "output_type": "stream",
     "text": [
      "Validation loss: 5.43505\n",
      "Loss after 189357 examples: 5.67840\n"
     ]
    },
    {
     "name": "stderr",
     "output_type": "stream",
     "text": [
      " 71%|███████   | 213/301 [16:43<06:48,  4.64s/it]"
     ]
    },
    {
     "name": "stdout",
     "output_type": "stream",
     "text": [
      "Validation loss: 6.84213\n",
      "Loss after 190246 examples: 7.84839\n"
     ]
    },
    {
     "name": "stderr",
     "output_type": "stream",
     "text": [
      " 71%|███████   | 214/301 [16:48<06:43,  4.64s/it]"
     ]
    },
    {
     "name": "stdout",
     "output_type": "stream",
     "text": [
      "Validation loss: 6.63562\n",
      "Loss after 191135 examples: 4.76554\n"
     ]
    },
    {
     "name": "stderr",
     "output_type": "stream",
     "text": [
      " 71%|███████▏  | 215/301 [16:53<06:39,  4.64s/it]"
     ]
    },
    {
     "name": "stdout",
     "output_type": "stream",
     "text": [
      "Validation loss: 7.10905\n",
      "Loss after 192024 examples: 6.74115\n",
      "Validation loss: 7.18240\n",
      "Logging table at epoch 215\n"
     ]
    },
    {
     "name": "stderr",
     "output_type": "stream",
     "text": [
      " 72%|███████▏  | 216/301 [16:58<06:39,  4.70s/it]"
     ]
    },
    {
     "name": "stdout",
     "output_type": "stream",
     "text": [
      "Loss after 192913 examples: 5.31354\n"
     ]
    },
    {
     "name": "stderr",
     "output_type": "stream",
     "text": [
      " 72%|███████▏  | 217/301 [17:02<06:30,  4.65s/it]"
     ]
    },
    {
     "name": "stdout",
     "output_type": "stream",
     "text": [
      "Validation loss: 7.25651\n",
      "Loss after 193802 examples: 5.31459\n"
     ]
    },
    {
     "name": "stderr",
     "output_type": "stream",
     "text": [
      " 72%|███████▏  | 218/301 [17:07<06:24,  4.64s/it]"
     ]
    },
    {
     "name": "stdout",
     "output_type": "stream",
     "text": [
      "Validation loss: 7.19913\n",
      "Loss after 194691 examples: 5.59154\n"
     ]
    },
    {
     "name": "stderr",
     "output_type": "stream",
     "text": [
      " 73%|███████▎  | 219/301 [17:11<06:18,  4.62s/it]"
     ]
    },
    {
     "name": "stdout",
     "output_type": "stream",
     "text": [
      "Validation loss: 5.61439\n",
      "Loss after 195580 examples: 4.51425\n"
     ]
    },
    {
     "name": "stderr",
     "output_type": "stream",
     "text": [
      " 73%|███████▎  | 220/301 [17:16<06:14,  4.63s/it]"
     ]
    },
    {
     "name": "stdout",
     "output_type": "stream",
     "text": [
      "Validation loss: 5.93434\n",
      "Loss after 196469 examples: 8.41545\n",
      "Validation loss: 6.34578\n",
      "Logging table at epoch 220\n"
     ]
    },
    {
     "name": "stderr",
     "output_type": "stream",
     "text": [
      " 73%|███████▎  | 221/301 [17:21<06:17,  4.72s/it]"
     ]
    },
    {
     "name": "stdout",
     "output_type": "stream",
     "text": [
      "Loss after 197358 examples: 9.58364\n"
     ]
    },
    {
     "name": "stderr",
     "output_type": "stream",
     "text": [
      " 74%|███████▍  | 222/301 [17:25<06:09,  4.68s/it]"
     ]
    },
    {
     "name": "stdout",
     "output_type": "stream",
     "text": [
      "Validation loss: 7.32818\n",
      "Loss after 198247 examples: 3.69116\n"
     ]
    },
    {
     "name": "stderr",
     "output_type": "stream",
     "text": [
      " 74%|███████▍  | 223/301 [17:30<06:04,  4.67s/it]"
     ]
    },
    {
     "name": "stdout",
     "output_type": "stream",
     "text": [
      "Validation loss: 7.28996\n",
      "Loss after 199136 examples: 4.22246\n"
     ]
    },
    {
     "name": "stderr",
     "output_type": "stream",
     "text": [
      " 74%|███████▍  | 224/301 [17:35<05:54,  4.61s/it]"
     ]
    },
    {
     "name": "stdout",
     "output_type": "stream",
     "text": [
      "Validation loss: 5.75940\n",
      "Loss after 200025 examples: 4.48607\n"
     ]
    },
    {
     "name": "stderr",
     "output_type": "stream",
     "text": [
      " 75%|███████▍  | 225/301 [17:39<05:49,  4.60s/it]"
     ]
    },
    {
     "name": "stdout",
     "output_type": "stream",
     "text": [
      "Validation loss: 7.54075\n",
      "Loss after 200914 examples: 3.31323\n",
      "Validation loss: 6.36685\n",
      "Logging table at epoch 225\n"
     ]
    },
    {
     "name": "stderr",
     "output_type": "stream",
     "text": [
      " 75%|███████▌  | 226/301 [17:44<05:47,  4.63s/it]"
     ]
    },
    {
     "name": "stdout",
     "output_type": "stream",
     "text": [
      "Loss after 201803 examples: 3.60749\n"
     ]
    },
    {
     "name": "stderr",
     "output_type": "stream",
     "text": [
      " 75%|███████▌  | 227/301 [17:48<05:42,  4.63s/it]"
     ]
    },
    {
     "name": "stdout",
     "output_type": "stream",
     "text": [
      "Validation loss: 6.13251\n",
      "Loss after 202692 examples: 4.32355\n"
     ]
    },
    {
     "name": "stderr",
     "output_type": "stream",
     "text": [
      " 76%|███████▌  | 228/301 [17:53<05:38,  4.63s/it]"
     ]
    },
    {
     "name": "stdout",
     "output_type": "stream",
     "text": [
      "Validation loss: 6.82522\n",
      "Loss after 203581 examples: 4.64672\n"
     ]
    },
    {
     "name": "stderr",
     "output_type": "stream",
     "text": [
      " 76%|███████▌  | 229/301 [17:58<05:33,  4.63s/it]"
     ]
    },
    {
     "name": "stdout",
     "output_type": "stream",
     "text": [
      "Validation loss: 6.73297\n",
      "Loss after 204470 examples: 3.26231\n"
     ]
    },
    {
     "name": "stderr",
     "output_type": "stream",
     "text": [
      " 76%|███████▋  | 230/301 [18:02<05:26,  4.60s/it]"
     ]
    },
    {
     "name": "stdout",
     "output_type": "stream",
     "text": [
      "Validation loss: 6.29039\n",
      "Loss after 205359 examples: 9.16205\n"
     ]
    },
    {
     "name": "stderr",
     "output_type": "stream",
     "text": [
      " 77%|███████▋  | 231/301 [18:07<05:26,  4.67s/it]"
     ]
    },
    {
     "name": "stdout",
     "output_type": "stream",
     "text": [
      "Validation loss: 6.82864\n",
      "Logging table at epoch 230\n",
      "Loss after 206248 examples: 3.64335\n"
     ]
    },
    {
     "name": "stderr",
     "output_type": "stream",
     "text": [
      " 77%|███████▋  | 232/301 [18:12<05:19,  4.63s/it]"
     ]
    },
    {
     "name": "stdout",
     "output_type": "stream",
     "text": [
      "Validation loss: 6.67863\n",
      "Loss after 207137 examples: 4.83249\n"
     ]
    },
    {
     "name": "stderr",
     "output_type": "stream",
     "text": [
      " 77%|███████▋  | 233/301 [18:16<05:14,  4.62s/it]"
     ]
    },
    {
     "name": "stdout",
     "output_type": "stream",
     "text": [
      "Validation loss: 7.18932\n",
      "Loss after 208026 examples: 4.28094\n"
     ]
    },
    {
     "name": "stderr",
     "output_type": "stream",
     "text": [
      " 78%|███████▊  | 234/301 [18:21<05:09,  4.62s/it]"
     ]
    },
    {
     "name": "stdout",
     "output_type": "stream",
     "text": [
      "Validation loss: 6.06961\n",
      "Loss after 208915 examples: 4.68867\n"
     ]
    },
    {
     "name": "stderr",
     "output_type": "stream",
     "text": [
      " 78%|███████▊  | 235/301 [18:26<05:06,  4.65s/it]"
     ]
    },
    {
     "name": "stdout",
     "output_type": "stream",
     "text": [
      "Validation loss: 5.78941\n",
      "Loss after 209804 examples: 7.75967\n",
      "Validation loss: 5.90344\n",
      "Logging table at epoch 235\n"
     ]
    },
    {
     "name": "stderr",
     "output_type": "stream",
     "text": [
      " 78%|███████▊  | 236/301 [18:30<05:04,  4.68s/it]"
     ]
    },
    {
     "name": "stdout",
     "output_type": "stream",
     "text": [
      "Loss after 210693 examples: 7.10009\n"
     ]
    },
    {
     "name": "stderr",
     "output_type": "stream",
     "text": [
      " 79%|███████▊  | 237/301 [18:35<04:58,  4.67s/it]"
     ]
    },
    {
     "name": "stdout",
     "output_type": "stream",
     "text": [
      "Validation loss: 7.05086\n",
      "Loss after 211582 examples: 2.26831\n"
     ]
    },
    {
     "name": "stderr",
     "output_type": "stream",
     "text": [
      " 79%|███████▉  | 238/301 [18:40<04:52,  4.64s/it]"
     ]
    },
    {
     "name": "stdout",
     "output_type": "stream",
     "text": [
      "Validation loss: 7.08158\n",
      "Loss after 212471 examples: 6.53478\n"
     ]
    },
    {
     "name": "stderr",
     "output_type": "stream",
     "text": [
      " 79%|███████▉  | 239/301 [18:44<04:47,  4.64s/it]"
     ]
    },
    {
     "name": "stdout",
     "output_type": "stream",
     "text": [
      "Validation loss: 6.31780\n",
      "Loss after 213360 examples: 4.54171\n"
     ]
    },
    {
     "name": "stderr",
     "output_type": "stream",
     "text": [
      " 80%|███████▉  | 240/301 [18:49<04:43,  4.64s/it]"
     ]
    },
    {
     "name": "stdout",
     "output_type": "stream",
     "text": [
      "Validation loss: 5.78296\n",
      "Loss after 214249 examples: 5.59663\n"
     ]
    },
    {
     "name": "stderr",
     "output_type": "stream",
     "text": [
      " 80%|████████  | 241/301 [18:54<04:42,  4.70s/it]"
     ]
    },
    {
     "name": "stdout",
     "output_type": "stream",
     "text": [
      "Validation loss: 5.98753\n",
      "Logging table at epoch 240\n",
      "Loss after 215138 examples: 5.61194\n"
     ]
    },
    {
     "name": "stderr",
     "output_type": "stream",
     "text": [
      " 80%|████████  | 242/301 [18:58<04:33,  4.64s/it]"
     ]
    },
    {
     "name": "stdout",
     "output_type": "stream",
     "text": [
      "Validation loss: 6.38208\n",
      "Loss after 216027 examples: 10.00874\n"
     ]
    },
    {
     "name": "stderr",
     "output_type": "stream",
     "text": [
      " 81%|████████  | 243/301 [19:03<04:29,  4.64s/it]"
     ]
    },
    {
     "name": "stdout",
     "output_type": "stream",
     "text": [
      "Validation loss: 6.80047\n",
      "Loss after 216916 examples: 2.71613\n"
     ]
    },
    {
     "name": "stderr",
     "output_type": "stream",
     "text": [
      " 81%|████████  | 244/301 [19:07<04:23,  4.63s/it]"
     ]
    },
    {
     "name": "stdout",
     "output_type": "stream",
     "text": [
      "Validation loss: 7.51614\n",
      "Loss after 217805 examples: 8.46575\n"
     ]
    },
    {
     "name": "stderr",
     "output_type": "stream",
     "text": [
      " 81%|████████▏ | 245/301 [19:12<04:18,  4.62s/it]"
     ]
    },
    {
     "name": "stdout",
     "output_type": "stream",
     "text": [
      "Validation loss: 7.31830\n",
      "Loss after 218694 examples: 10.68558\n",
      "Validation loss: 5.84165\n",
      "Logging table at epoch 245\n"
     ]
    },
    {
     "name": "stderr",
     "output_type": "stream",
     "text": [
      " 82%|████████▏ | 246/301 [19:17<04:18,  4.69s/it]"
     ]
    },
    {
     "name": "stdout",
     "output_type": "stream",
     "text": [
      "Loss after 219583 examples: 7.18766\n"
     ]
    },
    {
     "name": "stderr",
     "output_type": "stream",
     "text": [
      " 82%|████████▏ | 247/301 [19:22<04:12,  4.68s/it]"
     ]
    },
    {
     "name": "stdout",
     "output_type": "stream",
     "text": [
      "Validation loss: 6.51050\n",
      "Loss after 220472 examples: 4.36371\n"
     ]
    },
    {
     "name": "stderr",
     "output_type": "stream",
     "text": [
      " 82%|████████▏ | 248/301 [19:26<04:08,  4.68s/it]"
     ]
    },
    {
     "name": "stdout",
     "output_type": "stream",
     "text": [
      "Validation loss: 5.83023\n",
      "Loss after 221361 examples: 5.20477\n"
     ]
    },
    {
     "name": "stderr",
     "output_type": "stream",
     "text": [
      " 83%|████████▎ | 249/301 [19:31<04:02,  4.66s/it]"
     ]
    },
    {
     "name": "stdout",
     "output_type": "stream",
     "text": [
      "Validation loss: 6.02160\n",
      "Loss after 222250 examples: 4.23715\n"
     ]
    },
    {
     "name": "stderr",
     "output_type": "stream",
     "text": [
      " 83%|████████▎ | 250/301 [19:35<03:57,  4.66s/it]"
     ]
    },
    {
     "name": "stdout",
     "output_type": "stream",
     "text": [
      "Validation loss: 7.15178\n",
      "Loss after 223139 examples: 6.08856\n",
      "Validation loss: 7.96531\n",
      "Logging table at epoch 250\n"
     ]
    },
    {
     "name": "stderr",
     "output_type": "stream",
     "text": [
      " 83%|████████▎ | 251/301 [19:40<03:54,  4.68s/it]"
     ]
    },
    {
     "name": "stdout",
     "output_type": "stream",
     "text": [
      "Loss after 224028 examples: 3.72185\n"
     ]
    },
    {
     "name": "stderr",
     "output_type": "stream",
     "text": [
      " 84%|████████▎ | 252/301 [19:45<03:49,  4.68s/it]"
     ]
    },
    {
     "name": "stdout",
     "output_type": "stream",
     "text": [
      "Validation loss: 6.67983\n",
      "Loss after 224917 examples: 3.62519\n"
     ]
    },
    {
     "name": "stderr",
     "output_type": "stream",
     "text": [
      " 84%|████████▍ | 253/301 [19:49<03:43,  4.66s/it]"
     ]
    },
    {
     "name": "stdout",
     "output_type": "stream",
     "text": [
      "Validation loss: 6.21439\n",
      "Loss after 225806 examples: 4.27881\n"
     ]
    },
    {
     "name": "stderr",
     "output_type": "stream",
     "text": [
      " 84%|████████▍ | 254/301 [19:54<03:39,  4.66s/it]"
     ]
    },
    {
     "name": "stdout",
     "output_type": "stream",
     "text": [
      "Validation loss: 6.57183\n",
      "Loss after 226695 examples: 7.18179\n"
     ]
    },
    {
     "name": "stderr",
     "output_type": "stream",
     "text": [
      " 85%|████████▍ | 255/301 [19:59<03:32,  4.62s/it]"
     ]
    },
    {
     "name": "stdout",
     "output_type": "stream",
     "text": [
      "Validation loss: 6.05742\n",
      "Loss after 227584 examples: 5.74809\n"
     ]
    },
    {
     "name": "stderr",
     "output_type": "stream",
     "text": [
      " 85%|████████▌ | 256/301 [20:03<03:29,  4.66s/it]"
     ]
    },
    {
     "name": "stdout",
     "output_type": "stream",
     "text": [
      "Validation loss: 5.80941\n",
      "Logging table at epoch 255\n",
      "Loss after 228473 examples: 7.25786\n"
     ]
    },
    {
     "name": "stderr",
     "output_type": "stream",
     "text": [
      " 85%|████████▌ | 257/301 [20:08<03:23,  4.63s/it]"
     ]
    },
    {
     "name": "stdout",
     "output_type": "stream",
     "text": [
      "Validation loss: 6.28611\n",
      "Loss after 229362 examples: 7.85979\n"
     ]
    },
    {
     "name": "stderr",
     "output_type": "stream",
     "text": [
      " 86%|████████▌ | 258/301 [20:13<03:19,  4.63s/it]"
     ]
    },
    {
     "name": "stdout",
     "output_type": "stream",
     "text": [
      "Validation loss: 5.82940\n",
      "Loss after 230251 examples: 4.05267\n"
     ]
    },
    {
     "name": "stderr",
     "output_type": "stream",
     "text": [
      " 86%|████████▌ | 259/301 [20:17<03:13,  4.60s/it]"
     ]
    },
    {
     "name": "stdout",
     "output_type": "stream",
     "text": [
      "Validation loss: 6.05686\n",
      "Loss after 231140 examples: 6.82341\n"
     ]
    },
    {
     "name": "stderr",
     "output_type": "stream",
     "text": [
      " 86%|████████▋ | 260/301 [20:22<03:09,  4.63s/it]"
     ]
    },
    {
     "name": "stdout",
     "output_type": "stream",
     "text": [
      "Validation loss: 6.00991\n",
      "Loss after 232029 examples: 4.52190\n",
      "Validation loss: 5.87546\n",
      "Logging table at epoch 260\n"
     ]
    },
    {
     "name": "stderr",
     "output_type": "stream",
     "text": [
      " 87%|████████▋ | 261/301 [20:27<03:06,  4.67s/it]"
     ]
    },
    {
     "name": "stdout",
     "output_type": "stream",
     "text": [
      "Loss after 232918 examples: 4.21367\n"
     ]
    },
    {
     "name": "stderr",
     "output_type": "stream",
     "text": [
      " 87%|████████▋ | 262/301 [20:31<03:01,  4.64s/it]"
     ]
    },
    {
     "name": "stdout",
     "output_type": "stream",
     "text": [
      "Validation loss: 7.18303\n",
      "Loss after 233807 examples: 8.42739\n"
     ]
    },
    {
     "name": "stderr",
     "output_type": "stream",
     "text": [
      " 87%|████████▋ | 263/301 [20:36<02:55,  4.61s/it]"
     ]
    },
    {
     "name": "stdout",
     "output_type": "stream",
     "text": [
      "Validation loss: 7.02810\n",
      "Loss after 234696 examples: 4.56164\n"
     ]
    },
    {
     "name": "stderr",
     "output_type": "stream",
     "text": [
      " 88%|████████▊ | 264/301 [20:40<02:50,  4.61s/it]"
     ]
    },
    {
     "name": "stdout",
     "output_type": "stream",
     "text": [
      "Validation loss: 6.03847\n",
      "Loss after 235585 examples: 6.01635\n"
     ]
    },
    {
     "name": "stderr",
     "output_type": "stream",
     "text": [
      " 88%|████████▊ | 265/301 [20:45<02:45,  4.60s/it]"
     ]
    },
    {
     "name": "stdout",
     "output_type": "stream",
     "text": [
      "Validation loss: 5.85334\n",
      "Loss after 236474 examples: 4.11030\n",
      "Validation loss: 6.37762\n",
      "Logging table at epoch 265\n"
     ]
    },
    {
     "name": "stderr",
     "output_type": "stream",
     "text": [
      " 88%|████████▊ | 266/301 [20:50<02:44,  4.71s/it]"
     ]
    },
    {
     "name": "stdout",
     "output_type": "stream",
     "text": [
      "Loss after 237363 examples: 5.51190\n"
     ]
    },
    {
     "name": "stderr",
     "output_type": "stream",
     "text": [
      " 89%|████████▊ | 267/301 [20:55<02:39,  4.68s/it]"
     ]
    },
    {
     "name": "stdout",
     "output_type": "stream",
     "text": [
      "Validation loss: 6.19345\n",
      "Loss after 238252 examples: 6.55809\n"
     ]
    },
    {
     "name": "stderr",
     "output_type": "stream",
     "text": [
      " 89%|████████▉ | 268/301 [20:59<02:34,  4.68s/it]"
     ]
    },
    {
     "name": "stdout",
     "output_type": "stream",
     "text": [
      "Validation loss: 7.09752\n",
      "Loss after 239141 examples: 6.41486\n"
     ]
    },
    {
     "name": "stderr",
     "output_type": "stream",
     "text": [
      " 89%|████████▉ | 269/301 [21:04<02:28,  4.64s/it]"
     ]
    },
    {
     "name": "stdout",
     "output_type": "stream",
     "text": [
      "Validation loss: 6.10237\n",
      "Loss after 240030 examples: 6.29891\n"
     ]
    },
    {
     "name": "stderr",
     "output_type": "stream",
     "text": [
      " 90%|████████▉ | 270/301 [21:08<02:24,  4.67s/it]"
     ]
    },
    {
     "name": "stdout",
     "output_type": "stream",
     "text": [
      "Validation loss: 5.68702\n",
      "Loss after 240919 examples: 5.41242\n",
      "Validation loss: 7.11668\n",
      "Logging table at epoch 270\n"
     ]
    },
    {
     "name": "stderr",
     "output_type": "stream",
     "text": [
      " 90%|█████████ | 271/301 [21:14<02:23,  4.78s/it]"
     ]
    },
    {
     "name": "stdout",
     "output_type": "stream",
     "text": [
      "Loss after 241808 examples: 5.23579\n"
     ]
    },
    {
     "name": "stderr",
     "output_type": "stream",
     "text": [
      " 90%|█████████ | 272/301 [21:18<02:17,  4.73s/it]"
     ]
    },
    {
     "name": "stdout",
     "output_type": "stream",
     "text": [
      "Validation loss: 5.25075\n",
      "Loss after 242697 examples: 7.14544\n"
     ]
    },
    {
     "name": "stderr",
     "output_type": "stream",
     "text": [
      " 91%|█████████ | 273/301 [21:23<02:12,  4.75s/it]"
     ]
    },
    {
     "name": "stdout",
     "output_type": "stream",
     "text": [
      "Validation loss: 6.78334\n",
      "Loss after 243586 examples: 3.27659\n"
     ]
    },
    {
     "name": "stderr",
     "output_type": "stream",
     "text": [
      " 91%|█████████ | 274/301 [21:28<02:07,  4.71s/it]"
     ]
    },
    {
     "name": "stdout",
     "output_type": "stream",
     "text": [
      "Validation loss: 5.87010\n",
      "Loss after 244475 examples: 2.93392\n"
     ]
    },
    {
     "name": "stderr",
     "output_type": "stream",
     "text": [
      " 91%|█████████▏| 275/301 [21:32<02:02,  4.70s/it]"
     ]
    },
    {
     "name": "stdout",
     "output_type": "stream",
     "text": [
      "Validation loss: 6.89143\n",
      "Loss after 245364 examples: 3.46506\n",
      "Validation loss: 6.05092\n",
      "Logging table at epoch 275\n"
     ]
    },
    {
     "name": "stderr",
     "output_type": "stream",
     "text": [
      " 92%|█████████▏| 276/301 [21:37<01:58,  4.72s/it]"
     ]
    },
    {
     "name": "stdout",
     "output_type": "stream",
     "text": [
      "Loss after 246253 examples: 4.75980\n"
     ]
    },
    {
     "name": "stderr",
     "output_type": "stream",
     "text": [
      " 92%|█████████▏| 277/301 [21:42<01:53,  4.72s/it]"
     ]
    },
    {
     "name": "stdout",
     "output_type": "stream",
     "text": [
      "Validation loss: 6.06347\n",
      "Loss after 247142 examples: 7.83025\n"
     ]
    },
    {
     "name": "stderr",
     "output_type": "stream",
     "text": [
      " 92%|█████████▏| 278/301 [21:46<01:47,  4.69s/it]"
     ]
    },
    {
     "name": "stdout",
     "output_type": "stream",
     "text": [
      "Validation loss: 6.36270\n",
      "Loss after 248031 examples: 8.15490\n"
     ]
    },
    {
     "name": "stderr",
     "output_type": "stream",
     "text": [
      " 93%|█████████▎| 279/301 [21:51<01:43,  4.72s/it]"
     ]
    },
    {
     "name": "stdout",
     "output_type": "stream",
     "text": [
      "Validation loss: 5.85672\n",
      "Loss after 248920 examples: 4.56628\n"
     ]
    },
    {
     "name": "stderr",
     "output_type": "stream",
     "text": [
      " 93%|█████████▎| 280/301 [21:56<01:38,  4.67s/it]"
     ]
    },
    {
     "name": "stdout",
     "output_type": "stream",
     "text": [
      "Validation loss: 6.15162\n",
      "Loss after 249809 examples: 9.55533\n",
      "Validation loss: 6.48553\n",
      "Logging table at epoch 280\n"
     ]
    },
    {
     "name": "stderr",
     "output_type": "stream",
     "text": [
      " 93%|█████████▎| 281/301 [22:01<01:34,  4.73s/it]"
     ]
    },
    {
     "name": "stdout",
     "output_type": "stream",
     "text": [
      "Loss after 250698 examples: 5.46958\n"
     ]
    },
    {
     "name": "stderr",
     "output_type": "stream",
     "text": [
      " 94%|█████████▎| 282/301 [22:05<01:28,  4.68s/it]"
     ]
    },
    {
     "name": "stdout",
     "output_type": "stream",
     "text": [
      "Validation loss: 5.68048\n",
      "Loss after 251587 examples: 3.49490\n"
     ]
    },
    {
     "name": "stderr",
     "output_type": "stream",
     "text": [
      " 94%|█████████▍| 283/301 [22:10<01:24,  4.67s/it]"
     ]
    },
    {
     "name": "stdout",
     "output_type": "stream",
     "text": [
      "Validation loss: 6.28633\n",
      "Loss after 252476 examples: 8.91222\n"
     ]
    },
    {
     "name": "stderr",
     "output_type": "stream",
     "text": [
      " 94%|█████████▍| 284/301 [22:14<01:18,  4.64s/it]"
     ]
    },
    {
     "name": "stdout",
     "output_type": "stream",
     "text": [
      "Validation loss: 5.71803\n",
      "Loss after 253365 examples: 3.99154\n"
     ]
    },
    {
     "name": "stderr",
     "output_type": "stream",
     "text": [
      " 95%|█████████▍| 285/301 [22:19<01:14,  4.69s/it]"
     ]
    },
    {
     "name": "stdout",
     "output_type": "stream",
     "text": [
      "Validation loss: 5.88252\n",
      "Loss after 254254 examples: 3.83477\n",
      "Validation loss: 6.13893\n",
      "Logging table at epoch 285\n"
     ]
    },
    {
     "name": "stderr",
     "output_type": "stream",
     "text": [
      " 95%|█████████▌| 286/301 [22:24<01:10,  4.70s/it]"
     ]
    },
    {
     "name": "stdout",
     "output_type": "stream",
     "text": [
      "Loss after 255143 examples: 7.43701\n"
     ]
    },
    {
     "name": "stderr",
     "output_type": "stream",
     "text": [
      " 95%|█████████▌| 287/301 [22:29<01:05,  4.69s/it]"
     ]
    },
    {
     "name": "stdout",
     "output_type": "stream",
     "text": [
      "Validation loss: 6.32469\n",
      "Loss after 256032 examples: 2.95616\n"
     ]
    },
    {
     "name": "stderr",
     "output_type": "stream",
     "text": [
      " 96%|█████████▌| 288/301 [22:33<01:00,  4.65s/it]"
     ]
    },
    {
     "name": "stdout",
     "output_type": "stream",
     "text": [
      "Validation loss: 6.51747\n",
      "Loss after 256921 examples: 7.64689\n"
     ]
    },
    {
     "name": "stderr",
     "output_type": "stream",
     "text": [
      " 96%|█████████▌| 289/301 [22:38<00:55,  4.65s/it]"
     ]
    },
    {
     "name": "stdout",
     "output_type": "stream",
     "text": [
      "Validation loss: 6.54157\n",
      "Loss after 257810 examples: 6.74423\n"
     ]
    },
    {
     "name": "stderr",
     "output_type": "stream",
     "text": [
      " 96%|█████████▋| 290/301 [22:42<00:51,  4.64s/it]"
     ]
    },
    {
     "name": "stdout",
     "output_type": "stream",
     "text": [
      "Validation loss: 7.10587\n",
      "Loss after 258699 examples: 3.51779\n",
      "Validation loss: 7.40802\n",
      "Logging table at epoch 290\n"
     ]
    },
    {
     "name": "stderr",
     "output_type": "stream",
     "text": [
      " 97%|█████████▋| 291/301 [22:47<00:47,  4.70s/it]"
     ]
    },
    {
     "name": "stdout",
     "output_type": "stream",
     "text": [
      "Loss after 259588 examples: 3.30027\n"
     ]
    },
    {
     "name": "stderr",
     "output_type": "stream",
     "text": [
      " 97%|█████████▋| 292/301 [22:52<00:42,  4.70s/it]"
     ]
    },
    {
     "name": "stdout",
     "output_type": "stream",
     "text": [
      "Validation loss: 7.17062\n",
      "Loss after 260477 examples: 6.96058\n"
     ]
    },
    {
     "name": "stderr",
     "output_type": "stream",
     "text": [
      " 97%|█████████▋| 293/301 [22:57<00:37,  4.68s/it]"
     ]
    },
    {
     "name": "stdout",
     "output_type": "stream",
     "text": [
      "Validation loss: 7.35074\n",
      "Loss after 261366 examples: 6.77407\n"
     ]
    },
    {
     "name": "stderr",
     "output_type": "stream",
     "text": [
      " 98%|█████████▊| 294/301 [23:01<00:32,  4.64s/it]"
     ]
    },
    {
     "name": "stdout",
     "output_type": "stream",
     "text": [
      "Validation loss: 6.31668\n",
      "Loss after 262255 examples: 4.10339\n"
     ]
    },
    {
     "name": "stderr",
     "output_type": "stream",
     "text": [
      " 98%|█████████▊| 295/301 [23:06<00:27,  4.65s/it]"
     ]
    },
    {
     "name": "stdout",
     "output_type": "stream",
     "text": [
      "Validation loss: 6.27058\n",
      "Loss after 263144 examples: 7.35868\n",
      "Validation loss: 6.82030\n",
      "Logging table at epoch 295\n"
     ]
    },
    {
     "name": "stderr",
     "output_type": "stream",
     "text": [
      " 98%|█████████▊| 296/301 [23:11<00:23,  4.71s/it]"
     ]
    },
    {
     "name": "stdout",
     "output_type": "stream",
     "text": [
      "Loss after 264033 examples: 4.53770\n"
     ]
    },
    {
     "name": "stderr",
     "output_type": "stream",
     "text": [
      " 99%|█████████▊| 297/301 [23:15<00:18,  4.67s/it]"
     ]
    },
    {
     "name": "stdout",
     "output_type": "stream",
     "text": [
      "Validation loss: 6.12333\n",
      "Loss after 264922 examples: 5.63266\n"
     ]
    },
    {
     "name": "stderr",
     "output_type": "stream",
     "text": [
      " 99%|█████████▉| 298/301 [23:20<00:14,  4.67s/it]"
     ]
    },
    {
     "name": "stdout",
     "output_type": "stream",
     "text": [
      "Validation loss: 6.11027\n",
      "Loss after 265811 examples: 4.10490\n"
     ]
    },
    {
     "name": "stderr",
     "output_type": "stream",
     "text": [
      " 99%|█████████▉| 299/301 [23:25<00:09,  4.71s/it]"
     ]
    },
    {
     "name": "stdout",
     "output_type": "stream",
     "text": [
      "Validation loss: 6.97003\n",
      "Loss after 266700 examples: 4.65083\n"
     ]
    },
    {
     "name": "stderr",
     "output_type": "stream",
     "text": [
      "100%|█████████▉| 300/301 [23:29<00:04,  4.70s/it]"
     ]
    },
    {
     "name": "stdout",
     "output_type": "stream",
     "text": [
      "Validation loss: 7.44818\n",
      "Loss after 267589 examples: 4.29563\n",
      "Validation loss: 6.41079\n",
      "Logging table at epoch 300\n"
     ]
    },
    {
     "name": "stderr",
     "output_type": "stream",
     "text": [
      "100%|██████████| 301/301 [23:34<00:00,  4.70s/it]\n"
     ]
    },
    {
     "data": {
      "application/vnd.jupyter.widget-view+json": {
       "model_id": "72e34dcdcfa744558a5f6b11884299f9",
       "version_major": 2,
       "version_minor": 0
      },
      "text/plain": [
       "VBox(children=(Label(value='0.467 MB of 0.467 MB uploaded\\r'), FloatProgress(value=1.0, max=1.0)))"
      ]
     },
     "metadata": {},
     "output_type": "display_data"
    },
    {
     "data": {
      "text/html": [
       "<style>\n",
       "    table.wandb td:nth-child(1) { padding: 0 10px; text-align: left ; width: auto;} td:nth-child(2) {text-align: left ; width: 100%}\n",
       "    .wandb-row { display: flex; flex-direction: row; flex-wrap: wrap; justify-content: flex-start; width: 100% }\n",
       "    .wandb-col { display: flex; flex-direction: column; flex-basis: 100%; flex: 1; padding: 10px; }\n",
       "    </style>\n",
       "<div class=\"wandb-row\"><div class=\"wandb-col\"><h3>Run history:</h3><br/><table class=\"wandb\"><tr><td>epoch</td><td>▁▁▁▁▁▂▂▂▂▂▃▃▃▃▃▃▄▄▄▄▄▄▅▅▅▆▆▆▆▆▆▆▇▇▇▇▇███</td></tr><tr><td>train loss</td><td>▁▇▃█▃▄▃▇▂▂▇█▇▆▂▄▂▂▂▂▃▁▄▁▃▄▃▄▁▁▂▃▂▆▆▂▅▅▅▄</td></tr><tr><td>val_loss</td><td>▇▄▄▂▅█▃▄▂▄▃▃▄▃▆▅▂▅▃▃▄▃▄▄▁▆▂▄▄▅▄▆▂▅▄▁▅▁▂▅</td></tr></table><br/></div><div class=\"wandb-col\"><h3>Run summary:</h3><br/><table class=\"wandb\"><tr><td>epoch</td><td>300</td></tr><tr><td>train loss</td><td>4.29563</td></tr><tr><td>val_loss</td><td>6.41079</td></tr></table><br/></div></div>"
      ],
      "text/plain": [
       "<IPython.core.display.HTML object>"
      ]
     },
     "metadata": {},
     "output_type": "display_data"
    },
    {
     "data": {
      "text/html": [
       " View run <strong style=\"color:#cdcd00\">wandering-snow-36</strong> at: <a href='https://wandb.ai/ey267-university-of-cambridge/convnet-ae-pytorch-medaka/runs/pf3sxufx' target=\"_blank\">https://wandb.ai/ey267-university-of-cambridge/convnet-ae-pytorch-medaka/runs/pf3sxufx</a><br/> View project at: <a href='https://wandb.ai/ey267-university-of-cambridge/convnet-ae-pytorch-medaka' target=\"_blank\">https://wandb.ai/ey267-university-of-cambridge/convnet-ae-pytorch-medaka</a><br/>Synced 5 W&B file(s), 0 media file(s), 122 artifact file(s) and 61 other file(s)"
      ],
      "text/plain": [
       "<IPython.core.display.HTML object>"
      ]
     },
     "metadata": {},
     "output_type": "display_data"
    },
    {
     "data": {
      "text/html": [
       "Find logs at: <code>./wandb/run-20241103_012508-pf3sxufx/logs</code>"
      ],
      "text/plain": [
       "<IPython.core.display.HTML object>"
      ]
     },
     "metadata": {},
     "output_type": "display_data"
    },
    {
     "name": "stdout",
     "output_type": "stream",
     "text": [
      "wandering-snow-36\n"
     ]
    }
   ],
   "source": [
    "os.environ[\"CUDA_LAUNCH_BLOCKING\"] = \"1\"\n",
    "model, run_name = model_pipeline(config)\n",
    "\n",
    "torch.cuda.empty_cache()\n",
    "print(run_name)"
   ]
  },
  {
   "cell_type": "markdown",
   "metadata": {},
   "source": [
    "## Remove layers after the embedding layer"
   ]
  },
  {
   "cell_type": "code",
   "execution_count": 65,
   "metadata": {},
   "outputs": [],
   "source": [
    "class AutoEncoderConv(nn.Module):\n",
    "    def __init__(self, input_dim, latent_dim):\n",
    "        super(AutoEncoderConv, self).__init__()\n",
    "        # encoder\n",
    "        self.conv1 = nn.Sequential(\n",
    "            nn.Conv2d(input_dim[0], 128, kernel_size=4, stride=2, padding=1),\n",
    "            nn.BatchNorm2d(128),\n",
    "            nn.ReLU()\n",
    "        )\n",
    "        self.conv2 = nn.Sequential(\n",
    "            nn.Conv2d(128, 256, kernel_size=4, stride=2, padding=1),\n",
    "            nn.BatchNorm2d(256),\n",
    "            nn.ReLU()\n",
    "        )\n",
    "        self.conv3 = nn.Sequential(\n",
    "            nn.Conv2d(256, 512, kernel_size=4, stride=2, padding=1),\n",
    "            nn.BatchNorm2d(512),\n",
    "            nn.ReLU()\n",
    "        )\n",
    "        self.conv4 = nn.Sequential(\n",
    "            nn.Conv2d(512, 1024, kernel_size=4, stride=2, padding=1),\n",
    "            nn.BatchNorm2d(1024),\n",
    "            nn.ReLU()\n",
    "        )\n",
    "        self.embedding = nn.Linear(1024 * 14 * 14, latent_dim)\n",
    "\n",
    "        # decoder\n",
    "        self.deconv1 = nn.Sequential(nn.Linear(latent_dim, 1024 * 28 * 28))\n",
    "        self.deconv2 = nn.Sequential(\n",
    "            nn.ConvTranspose2d(1024, 512, kernel_size=5, stride=2, padding=2),\n",
    "            nn.BatchNorm2d(512),\n",
    "            nn.ReLU()\n",
    "        )\n",
    "        self.deconv3 = nn.Sequential(\n",
    "            nn.ConvTranspose2d(512, 256, kernel_size=5, stride=2, padding=1, output_padding=0),\n",
    "            nn.BatchNorm2d(256),\n",
    "            nn.ReLU()\n",
    "        )\n",
    "        self.deconv4 = nn.Sequential(\n",
    "            nn.ConvTranspose2d(256, 128, kernel_size=5, stride=2, padding=2, output_padding=1),\n",
    "            nn.BatchNorm2d(128),\n",
    "            nn.ReLU()\n",
    "        )\n",
    "        self.deconv5 = nn.Sequential(\n",
    "                nn.ConvTranspose2d(128, input_dim[0], 5, 1, padding=1), nn.Sigmoid()\n",
    "        )\n",
    "    \n",
    "    def forward(self, x):\n",
    "        x = self.conv1(x)\n",
    "        x = self.conv2(x)\n",
    "        x = self.conv3(x)\n",
    "        x = self.conv4(x)\n",
    "        x = self.embedding(x.reshape(x.shape[0], -1))\n",
    "        return x\n",
    "        x = self.deconv1(x)\n",
    "        x = x.view(-1, 1024, 28, 28)\n",
    "        x = self.deconv2(x)\n",
    "        x = self.deconv3(x)\n",
    "        x = self.deconv4(x)\n",
    "        x = self.deconv5(x)"
   ]
  },
  {
   "cell_type": "code",
   "execution_count": 67,
   "metadata": {},
   "outputs": [
    {
     "data": {
      "text/plain": [
       "==========================================================================================\n",
       "Layer (type:depth-idx)                   Output Shape              Param #\n",
       "==========================================================================================\n",
       "AutoEncoderConv                          [1, 128]                  120,778,755\n",
       "├─Sequential: 1-1                        [1, 128, 112, 112]        --\n",
       "│    └─Conv2d: 2-1                       [1, 128, 112, 112]        6,272\n",
       "│    └─BatchNorm2d: 2-2                  [1, 128, 112, 112]        256\n",
       "│    └─ReLU: 2-3                         [1, 128, 112, 112]        --\n",
       "├─Sequential: 1-2                        [1, 256, 56, 56]          --\n",
       "│    └─Conv2d: 2-4                       [1, 256, 56, 56]          524,544\n",
       "│    └─BatchNorm2d: 2-5                  [1, 256, 56, 56]          512\n",
       "│    └─ReLU: 2-6                         [1, 256, 56, 56]          --\n",
       "├─Sequential: 1-3                        [1, 512, 28, 28]          --\n",
       "│    └─Conv2d: 2-7                       [1, 512, 28, 28]          2,097,664\n",
       "│    └─BatchNorm2d: 2-8                  [1, 512, 28, 28]          1,024\n",
       "│    └─ReLU: 2-9                         [1, 512, 28, 28]          --\n",
       "├─Sequential: 1-4                        [1, 1024, 14, 14]         --\n",
       "│    └─Conv2d: 2-10                      [1, 1024, 14, 14]         8,389,632\n",
       "│    └─BatchNorm2d: 2-11                 [1, 1024, 14, 14]         2,048\n",
       "│    └─ReLU: 2-12                        [1, 1024, 14, 14]         --\n",
       "├─Linear: 1-5                            [1, 128]                  25,690,240\n",
       "==========================================================================================\n",
       "Total params: 157,490,947\n",
       "Trainable params: 157,490,947\n",
       "Non-trainable params: 0\n",
       "Total mult-adds (G): 5.04\n",
       "==========================================================================================\n",
       "Input size (MB): 0.60\n",
       "Forward/backward pass size (MB): 48.17\n",
       "Params size (MB): 146.85\n",
       "Estimated Total Size (MB): 195.62\n",
       "=========================================================================================="
      ]
     },
     "execution_count": 67,
     "metadata": {},
     "output_type": "execute_result"
    }
   ],
   "source": [
    "summary(model, input_size=(1, 3, 224, 224))"
   ]
  },
  {
   "cell_type": "code",
   "execution_count": 28,
   "metadata": {},
   "outputs": [],
   "source": [
    "torch.cuda.empty_cache()\n",
    "# print(run_name)"
   ]
  },
  {
   "cell_type": "code",
   "execution_count": 22,
   "metadata": {},
   "outputs": [],
   "source": [
    "# Save trained model\n",
    "torch.save(model.state_dict(), \"/nfs/research/birney/users/esther/medaka-img/src_files/vanilla-ae-medaka/polished-snow-11.pth\")"
   ]
  },
  {
   "cell_type": "code",
   "execution_count": 23,
   "metadata": {},
   "outputs": [
    {
     "data": {
      "text/plain": [
       "<All keys matched successfully>"
      ]
     },
     "execution_count": 23,
     "metadata": {},
     "output_type": "execute_result"
    }
   ],
   "source": [
    "# Read model back in\n",
    "model = AutoEncoder(num_input, num_hidden_0, num_hidden_1, num_hidden_2, num_hidden_3, num_hidden_4)\n",
    "model.load_state_dict(torch.load(\"/nfs/research/birney/users/esther/medaka-img/src_files/vanilla-ae-medaka/dainty-breeze-4.pth\"))"
   ]
  },
  {
   "cell_type": "code",
   "execution_count": 73,
   "metadata": {},
   "outputs": [
    {
     "name": "stdout",
     "output_type": "stream",
     "text": [
      "torch.Size([3, 224, 224])\n"
     ]
    },
    {
     "data": {
      "text/plain": [
       "<matplotlib.image.AxesImage at 0x7fd79e0c9d60>"
      ]
     },
     "execution_count": 73,
     "metadata": {},
     "output_type": "execute_result"
    },
    {
     "data": {
      "image/png": "[encoded data removed]",
      "text/plain": [
       "<Figure size 640x480 with 1 Axes>"
      ]
     },
     "metadata": {},
     "output_type": "display_data"
    }
   ],
   "source": [
    "example = dataset[393]\n",
    "\n",
    "print(example[0].shape)\n",
    "plt.imshow(example[0].permute(1, 2, 0).cpu().numpy())"
   ]
  },
  {
   "cell_type": "code",
   "execution_count": 74,
   "metadata": {},
   "outputs": [
    {
     "name": "stdout",
     "output_type": "stream",
     "text": [
      "torch.Size([1, 128])\n"
     ]
    }
   ],
   "source": [
    "model.eval()\n",
    "print(model(example[0].unsqueeze(0)).shape)"
   ]
  },
  {
   "cell_type": "markdown",
   "metadata": {},
   "source": [
    "### Save the embedding vectors in a df"
   ]
  },
  {
   "cell_type": "code",
   "execution_count": 78,
   "metadata": {},
   "outputs": [
    {
     "name": "stdout",
     "output_type": "stream",
     "text": [
      "1112\n"
     ]
    }
   ],
   "source": [
    "print(len(dataset))"
   ]
  },
  {
   "cell_type": "code",
   "execution_count": 94,
   "metadata": {},
   "outputs": [
    {
     "name": "stdout",
     "output_type": "stream",
     "text": [
      "0\n",
      "10\n",
      "20\n",
      "30\n",
      "40\n",
      "50\n",
      "60\n",
      "70\n",
      "80\n",
      "90\n",
      "100\n",
      "110\n",
      "120\n",
      "130\n",
      "140\n",
      "150\n",
      "160\n",
      "170\n",
      "180\n",
      "190\n",
      "200\n",
      "210\n",
      "220\n",
      "230\n",
      "240\n",
      "250\n",
      "260\n",
      "270\n",
      "280\n",
      "290\n",
      "300\n",
      "310\n",
      "320\n",
      "330\n",
      "340\n",
      "350\n",
      "360\n",
      "370\n",
      "380\n",
      "390\n",
      "400\n",
      "410\n",
      "420\n",
      "430\n",
      "440\n",
      "450\n",
      "460\n",
      "470\n",
      "480\n",
      "490\n",
      "500\n",
      "510\n",
      "520\n",
      "530\n",
      "540\n",
      "550\n",
      "560\n",
      "570\n",
      "580\n",
      "590\n",
      "600\n",
      "610\n",
      "620\n",
      "630\n",
      "640\n",
      "650\n",
      "660\n",
      "670\n",
      "680\n",
      "690\n",
      "700\n",
      "710\n",
      "720\n",
      "730\n",
      "740\n",
      "750\n",
      "760\n",
      "770\n",
      "780\n",
      "790\n",
      "800\n",
      "810\n",
      "820\n",
      "830\n",
      "840\n",
      "850\n",
      "860\n",
      "870\n",
      "880\n",
      "890\n",
      "900\n",
      "910\n",
      "920\n",
      "930\n",
      "940\n",
      "950\n",
      "960\n",
      "970\n",
      "980\n",
      "990\n",
      "1000\n",
      "1010\n",
      "1020\n",
      "1030\n",
      "1040\n",
      "1050\n",
      "1060\n",
      "1070\n",
      "1080\n",
      "1090\n",
      "1100\n",
      "1110\n"
     ]
    },
    {
     "ename": "KeyError",
     "evalue": "1112",
     "output_type": "error",
     "traceback": [
      "\u001b[0;31m---------------------------------------------------------------------------\u001b[0m",
      "\u001b[0;31mValueError\u001b[0m                                Traceback (most recent call last)",
      "File \u001b[0;32m/hps/software/users/birney/esther/micromamba/envs/indigene-img/lib/python3.9/site-packages/pandas/core/indexes/range.py:413\u001b[0m, in \u001b[0;36mRangeIndex.get_loc\u001b[0;34m(self, key)\u001b[0m\n\u001b[1;32m    412\u001b[0m \u001b[39mtry\u001b[39;00m:\n\u001b[0;32m--> 413\u001b[0m     \u001b[39mreturn\u001b[39;00m \u001b[39mself\u001b[39;49m\u001b[39m.\u001b[39;49m_range\u001b[39m.\u001b[39;49mindex(new_key)\n\u001b[1;32m    414\u001b[0m \u001b[39mexcept\u001b[39;00m \u001b[39mValueError\u001b[39;00m \u001b[39mas\u001b[39;00m err:\n",
      "\u001b[0;31mValueError\u001b[0m: 1112 is not in range",
      "\nThe above exception was the direct cause of the following exception:\n",
      "\u001b[0;31mKeyError\u001b[0m                                  Traceback (most recent call last)",
      "\u001b[1;32m/nfs/research/birney/users/esther/medaka-img/scripts/train-pythae-based-convae-pytorch.ipynb Cell 45\u001b[0m line \u001b[0;36m5\n\u001b[1;32m      <a href='vscode-notebook-cell://ssh-remote%2B7b22686f73744e616d65223a22636f646f6e2d6770752d303130222c2275736572223a22657374686572227d/nfs/research/birney/users/esther/medaka-img/scripts/train-pythae-based-convae-pytorch.ipynb#Y102sdnNjb2RlLXJlbW90ZQ%3D%3D?line=1'>2</a>\u001b[0m feature_matrix \u001b[39m=\u001b[39m {}\n\u001b[1;32m      <a href='vscode-notebook-cell://ssh-remote%2B7b22686f73744e616d65223a22636f646f6e2d6770752d303130222c2275736572223a22657374686572227d/nfs/research/birney/users/esther/medaka-img/scripts/train-pythae-based-convae-pytorch.ipynb#Y102sdnNjb2RlLXJlbW90ZQ%3D%3D?line=2'>3</a>\u001b[0m counter \u001b[39m=\u001b[39m \u001b[39m0\u001b[39m\n\u001b[0;32m----> <a href='vscode-notebook-cell://ssh-remote%2B7b22686f73744e616d65223a22636f646f6e2d6770752d303130222c2275736572223a22657374686572227d/nfs/research/birney/users/esther/medaka-img/scripts/train-pythae-based-convae-pytorch.ipynb#Y102sdnNjb2RlLXJlbW90ZQ%3D%3D?line=4'>5</a>\u001b[0m \u001b[39mfor\u001b[39;00m image, image_name \u001b[39min\u001b[39;00m dataset:\n\u001b[1;32m      <a href='vscode-notebook-cell://ssh-remote%2B7b22686f73744e616d65223a22636f646f6e2d6770752d303130222c2275736572223a22657374686572227d/nfs/research/birney/users/esther/medaka-img/scripts/train-pythae-based-convae-pytorch.ipynb#Y102sdnNjb2RlLXJlbW90ZQ%3D%3D?line=5'>6</a>\u001b[0m     embedding \u001b[39m=\u001b[39m model(image\u001b[39m.\u001b[39munsqueeze(\u001b[39m0\u001b[39m))\n\u001b[1;32m      <a href='vscode-notebook-cell://ssh-remote%2B7b22686f73744e616d65223a22636f646f6e2d6770752d303130222c2275736572223a22657374686572227d/nfs/research/birney/users/esther/medaka-img/scripts/train-pythae-based-convae-pytorch.ipynb#Y102sdnNjb2RlLXJlbW90ZQ%3D%3D?line=6'>7</a>\u001b[0m     feature_matrix[image_name] \u001b[39m=\u001b[39m embedding\u001b[39m.\u001b[39mdetach()\u001b[39m.\u001b[39mcpu()\u001b[39m.\u001b[39mnumpy()\u001b[39m.\u001b[39mreshape(\u001b[39m128\u001b[39m)\n",
      "\u001b[1;32m/nfs/research/birney/users/esther/medaka-img/scripts/train-pythae-based-convae-pytorch.ipynb Cell 45\u001b[0m line \u001b[0;36m1\n\u001b[1;32m     <a href='vscode-notebook-cell://ssh-remote%2B7b22686f73744e616d65223a22636f646f6e2d6770752d303130222c2275736572223a22657374686572227d/nfs/research/birney/users/esther/medaka-img/scripts/train-pythae-based-convae-pytorch.ipynb#Y102sdnNjb2RlLXJlbW90ZQ%3D%3D?line=9'>10</a>\u001b[0m \u001b[39mdef\u001b[39;00m \u001b[39m__getitem__\u001b[39m(\u001b[39mself\u001b[39m, idx):\n\u001b[0;32m---> <a href='vscode-notebook-cell://ssh-remote%2B7b22686f73744e616d65223a22636f646f6e2d6770752d303130222c2275736572223a22657374686572227d/nfs/research/birney/users/esther/medaka-img/scripts/train-pythae-based-convae-pytorch.ipynb#Y102sdnNjb2RlLXJlbW90ZQ%3D%3D?line=10'>11</a>\u001b[0m     img_name \u001b[39m=\u001b[39m \u001b[39mself\u001b[39;49m\u001b[39m.\u001b[39;49mimage_paths[idx]\n\u001b[1;32m     <a href='vscode-notebook-cell://ssh-remote%2B7b22686f73744e616d65223a22636f646f6e2d6770752d303130222c2275736572223a22657374686572227d/nfs/research/birney/users/esther/medaka-img/scripts/train-pythae-based-convae-pytorch.ipynb#Y102sdnNjb2RlLXJlbW90ZQ%3D%3D?line=11'>12</a>\u001b[0m     img_path \u001b[39m=\u001b[39m \u001b[39mf\u001b[39m\u001b[39m'\u001b[39m\u001b[39m{\u001b[39;00m\u001b[39mself\u001b[39m\u001b[39m.\u001b[39msrc_dir\u001b[39m}\u001b[39;00m\u001b[39m/\u001b[39m\u001b[39m{\u001b[39;00mimg_name\u001b[39m}\u001b[39;00m\u001b[39m'\u001b[39m\n\u001b[1;32m     <a href='vscode-notebook-cell://ssh-remote%2B7b22686f73744e616d65223a22636f646f6e2d6770752d303130222c2275736572223a22657374686572227d/nfs/research/birney/users/esther/medaka-img/scripts/train-pythae-based-convae-pytorch.ipynb#Y102sdnNjb2RlLXJlbW90ZQ%3D%3D?line=13'>14</a>\u001b[0m     image \u001b[39m=\u001b[39m ski\u001b[39m.\u001b[39mio\u001b[39m.\u001b[39mimread(img_path)\n",
      "File \u001b[0;32m/hps/software/users/birney/esther/micromamba/envs/indigene-img/lib/python3.9/site-packages/pandas/core/series.py:1121\u001b[0m, in \u001b[0;36mSeries.__getitem__\u001b[0;34m(self, key)\u001b[0m\n\u001b[1;32m   1118\u001b[0m     \u001b[39mreturn\u001b[39;00m \u001b[39mself\u001b[39m\u001b[39m.\u001b[39m_values[key]\n\u001b[1;32m   1120\u001b[0m \u001b[39melif\u001b[39;00m key_is_scalar:\n\u001b[0;32m-> 1121\u001b[0m     \u001b[39mreturn\u001b[39;00m \u001b[39mself\u001b[39;49m\u001b[39m.\u001b[39;49m_get_value(key)\n\u001b[1;32m   1123\u001b[0m \u001b[39m# Convert generator to list before going through hashable part\u001b[39;00m\n\u001b[1;32m   1124\u001b[0m \u001b[39m# (We will iterate through the generator there to check for slices)\u001b[39;00m\n\u001b[1;32m   1125\u001b[0m \u001b[39mif\u001b[39;00m is_iterator(key):\n",
      "File \u001b[0;32m/hps/software/users/birney/esther/micromamba/envs/indigene-img/lib/python3.9/site-packages/pandas/core/series.py:1237\u001b[0m, in \u001b[0;36mSeries._get_value\u001b[0;34m(self, label, takeable)\u001b[0m\n\u001b[1;32m   1234\u001b[0m     \u001b[39mreturn\u001b[39;00m \u001b[39mself\u001b[39m\u001b[39m.\u001b[39m_values[label]\n\u001b[1;32m   1236\u001b[0m \u001b[39m# Similar to Index.get_value, but we do not fall back to positional\u001b[39;00m\n\u001b[0;32m-> 1237\u001b[0m loc \u001b[39m=\u001b[39m \u001b[39mself\u001b[39;49m\u001b[39m.\u001b[39;49mindex\u001b[39m.\u001b[39;49mget_loc(label)\n\u001b[1;32m   1239\u001b[0m \u001b[39mif\u001b[39;00m is_integer(loc):\n\u001b[1;32m   1240\u001b[0m     \u001b[39mreturn\u001b[39;00m \u001b[39mself\u001b[39m\u001b[39m.\u001b[39m_values[loc]\n",
      "File \u001b[0;32m/hps/software/users/birney/esther/micromamba/envs/indigene-img/lib/python3.9/site-packages/pandas/core/indexes/range.py:415\u001b[0m, in \u001b[0;36mRangeIndex.get_loc\u001b[0;34m(self, key)\u001b[0m\n\u001b[1;32m    413\u001b[0m         \u001b[39mreturn\u001b[39;00m \u001b[39mself\u001b[39m\u001b[39m.\u001b[39m_range\u001b[39m.\u001b[39mindex(new_key)\n\u001b[1;32m    414\u001b[0m     \u001b[39mexcept\u001b[39;00m \u001b[39mValueError\u001b[39;00m \u001b[39mas\u001b[39;00m err:\n\u001b[0;32m--> 415\u001b[0m         \u001b[39mraise\u001b[39;00m \u001b[39mKeyError\u001b[39;00m(key) \u001b[39mfrom\u001b[39;00m \u001b[39merr\u001b[39;00m\n\u001b[1;32m    416\u001b[0m \u001b[39mif\u001b[39;00m \u001b[39misinstance\u001b[39m(key, Hashable):\n\u001b[1;32m    417\u001b[0m     \u001b[39mraise\u001b[39;00m \u001b[39mKeyError\u001b[39;00m(key)\n",
      "\u001b[0;31mKeyError\u001b[0m: 1112"
     ]
    }
   ],
   "source": [
    "model.eval()\n",
    "feature_matrix = {}\n",
    "counter = 0\n",
    "\n",
    "for image, image_name in dataset:\n",
    "    embedding = model(image.unsqueeze(0))\n",
    "    feature_matrix[image_name] = embedding.detach().cpu().numpy().reshape(128)\n",
    "\n",
    "    if counter % 10 == 0:\n",
    "        print(counter)\n",
    "\n",
    "    counter += 1"
   ]
  },
  {
   "cell_type": "code",
   "execution_count": 1,
   "metadata": {},
   "outputs": [
    {
     "ename": "NameError",
     "evalue": "name 'feature_matrix' is not defined",
     "output_type": "error",
     "traceback": [
      "\u001b[0;31m---------------------------------------------------------------------------\u001b[0m",
      "\u001b[0;31mNameError\u001b[0m                                 Traceback (most recent call last)",
      "\u001b[1;32m/nfs/research/birney/users/esther/medaka-img/scripts/train-pythae-based-convae-pytorch.ipynb Cell 46\u001b[0m line \u001b[0;36m1\n\u001b[0;32m----> <a href='vscode-notebook-cell://ssh-remote%2B7b22686f73744e616d65223a22636f646f6e2d6770752d303130222c2275736572223a22657374686572227d/nfs/research/birney/users/esther/medaka-img/scripts/train-pythae-based-convae-pytorch.ipynb#X63sdnNjb2RlLXJlbW90ZQ%3D%3D?line=0'>1</a>\u001b[0m \u001b[39mprint\u001b[39m(\u001b[39mlen\u001b[39m(feature_matrix))\n\u001b[1;32m      <a href='vscode-notebook-cell://ssh-remote%2B7b22686f73744e616d65223a22636f646f6e2d6770752d303130222c2275736572223a22657374686572227d/nfs/research/birney/users/esther/medaka-img/scripts/train-pythae-based-convae-pytorch.ipynb#X63sdnNjb2RlLXJlbW90ZQ%3D%3D?line=1'>2</a>\u001b[0m \u001b[39mprint\u001b[39m(feature_matrix)\n",
      "\u001b[0;31mNameError\u001b[0m: name 'feature_matrix' is not defined"
     ]
    }
   ],
   "source": [
    "print(len(feature_matrix))\n",
    "print(feature_matrix)"
   ]
  },
  {
   "cell_type": "code",
   "execution_count": 101,
   "metadata": {},
   "outputs": [
    {
     "name": "stdout",
     "output_type": "stream",
     "text": [
      "[ -77.71443    -61.410744    29.089512    41.218525    30.065296\n",
      "  -10.29204    410.0883     -33.349293  -723.1503    -232.67517\n",
      "  300.89902     20.10732    190.17273    540.12695   -176.24693\n",
      "   44.52819    100.90983    308.12897    -52.166943   175.80885\n",
      " -321.41968    217.52153    526.3035    -365.1253     318.0609\n",
      " -209.16046    220.87271    370.936      224.94162    351.8649\n",
      "  -27.167477   508.67697   -480.5968    -278.52948      4.4324927\n",
      "  206.6029    -134.35341   -406.53784    346.28265    256.88086\n",
      " -181.99242    485.08722   -220.7049    -424.36957   -271.82516\n",
      "  198.51367    281.1529    -357.6786      77.26173     87.08338\n",
      "  274.8931    -343.04498    577.7297     516.1294    -364.40228\n",
      "  136.5843     401.59244    151.21652    -59.072773   373.43015\n",
      "  377.18597    -21.082111  -476.3881    -143.25397   -324.05157\n",
      "  202.96922   -438.98062   -364.07556   -109.75923   -419.75226\n",
      "  173.96829    399.22427     22.354723    10.570647  -542.5288\n",
      " -136.3367     360.90564    512.31586   -159.28572    -32.151455\n",
      "    8.483862  -157.52507     72.3905      69.38138     40.616673\n",
      "  473.6822       8.868803  -187.93059    224.65918   -163.12065\n",
      " -928.3743     322.18655   -200.78867   -185.76134   -105.14524\n",
      " -173.26666    -20.069073  -429.1606     293.0661      63.438435\n",
      " -323.65353     77.07631   -203.92854   -104.59806   -322.65527\n",
      "   52.73165   -336.7799     424.20227     29.113016   463.19473\n",
      "  344.21207    409.4341     137.48318   -313.3251      43.225655\n",
      " -138.21991    136.83926    -38.59345    766.1718     522.26263\n",
      "  102.20129   -108.74386    185.71632     77.925095  -112.1269\n",
      "  -93.55536    114.91573   -113.49317  ]\n"
     ]
    }
   ],
   "source": [
    "print(feature_matrix['PLATE 1 F2 VC_Female 95-1 F14 x Male 72-1 F14_A01.tif'])"
   ]
  },
  {
   "cell_type": "code",
   "execution_count": 98,
   "metadata": {},
   "outputs": [],
   "source": [
    "feature_df = pd.DataFrame.from_dict(feature_matrix, orient='index')\n",
    "feature_df\n",
    "\n",
    "feature_df.to_csv(\"/nfs/research/birney/users/esther/medaka-img/features/convnet-ae-pytorch-medaka/amber-sweep-1-epoch500-feature_matrix.csv\")"
   ]
  },
  {
   "cell_type": "code",
   "execution_count": 25,
   "metadata": {},
   "outputs": [
    {
     "data": {
      "text/plain": [
       "<matplotlib.image.AxesImage at 0x7fd8c8a98cd0>"
      ]
     },
     "execution_count": 25,
     "metadata": {},
     "output_type": "execute_result"
    },
    {
     "data": {
      "image/png": "[encoded data removed]",
      "text/plain": [
       "<Figure size 640x480 with 1 Axes>"
      ]
     },
     "metadata": {},
     "output_type": "display_data"
    }
   ],
   "source": [
    "model.to(device)\n",
    "model_output = model(train_example[0].reshape(-1, 224*224).to(device))\n",
    "\n",
    "model_output = model_output.reshape(224, 224)\n",
    "plt.imshow(model_output.cpu().detach().numpy())"
   ]
  },
  {
   "cell_type": "code",
   "execution_count": 26,
   "metadata": {},
   "outputs": [
    {
     "data": {
      "image/png": "[encoded data removed]",
      "text/plain": [
       "<Figure size 640x480 with 2 Axes>"
      ]
     },
     "metadata": {},
     "output_type": "display_data"
    }
   ],
   "source": [
    "fig, axs = plt.subplots(1,2)\n",
    "\n",
    "axs[0].imshow(train_example[0].permute(1, 2, 0).cpu().numpy())\n",
    "axs[0].set_title('Original image')\n",
    "\n",
    "axs[1].imshow(model_output.cpu().detach().numpy())\n",
    "axs[1].set_title('Reconstructed image')\n",
    "axs[1].axis('off')\n",
    "\n",
    "plt.show()"
   ]
  },
  {
   "cell_type": "code",
   "execution_count": null,
   "metadata": {},
   "outputs": [
    {
     "ename": "",
     "evalue": "",
     "output_type": "error",
     "traceback": [
      "\u001b[1;31mFailed to start the Kernel 'indigene-img'. \n",
      "\u001b[1;31mView Jupyter <a href='command:jupyter.viewOutput'>log</a> for further details. Unknown system error -122: Unknown system error -122, close"
     ]
    }
   ],
   "source": [
    "import IPython\n",
    "app = IPython.Application.instance()\n",
    "app.kernel.do_shutdown(True)"
   ]
  }
 ],
 "metadata": {
  "kernelspec": {
   "display_name": "indigene-img",
   "language": "python",
   "name": "indigene-img"
  },
  "language_info": {
   "codemirror_mode": {
    "name": "ipython",
    "version": 3
   },
   "file_extension": ".py",
   "mimetype": "text/x-python",
   "name": "python",
   "nbconvert_exporter": "python",
   "pygments_lexer": "ipython3",
   "version": "3.9.1"
  }
 },
 "nbformat": 4,
 "nbformat_minor": 2
}
