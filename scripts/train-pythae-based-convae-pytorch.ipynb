{
 "cells": [
  {
   "cell_type": "code",
   "execution_count": 1,
   "metadata": {},
   "outputs": [],
   "source": [
    "# Required libraries\n",
    "import os\n",
    "import math\n",
    "import pims\n",
    "from natsort import natsorted\n",
    "import torch\n",
    "import torch.nn as nn\n",
    "from torch import Tensor\n",
    "import random\n",
    "import cv2 as cv\n",
    "import numpy as np\n",
    "import pandas as pd\n",
    "import skimage as ski\n",
    "from PIL import Image\n",
    "import statistics\n",
    "from PIL.ExifTags import TAGS\n",
    "import matplotlib.pyplot as plt\n",
    "from typing import Any, Callable, List, Optional, Type, Union\n",
    "from tqdm import tqdm # for calculating mean, stdev (https://kozodoi.me/blog/20210308/compute-image-stats)\n",
    "from itertools import islice # for taking first n elements from an iterable (dataloader object)\n",
    "from torchinfo import summary\n",
    "import torchvision.transforms as T\n",
    "import wandb\n",
    "from datetime import datetime\n",
    "\n",
    "from torch.utils.data import Dataset, DataLoader, random_split\n",
    "\n",
    "from torchvision.models import resnet101, ResNet101_Weights, resnet50, ResNet50_Weights\n",
    "from torchvision.io import read_image\n",
    "from torchvision.utils import save_image\n",
    "from torch.utils.checkpoint import checkpoint\n",
    "from torchvision.transforms import v2 as transforms\n",
    "\n",
    "from transformers import AutoModel\n",
    "\n",
    "# from pythae.models import AE, AEConfig, AutoModel\n",
    "# from pythae.trainers import BaseTrainerConfig\n",
    "# from pythae.pipelines.training import TrainingPipeline\n",
    "# from pythae.models.nn.benchmarks.celeba import Encoder_ResNet_AE_CELEBA, Decoder_ResNet_AE_CELEBA, Encoder_Conv_AE_CELEBA, Decoder_Conv_AE_CELEBA, Encoder_ResNet_VAE_CELEBA\n",
    "# from pythae.data.datasets import DatasetOutput\n",
    "# from pythae.samplers import NormalSampler\n",
    "from pythae.trainers.training_callbacks import WandbCallback\n",
    "\n",
    "os.environ['WANDB_DATA_DIR'] = '/hps/nobackup/birney/users/esther/wandb/artifacts/staging/'\n",
    "os.environ['WANDB_TIMEOUT'] = '120'\n",
    "os.environ['JAVA_HOME'] = '/hps/nobackup/birney/users/esther/Fiji.app/java/linux-amd64/zulu8.60.0.21-ca-fx-jdk8.0.322-linux_x64/jre/'"
   ]
  },
  {
   "cell_type": "code",
   "execution_count": 2,
   "metadata": {},
   "outputs": [],
   "source": [
    "! module load cuda/12.2.0"
   ]
  },
  {
   "cell_type": "code",
   "execution_count": 3,
   "metadata": {},
   "outputs": [
    {
     "name": "stdout",
     "output_type": "stream",
     "text": [
      "12.1\n"
     ]
    }
   ],
   "source": [
    "device = \"cuda\" if torch.cuda.is_available() else \"cpu\"\n",
    "print(torch.version.cuda)"
   ]
  },
  {
   "cell_type": "code",
   "execution_count": 4,
   "metadata": {},
   "outputs": [
    {
     "data": {
      "text/plain": [
       "<torch._C.Generator at 0x7faca690a850>"
      ]
     },
     "execution_count": 4,
     "metadata": {},
     "output_type": "execute_result"
    }
   ],
   "source": [
    "torch.manual_seed(1)"
   ]
  },
  {
   "cell_type": "code",
   "execution_count": 5,
   "metadata": {},
   "outputs": [],
   "source": [
    "# Set working directory\n",
    "os.chdir('/nfs/research/birney/users/esther/medaka-img/src_files/')\n",
    "model_dir = '/hps/nobackup/birney/users/esther/medaka-img/models/'"
   ]
  },
  {
   "cell_type": "code",
   "execution_count": 6,
   "metadata": {},
   "outputs": [
    {
     "name": "stderr",
     "output_type": "stream",
     "text": [
      "\u001b[34m\u001b[1mwandb\u001b[0m: Using wandb-core as the SDK backend. Please refer to https://wandb.me/wandb-core for more information.\n",
      "\u001b[34m\u001b[1mwandb\u001b[0m: Currently logged in as: \u001b[33mey267\u001b[0m (\u001b[33mey267-university-of-cambridge\u001b[0m). Use \u001b[1m`wandb login --relogin`\u001b[0m to force relogin\n"
     ]
    },
    {
     "data": {
      "text/plain": [
       "True"
      ]
     },
     "execution_count": 6,
     "metadata": {},
     "output_type": "execute_result"
    }
   ],
   "source": [
    "wandb.login()"
   ]
  },
  {
   "cell_type": "markdown",
   "metadata": {},
   "source": [
    "## Build the CNN-based autoencoder\n",
    "Feed a 224x224 image into the autoencoder"
   ]
  },
  {
   "cell_type": "code",
   "execution_count": 24,
   "metadata": {},
   "outputs": [],
   "source": [
    "class AutoEncoderConv(nn.Module):\n",
    "    def __init__(self, input_dim, latent_dim):\n",
    "        super(AutoEncoderConv, self).__init__()\n",
    "        # encoder\n",
    "        self.conv1 = nn.Sequential(\n",
    "            nn.Conv2d(input_dim[0], 128, kernel_size=4, stride=2, padding=1),\n",
    "            nn.BatchNorm2d(128, eps=1e-05, momentum=0.1, affine=True, track_running_stats=True),\n",
    "            nn.ReLU()\n",
    "        )\n",
    "        self.conv2 = nn.Sequential(\n",
    "            nn.Conv2d(128, 256, kernel_size=4, stride=2, padding=1),\n",
    "            nn.BatchNorm2d(256, eps=1e-05, momentum=0.1, affine=True, track_running_stats=True),\n",
    "            nn.ReLU()\n",
    "        )\n",
    "        self.conv3 = nn.Sequential(\n",
    "            nn.Conv2d(256, 512, kernel_size=4, stride=2, padding=1),\n",
    "            nn.BatchNorm2d(512, eps=1e-05, momentum=0.1, affine=True, track_running_stats=True),\n",
    "            nn.ReLU()\n",
    "        )\n",
    "        self.conv4 = nn.Sequential(\n",
    "            nn.Conv2d(512, 1024, kernel_size=4, stride=2, padding=1),\n",
    "            nn.BatchNorm2d(1024, eps=1e-05, momentum=0.1, affine=True, track_running_stats=True),\n",
    "            nn.ReLU()\n",
    "        )\n",
    "        self.embedding = nn.Linear(1024 * 14 * 14, latent_dim)\n",
    "\n",
    "        # decoder\n",
    "        self.deconv1 = nn.Sequential(nn.Linear(latent_dim, 1024 * 28 * 28))\n",
    "        self.deconv2 = nn.Sequential(\n",
    "            nn.ConvTranspose2d(1024, 512, kernel_size=5, stride=2, padding=2),\n",
    "            nn.BatchNorm2d(512),\n",
    "            nn.ReLU()\n",
    "        )\n",
    "        self.deconv3 = nn.Sequential(\n",
    "            nn.ConvTranspose2d(512, 256, kernel_size=5, stride=2, padding=1, output_padding=0),\n",
    "            nn.BatchNorm2d(256),\n",
    "            nn.ReLU()\n",
    "        )\n",
    "        self.deconv4 = nn.Sequential(\n",
    "            nn.ConvTranspose2d(256, 128, kernel_size=5, stride=2, padding=2, output_padding=1),\n",
    "            nn.BatchNorm2d(128),\n",
    "            nn.ReLU()\n",
    "        )\n",
    "        self.deconv5 = nn.Sequential(\n",
    "                nn.ConvTranspose2d(128, input_dim[0], 5, 1, padding=1), nn.Sigmoid()\n",
    "        )\n",
    "    \n",
    "    def forward(self, x):\n",
    "        x = self.conv1(x)\n",
    "        x = self.conv2(x)\n",
    "        x = self.conv3(x)\n",
    "        x = self.conv4(x)\n",
    "        x = self.embedding(x.reshape(x.shape[0], -1))\n",
    "        x = self.deconv1(x)\n",
    "        x = self.deconv2(x.reshape(x.shape[0], 1024, 28, 28))\n",
    "        x = self.deconv3(x)\n",
    "        x = self.deconv4(x)\n",
    "        x = self.deconv5(x)\n",
    "        return x"
   ]
  },
  {
   "cell_type": "code",
   "execution_count": 69,
   "metadata": {},
   "outputs": [
    {
     "data": {
      "text/plain": [
       "==========================================================================================\n",
       "Layer (type:depth-idx)                   Output Shape              Param #\n",
       "==========================================================================================\n",
       "AutoEncoderConv                          [1, 3, 224, 224]          --\n",
       "├─Sequential: 1-1                        [1, 128, 112, 112]        --\n",
       "│    └─Conv2d: 2-1                       [1, 128, 112, 112]        6,272\n",
       "│    └─BatchNorm2d: 2-2                  [1, 128, 112, 112]        256\n",
       "│    └─ReLU: 2-3                         [1, 128, 112, 112]        --\n",
       "├─Sequential: 1-2                        [1, 256, 56, 56]          --\n",
       "│    └─Conv2d: 2-4                       [1, 256, 56, 56]          524,544\n",
       "│    └─BatchNorm2d: 2-5                  [1, 256, 56, 56]          512\n",
       "│    └─ReLU: 2-6                         [1, 256, 56, 56]          --\n",
       "├─Sequential: 1-3                        [1, 512, 28, 28]          --\n",
       "│    └─Conv2d: 2-7                       [1, 512, 28, 28]          2,097,664\n",
       "│    └─BatchNorm2d: 2-8                  [1, 512, 28, 28]          1,024\n",
       "│    └─ReLU: 2-9                         [1, 512, 28, 28]          --\n",
       "├─Sequential: 1-4                        [1, 1024, 14, 14]         --\n",
       "│    └─Conv2d: 2-10                      [1, 1024, 14, 14]         8,389,632\n",
       "│    └─BatchNorm2d: 2-11                 [1, 1024, 14, 14]         2,048\n",
       "│    └─ReLU: 2-12                        [1, 1024, 14, 14]         --\n",
       "├─Linear: 1-5                            [1, 1024]                 205,521,920\n",
       "├─Sequential: 1-6                        [1, 802816]               --\n",
       "│    └─Linear: 2-13                      [1, 802816]               822,886,400\n",
       "├─Sequential: 1-7                        [1, 512, 55, 55]          --\n",
       "│    └─ConvTranspose2d: 2-14             [1, 512, 55, 55]          13,107,712\n",
       "│    └─BatchNorm2d: 2-15                 [1, 512, 55, 55]          1,024\n",
       "│    └─ReLU: 2-16                        [1, 512, 55, 55]          --\n",
       "├─Sequential: 1-8                        [1, 256, 111, 111]        --\n",
       "│    └─ConvTranspose2d: 2-17             [1, 256, 111, 111]        3,277,056\n",
       "│    └─BatchNorm2d: 2-18                 [1, 256, 111, 111]        512\n",
       "│    └─ReLU: 2-19                        [1, 256, 111, 111]        --\n",
       "├─Sequential: 1-9                        [1, 128, 222, 222]        --\n",
       "│    └─ConvTranspose2d: 2-20             [1, 128, 222, 222]        819,328\n",
       "│    └─BatchNorm2d: 2-21                 [1, 128, 222, 222]        256\n",
       "│    └─ReLU: 2-22                        [1, 128, 222, 222]        --\n",
       "├─Sequential: 1-10                       [1, 3, 224, 224]          --\n",
       "│    └─ConvTranspose2d: 2-23             [1, 3, 224, 224]          9,603\n",
       "│    └─Sigmoid: 2-24                     [1, 3, 224, 224]          --\n",
       "==========================================================================================\n",
       "Total params: 1,056,645,763\n",
       "Trainable params: 1,056,645,763\n",
       "Non-trainable params: 0\n",
       "Total mult-adds (G): 126.93\n",
       "==========================================================================================\n",
       "Input size (MB): 0.60\n",
       "Forward/backward pass size (MB): 231.99\n",
       "Params size (MB): 4226.58\n",
       "Estimated Total Size (MB): 4459.17\n",
       "=========================================================================================="
      ]
     },
     "execution_count": 69,
     "metadata": {},
     "output_type": "execute_result"
    }
   ],
   "source": [
    "model = AutoEncoderConv((3, 224, 224), 1024)\n",
    "\n",
    "summary(model, input_size=(1, 3, 224, 224))"
   ]
  },
  {
   "cell_type": "markdown",
   "metadata": {},
   "source": [
    "## Configure wandb"
   ]
  },
  {
   "cell_type": "code",
   "execution_count": 65,
   "metadata": {},
   "outputs": [
    {
     "name": "stdout",
     "output_type": "stream",
     "text": [
      "32\n"
     ]
    }
   ],
   "source": [
    "config = dict(\n",
    "    epochs=101,\n",
    "    batch_size=32,\n",
    "    learning_rate=0.001,\n",
    "    dataset=\"medaka-img-2024-10-03\",\n",
    "    architecture=\"Convolutional NN Autoencoder - train from scratch, custom mse loss\",\n",
    "    model=\"convnet-ae\",\n",
    "    train_img_rotation=10, # How much to rotate images during training\n",
    "    ckpt_freq=50, # How often to save model checkpoints\n",
    "    ckpt_dir=model_dir, # Directory to save model checkpoints\n",
    "    reconstruction_table_freq=50, # How often to save reconstruction table\n",
    "\n",
    ")\n",
    "\n",
    "print(config['batch_size'])"
   ]
  },
  {
   "cell_type": "markdown",
   "metadata": {},
   "source": [
    "## Load medaka data"
   ]
  },
  {
   "cell_type": "code",
   "execution_count": 7,
   "metadata": {},
   "outputs": [],
   "source": [
    "# Custom min-max scaling function to pass into Compose; transforms pixel values to range [0,1] for each image individually\n",
    "class MinMaxScaling:\n",
    "    def __call__(self, tensor):\n",
    "        return (tensor - tensor.min()) / (tensor.max() - tensor.min())"
   ]
  },
  {
   "cell_type": "code",
   "execution_count": 8,
   "metadata": {},
   "outputs": [
    {
     "name": "stderr",
     "output_type": "stream",
     "text": [
      "/hps/software/users/birney/esther/micromamba/envs/indigene-img/lib/python3.9/site-packages/torchvision/transforms/v2/_deprecated.py:42: UserWarning: The transform `ToTensor()` is deprecated and will be removed in a future release. Instead, please use `v2.Compose([v2.ToImage(), v2.ToDtype(torch.float32, scale=True)])`.Output is equivalent up to float precision.\n",
      "  warnings.warn(\n"
     ]
    }
   ],
   "source": [
    "# Compose image transformations\n",
    "# Based on testing below, MinMax scaling is the best normalization method for this dataset\n",
    "# Using mean and std of the dataset for normalization is maybe not representative of the entire dataset,\n",
    "# as the maximum value after normalization is 431.33228 (eg. subtracting the max pixel value, )\n",
    "transform = transforms.Compose([\n",
    "    transforms.ToTensor(),\n",
    "    transforms.Lambda(lambda img: transforms.functional.crop(img, 0, 0, 980, 1392)), # crop out bottom text\n",
    "    transforms.Resize((224, 224)),\n",
    "    # transforms.Resize((979, 979)), # resize to 979x979 to give 490x490 after first conv\n",
    "    # transforms.RandomCrop(64), # crop to 64x64\n",
    "    # transforms.Normalize(mean=(0, 0, 0), std=(1, 1, 1)) # temporarily, to get the mean and stdev of the dataset\n",
    "    # transforms.Normalize(mean=(0.035028, 0.000052371, 0.00043022), std=(0.0600, 0.0013, 0.0028))\n",
    "    # transforms.Normalize(mean=(0.485, 0.456, 0.406), std=(0.229, 0.224, 0.225)), # imagenet normalization -> returns black images\n",
    "    MinMaxScaling() # custom normalization\n",
    "])"
   ]
  },
  {
   "cell_type": "markdown",
   "metadata": {},
   "source": [
    "Flip all left-facing images to the right within the MedakaDataset class"
   ]
  },
  {
   "cell_type": "code",
   "execution_count": 9,
   "metadata": {},
   "outputs": [],
   "source": [
    "# Read in dataframe indicating whether the fish is facing left or right\n",
    "fish_direction_df= pd.read_csv(\"/nfs/research/birney/users/esther/medaka-img/scripts/left-facing-fish.csv\")\n",
    "\n",
    "# Only keep rows where the fish is facing left\n",
    "fish_left_df = fish_direction_df[fish_direction_df['left_facing'] == 'left']\n",
    "fish_left_df = fish_left_df.rename(columns={'Unnamed: 0': 'img_name'})"
   ]
  },
  {
   "cell_type": "code",
   "execution_count": 10,
   "metadata": {},
   "outputs": [],
   "source": [
    "class MedakaDataset(Dataset):\n",
    "    def __init__(self, csv_file, src_dir, transform=transform):\n",
    "        self.image_paths = pd.read_csv(csv_file)['img_name']\n",
    "        self.src_dir = src_dir\n",
    "        self.transform = transform\n",
    "\n",
    "    def __len__(self):\n",
    "        return len(self.image_paths)\n",
    "\n",
    "    def __getitem__(self, idx):\n",
    "        img_name = self.image_paths[idx]\n",
    "        img_path = f'{self.src_dir}/{img_name}'\n",
    "                \n",
    "        image = ski.io.imread(img_path)\n",
    "\n",
    "        # Convert to tensor, crop out bottom text, and normalize\n",
    "        if self.transform is not None:\n",
    "            image = self.transform(image)\n",
    "\n",
    "        # If facing left, flip the image horizontally\n",
    "        if os.path.splitext(img_name)[0] in fish_left_df['img_name'].values:\n",
    "            image = transforms.functional.hflip(image)\n",
    "\n",
    "        return image.to(device), img_name # in script cannot use .to(device) here"
   ]
  },
  {
   "cell_type": "code",
   "execution_count": 11,
   "metadata": {},
   "outputs": [
    {
     "name": "stdout",
     "output_type": "stream",
     "text": [
      "Total training set length: 1112\n",
      "Train length: 889\n",
      "Validation length: 223\n",
      "Test length:  1008\n"
     ]
    }
   ],
   "source": [
    "# Load dataset\n",
    "dataset = MedakaDataset(csv_file='train_set_2024-10-03.csv', \n",
    "                                src_dir='/nfs/research/birney/users/esther/medaka-img/src_files/train_2024-10-03/raw_images', \n",
    "                                transform=transform)\n",
    "\n",
    "train_len = int(len(dataset) * 0.8)\n",
    "val_len = len(dataset) - train_len\n",
    "\n",
    "train_dataset, val_dataset = random_split(dataset, [train_len, val_len])\n",
    "\n",
    "print(f\"Total training set length: {len(dataset)}\")\n",
    "print(f\"Train length: {train_len}\")\n",
    "print(f\"Validation length: {val_len}\")\n",
    "\n",
    "test_dataset = MedakaDataset(csv_file='test_set_2024-10-03 copy.csv',\n",
    "                                src_dir='/nfs/research/birney/users/esther/medaka-img/src_files/test_2024-10-03/raw_images',\n",
    "                                transform=transform)\n",
    "print(\"Test length: \", len(test_dataset))"
   ]
  },
  {
   "cell_type": "markdown",
   "metadata": {},
   "source": [
    "Implement checkpointing"
   ]
  },
  {
   "cell_type": "code",
   "execution_count": 40,
   "metadata": {},
   "outputs": [],
   "source": [
    "def save_checkpoint(model, optimizer, epoch, filename=\"checkpoint.pth.tar\"):\n",
    "    checkpoint = {\n",
    "        'epoch': epoch,\n",
    "        'model_state_dict': model.state_dict(),\n",
    "        'optimizer_state_dict': optimizer.state_dict()\n",
    "    }\n",
    "    os.makedirs(os.path.dirname(filename), exist_ok=True)\n",
    "    torch.save(checkpoint, filename)\n",
    "\n",
    "def load_checkpoint(filename, model, optimizer):\n",
    "    checkpoint = torch.load(filename)\n",
    "    model.load_state_dict(checkpoint['model_state_dict'])\n",
    "    optimizer.load_state_dict(checkpoint['optimizer_state_dict'])\n",
    "    return checkpoint['epoch']"
   ]
  },
  {
   "cell_type": "markdown",
   "metadata": {},
   "source": [
    "## Create training loop"
   ]
  },
  {
   "cell_type": "code",
   "execution_count": 41,
   "metadata": {},
   "outputs": [],
   "source": [
    "random_trans = transforms.Compose([\n",
    "        transforms.RandomRotation(config['train_img_rotation'])\n",
    "    ])"
   ]
  },
  {
   "cell_type": "code",
   "execution_count": 63,
   "metadata": {},
   "outputs": [],
   "source": [
    "import torch.nn.functional as F\n",
    "\n",
    "class CustomMSELoss:\n",
    "    def __call__(self, recon_x, x):\n",
    "        MSE = F.mse_loss(\n",
    "            recon_x.reshape(x.shape[0], -1), x.reshape(x.shape[0], -1), reduction=\"none\"\n",
    "        ).sum(dim=-1)\n",
    "        return MSE.mean(dim=0)"
   ]
  },
  {
   "cell_type": "code",
   "execution_count": 61,
   "metadata": {},
   "outputs": [],
   "source": [
    "def make(config):\n",
    "    # Make the data\n",
    "    train_loader = DataLoader(train_dataset, batch_size=config['batch_size'], shuffle=True)\n",
    "    val_loader = DataLoader(val_dataset, batch_size=config['batch_size'])\n",
    "\n",
    "    # Make the model\n",
    "    model = AutoEncoderConv((3, 224, 224), 128).to(device)\n",
    "    # model = AutoEncoder(num_input, num_hidden_0, num_hidden_1, num_hidden_2, num_hidden_3, num_hidden_4).to(device)\n",
    "\n",
    "    # Make the loss and optimizer\n",
    "    # criterion = nn.MSELoss()\n",
    "    criterion = CustomMSELoss()\n",
    "    optimizer = torch.optim.Adam(\n",
    "        model.parameters(), lr=config['learning_rate'])\n",
    "    \n",
    "    return model, train_loader, val_loader, criterion, optimizer"
   ]
  },
  {
   "cell_type": "code",
   "execution_count": 67,
   "metadata": {},
   "outputs": [],
   "source": [
    "def train(model, train_loader, val_loader, criterion, optimizer, run_name, config):\n",
    "    # Tell wandb to watch what the model gets up to: gradients, weights, and more!\n",
    "    wandb.watch(model, criterion, log=\"all\", log_freq=10)\n",
    "\n",
    "    # Create wandb table\n",
    "    columns = [\"epoch\", \"id\", \"image\", \"reconstructed\"]\n",
    "    test_table = wandb.Table(columns=columns)\n",
    "\n",
    "    # Run training and track with wandb\n",
    "    example_ct = 0  # number of examples seen\n",
    "    batch_ct = 0\n",
    "\n",
    "    for epoch in tqdm(range(config['epochs'])):\n",
    "        model.train()\n",
    "        for image, image_name in train_loader:\n",
    "            image = random_trans(image)\n",
    "            # image = torch.reshape(random_trans(image),(-1, 224*224))\n",
    "            train_loss = train_batch(image, model, optimizer, criterion)\n",
    "            example_ct +=  len(image) # the batch size\n",
    "            batch_ct += 1\n",
    "\n",
    "        train_log(train_loss, example_ct, epoch)\n",
    "\n",
    "        model.eval()\n",
    "        with torch.no_grad():\n",
    "            val_loss = 0.0\n",
    "            for image, image_name in val_loader:\n",
    "                # image = torch.reshape(image,(-1, 224*224))\n",
    "                image = random_trans(image)\n",
    "                image = image.to(device)\n",
    "                output = model(image)\n",
    "                loss = criterion(output, image)\n",
    "                val_loss += loss.item()\n",
    "\n",
    "            val_loss /= len(val_loader)\n",
    "            wandb.log({\"val_loss\": val_loss}, step=epoch)\n",
    "            print(f\"Validation loss: {val_loss:.5f}\")\n",
    "            \n",
    "        # Every 20th epoch, save model checkpoint\n",
    "        if (epoch % 20 == 0) and (epoch != 0):\n",
    "            # date_time = datetime.now().strftime(\"%Y%m%d%H%M%S\")\n",
    "            ckpt_name = f\"ckpt-model-{config['model']}-run-{run_name}-epoch-{epoch}-val_loss-{val_loss:.5f}\"    \n",
    "\n",
    "            # save_checkpoint(model, optimizer, epoch, filename=f'{model_dir}/checkpoints/vanilla-ae-pytorch-medaka/{ckpt_name}-{date_time}.pt')\n",
    "            save_checkpoint(model, optimizer, epoch, filename=f'{model_dir}/checkpoints/convnet-ae-pytorch-medaka/{run_name}/{ckpt_name}.pt')\n",
    "\n",
    "        #     # model_checkpoint = wandb.Artifact(\n",
    "        #     #     name=ckpt_name,\n",
    "        #     #     type=\"model\").add_file(local_path=f'{model_dir}/checkpoints/vanilla-ae-pytorch-medaka/{ckpt_name}-{date_time}.pt')\n",
    "\n",
    "        #     # assert isinstance(model_checkpoint, wandb.Artifact), \"model_checkpoint is not a wandb.Artifact\"\n",
    "\n",
    "        #     wandb.log_artifact(\n",
    "        #         artifact_or_path=f'{model_dir}/checkpoints/vanilla-ae-pytorch-medaka/{run_name}/{ckpt_name}.pt', \n",
    "        #         type=\"model-checkpoint\",\n",
    "        #         aliases=[f\"model={config['model']}\", f\"architecture={config['architecture']}\", f\"epoch={epoch}\", f\"run={run_name}\"])   \n",
    "\n",
    "\n",
    "        # Every 50th epoch, output image reconstruction\n",
    "        if (epoch % 5 == 0):\n",
    "            print(\"Logging table at epoch\", epoch)\n",
    "            show_img, id = val_dataset[0]\n",
    "            show_img = show_img.unsqueeze(0)\n",
    "            recon_img = model(show_img.to(device)).cpu().detach().to(torch.float32)\n",
    "            test_table.add_data(epoch, id, wandb.Image(show_img), wandb.Image(recon_img))\n",
    "            test_table = wandb.Table(columns=columns, data=test_table.data)\n",
    "            wandb.log({\"Image reconstruction performance\": test_table})\n",
    "\n",
    "\n",
    "def train_batch(image, model, optimizer, criterion):\n",
    "    image = image.to(device)\n",
    "    \n",
    "    # Forward pass\n",
    "    output = model(image)\n",
    "    loss = criterion(output, image)\n",
    "    \n",
    "    # Backward pass\n",
    "    optimizer.zero_grad()\n",
    "    loss.backward()\n",
    "\n",
    "    # Step with optimizer\n",
    "    optimizer.step()\n",
    "\n",
    "    return loss\n",
    "\n",
    "def train_log(loss, example_ct, epoch):\n",
    "    # Where the magic happens\n",
    "    wandb.log({\"epoch\": epoch, \"train loss\": loss}, step=epoch)\n",
    "    print(f\"Loss after {str(example_ct).zfill(5)} examples: {loss:.5f}\")"
   ]
  },
  {
   "cell_type": "code",
   "execution_count": 57,
   "metadata": {},
   "outputs": [],
   "source": [
    "\n",
    "def test(model, test_loader, criterion):\n",
    "    wandb.define_metric(\"img_name\")\n",
    "    wandb.define_metric(\"test_loss\", step_metric=\"img_name\")\n",
    "    columns = [\"id\", \"image\", \"reconstructed\"]\n",
    "    test_set_table = wandb.Table(columns=columns)\n",
    "\n",
    "    model.eval()\n",
    "\n",
    "    # Run the model on some test examples\n",
    "    with torch.no_grad():\n",
    "        counter = 0\n",
    "        for image, image_name in test_loader:\n",
    "            image = image.to(device)\n",
    "            output = model(image)\n",
    "            loss = criterion(output, image)\n",
    "            counter += 1\n",
    "            log_dict = {\"img_name\": image_name, \n",
    "                        \"test_loss\": loss\n",
    "                }\n",
    "\n",
    "            print(f\"Test Loss: {loss:.6f}\")\n",
    "            wandb.log(log_dict)\n",
    "\n",
    "            if counter % 10 == 0:\n",
    "                print(\"Logging table for image \", image_name)\n",
    "                show_img = image\n",
    "                recon_img = model(show_img.to(device)).cpu().detach().to(torch.float32)\n",
    "                test_set_table.add_data(image_name, wandb.Image(show_img), wandb.Image(recon_img))\n",
    "                test_set_table = wandb.Table(columns=columns, data=test_set_table.data)\n",
    "                wandb.log({\"Image reconstruction performance\": test_set_table})\n",
    "        \n",
    "        # wandb.log({\"vali\": correct / total})\n",
    "\n",
    "    # Save the model in the exchangeable ONNX format\n",
    "    # torch.onnx.export(model, image, \"model.onnx\")\n",
    "    # wandb.save(\"model.onnx\")"
   ]
  },
  {
   "cell_type": "code",
   "execution_count": 66,
   "metadata": {},
   "outputs": [],
   "source": [
    "model = AutoEncoderConv((3, 224, 224), 128).to(device)\n",
    "optimizer = torch.optim.Adam(model.parameters(), lr=0.001)\n",
    "\n",
    "checkpoint = torch.load(f'{model_dir}/checkpoints/convnet-ae-pytorch-medaka/amber-sweep-1/ckpt-model-convnet-ae-run-amber-sweep-1-epoch-499-time-2024-10-29-1820.pt')\n",
    "model.load_state_dict(checkpoint['model_state_dict'])\n",
    "optimizer.load_state_dict(checkpoint['optimizer_state_dict'])\n",
    "epoch = checkpoint['epoch']\n",
    "criterion = nn.MSELoss()\n",
    "\n",
    "test_loader = DataLoader(test_dataset, batch_size=1, shuffle=True)"
   ]
  },
  {
   "cell_type": "code",
   "execution_count": 59,
   "metadata": {},
   "outputs": [],
   "source": [
    "def model_pipeline(hyperparameters):\n",
    "    run = wandb.init(project=\"convnet-ae-pytorch-medaka\", config=hyperparameters)\n",
    "    # tell wandb to get started\n",
    "    with run:\n",
    "      run_name = run.name\n",
    "      # make the model, data, and optimization problem\n",
    "      model, train_loader, val_loader, criterion, optimizer = make(hyperparameters)\n",
    "\n",
    "      # and use them to train the model\n",
    "      train(model, train_loader, val_loader, criterion, optimizer, run_name, hyperparameters)\n",
    "\n",
    "      # and test its final performance\n",
    "      # test(model, test_loader, nn.MSELoss())\n",
    "\n",
    "    run.finish()\n",
    "\n",
    "    return model, run_name"
   ]
  },
  {
   "cell_type": "code",
   "execution_count": 68,
   "metadata": {},
   "outputs": [
    {
     "data": {
      "text/html": [
       "Tracking run with wandb version 0.18.3"
      ],
      "text/plain": [
       "<IPython.core.display.HTML object>"
      ]
     },
     "metadata": {},
     "output_type": "display_data"
    },
    {
     "data": {
      "text/html": [
       "Run data is saved locally in <code>/nfs/research/birney/users/esther/medaka-img/src_files/wandb/run-20241104_101359-ciksggux</code>"
      ],
      "text/plain": [
       "<IPython.core.display.HTML object>"
      ]
     },
     "metadata": {},
     "output_type": "display_data"
    },
    {
     "data": {
      "text/html": [
       "Syncing run <strong><a href='https://wandb.ai/ey267-university-of-cambridge/convnet-ae-pytorch-medaka/runs/ciksggux' target=\"_blank\">happy-glitter-44</a></strong> to <a href='https://wandb.ai/ey267-university-of-cambridge/convnet-ae-pytorch-medaka' target=\"_blank\">Weights & Biases</a> (<a href='https://wandb.me/run' target=\"_blank\">docs</a>)<br/>"
      ],
      "text/plain": [
       "<IPython.core.display.HTML object>"
      ]
     },
     "metadata": {},
     "output_type": "display_data"
    },
    {
     "data": {
      "text/html": [
       " View project at <a href='https://wandb.ai/ey267-university-of-cambridge/convnet-ae-pytorch-medaka' target=\"_blank\">https://wandb.ai/ey267-university-of-cambridge/convnet-ae-pytorch-medaka</a>"
      ],
      "text/plain": [
       "<IPython.core.display.HTML object>"
      ]
     },
     "metadata": {},
     "output_type": "display_data"
    },
    {
     "data": {
      "text/html": [
       " View run at <a href='https://wandb.ai/ey267-university-of-cambridge/convnet-ae-pytorch-medaka/runs/ciksggux' target=\"_blank\">https://wandb.ai/ey267-university-of-cambridge/convnet-ae-pytorch-medaka/runs/ciksggux</a>"
      ],
      "text/plain": [
       "<IPython.core.display.HTML object>"
      ]
     },
     "metadata": {},
     "output_type": "display_data"
    },
    {
     "name": "stderr",
     "output_type": "stream",
     "text": [
      "  0%|          | 0/101 [00:00<?, ?it/s]"
     ]
    },
    {
     "name": "stdout",
     "output_type": "stream",
     "text": [
      "Loss after 00889 examples: 2411.09058\n",
      "Validation loss: 9458.49777\n",
      "Logging table at epoch 0\n"
     ]
    },
    {
     "name": "stderr",
     "output_type": "stream",
     "text": [
      "  1%|          | 1/101 [00:11<18:46, 11.26s/it]"
     ]
    },
    {
     "name": "stdout",
     "output_type": "stream",
     "text": [
      "Loss after 01778 examples: 1666.41064\n"
     ]
    },
    {
     "name": "stderr",
     "output_type": "stream",
     "text": [
      "  2%|▏         | 2/101 [00:21<17:42, 10.74s/it]"
     ]
    },
    {
     "name": "stdout",
     "output_type": "stream",
     "text": [
      "Validation loss: 4479.19148\n",
      "Loss after 02667 examples: 1378.78564\n"
     ]
    },
    {
     "name": "stderr",
     "output_type": "stream",
     "text": [
      "  3%|▎         | 3/101 [00:30<15:53,  9.73s/it]"
     ]
    },
    {
     "name": "stdout",
     "output_type": "stream",
     "text": [
      "Validation loss: 1388.96211\n",
      "Loss after 03556 examples: 1016.93042\n"
     ]
    },
    {
     "name": "stderr",
     "output_type": "stream",
     "text": [
      "  4%|▍         | 4/101 [00:38<15:08,  9.36s/it]"
     ]
    },
    {
     "name": "stdout",
     "output_type": "stream",
     "text": [
      "Validation loss: 1149.61586\n",
      "Loss after 04445 examples: 1042.53564\n"
     ]
    },
    {
     "name": "stderr",
     "output_type": "stream",
     "text": [
      "  5%|▍         | 5/101 [00:47<14:26,  9.03s/it]"
     ]
    },
    {
     "name": "stdout",
     "output_type": "stream",
     "text": [
      "Validation loss: 1024.33153\n",
      "Loss after 05334 examples: 844.74286\n",
      "Validation loss: 954.20347\n",
      "Logging table at epoch 5\n"
     ]
    },
    {
     "name": "stderr",
     "output_type": "stream",
     "text": [
      "  6%|▌         | 6/101 [00:56<14:21,  9.07s/it]"
     ]
    },
    {
     "name": "stdout",
     "output_type": "stream",
     "text": [
      "Loss after 06223 examples: 582.38361\n"
     ]
    },
    {
     "name": "stderr",
     "output_type": "stream",
     "text": [
      "  7%|▋         | 7/101 [01:04<13:53,  8.87s/it]"
     ]
    },
    {
     "name": "stdout",
     "output_type": "stream",
     "text": [
      "Validation loss: 539.51978\n",
      "Loss after 07112 examples: 476.84100\n"
     ]
    },
    {
     "name": "stderr",
     "output_type": "stream",
     "text": [
      "  8%|▊         | 8/101 [01:13<13:43,  8.85s/it]"
     ]
    },
    {
     "name": "stdout",
     "output_type": "stream",
     "text": [
      "Validation loss: 535.29896\n",
      "Loss after 08001 examples: 535.71960\n"
     ]
    },
    {
     "name": "stderr",
     "output_type": "stream",
     "text": [
      "  9%|▉         | 9/101 [01:22<13:25,  8.76s/it]"
     ]
    },
    {
     "name": "stdout",
     "output_type": "stream",
     "text": [
      "Validation loss: 528.62723\n",
      "Loss after 08890 examples: 524.23743\n"
     ]
    },
    {
     "name": "stderr",
     "output_type": "stream",
     "text": [
      " 10%|▉         | 10/101 [01:30<13:12,  8.71s/it]"
     ]
    },
    {
     "name": "stdout",
     "output_type": "stream",
     "text": [
      "Validation loss: 522.90256\n",
      "Loss after 09779 examples: 537.97040\n",
      "Validation loss: 513.44735\n",
      "Logging table at epoch 10\n"
     ]
    },
    {
     "name": "stderr",
     "output_type": "stream",
     "text": [
      " 11%|█         | 11/101 [01:39<13:11,  8.80s/it]"
     ]
    },
    {
     "name": "stdout",
     "output_type": "stream",
     "text": [
      "Loss after 10668 examples: 473.65543\n"
     ]
    },
    {
     "name": "stderr",
     "output_type": "stream",
     "text": [
      " 12%|█▏        | 12/101 [01:48<13:04,  8.82s/it]"
     ]
    },
    {
     "name": "stdout",
     "output_type": "stream",
     "text": [
      "Validation loss: 492.90963\n",
      "Loss after 11557 examples: 505.05334\n"
     ]
    },
    {
     "name": "stderr",
     "output_type": "stream",
     "text": [
      " 13%|█▎        | 13/101 [01:57<12:49,  8.74s/it]"
     ]
    },
    {
     "name": "stdout",
     "output_type": "stream",
     "text": [
      "Validation loss: 476.98452\n",
      "Loss after 12446 examples: 479.73856\n"
     ]
    },
    {
     "name": "stderr",
     "output_type": "stream",
     "text": [
      " 14%|█▍        | 14/101 [02:06<12:46,  8.81s/it]"
     ]
    },
    {
     "name": "stdout",
     "output_type": "stream",
     "text": [
      "Validation loss: 456.66415\n",
      "Loss after 13335 examples: 447.03882\n"
     ]
    },
    {
     "name": "stderr",
     "output_type": "stream",
     "text": [
      " 15%|█▍        | 15/101 [02:14<12:30,  8.73s/it]"
     ]
    },
    {
     "name": "stdout",
     "output_type": "stream",
     "text": [
      "Validation loss: 433.78799\n",
      "Loss after 14224 examples: 392.57538\n",
      "Validation loss: 409.85845\n",
      "Logging table at epoch 15\n"
     ]
    },
    {
     "name": "stderr",
     "output_type": "stream",
     "text": [
      " 16%|█▌        | 16/101 [02:24<12:41,  8.95s/it]"
     ]
    },
    {
     "name": "stdout",
     "output_type": "stream",
     "text": [
      "Loss after 15113 examples: 366.47464\n"
     ]
    },
    {
     "name": "stderr",
     "output_type": "stream",
     "text": [
      " 17%|█▋        | 17/101 [02:32<12:17,  8.78s/it]"
     ]
    },
    {
     "name": "stdout",
     "output_type": "stream",
     "text": [
      "Validation loss: 381.59423\n",
      "Loss after 16002 examples: 412.39859\n"
     ]
    },
    {
     "name": "stderr",
     "output_type": "stream",
     "text": [
      " 18%|█▊        | 18/101 [02:41<12:13,  8.84s/it]"
     ]
    },
    {
     "name": "stdout",
     "output_type": "stream",
     "text": [
      "Validation loss: 379.86337\n",
      "Loss after 16891 examples: 380.09464\n"
     ]
    },
    {
     "name": "stderr",
     "output_type": "stream",
     "text": [
      " 19%|█▉        | 19/101 [02:50<11:53,  8.71s/it]"
     ]
    },
    {
     "name": "stdout",
     "output_type": "stream",
     "text": [
      "Validation loss: 362.21371\n",
      "Loss after 17780 examples: 374.83878\n"
     ]
    },
    {
     "name": "stderr",
     "output_type": "stream",
     "text": [
      " 20%|█▉        | 20/101 [02:58<11:47,  8.73s/it]"
     ]
    },
    {
     "name": "stdout",
     "output_type": "stream",
     "text": [
      "Validation loss: 344.06410\n",
      "Loss after 18669 examples: 306.05936\n",
      "Validation loss: 317.94823\n",
      "Logging table at epoch 20\n"
     ]
    },
    {
     "name": "stderr",
     "output_type": "stream",
     "text": [
      " 21%|██        | 21/101 [03:11<13:16,  9.96s/it]"
     ]
    },
    {
     "name": "stdout",
     "output_type": "stream",
     "text": [
      "Loss after 19558 examples: 378.96646\n"
     ]
    },
    {
     "name": "stderr",
     "output_type": "stream",
     "text": [
      " 22%|██▏       | 22/101 [03:20<12:34,  9.55s/it]"
     ]
    },
    {
     "name": "stdout",
     "output_type": "stream",
     "text": [
      "Validation loss: 304.03134\n",
      "Loss after 20447 examples: 324.65576\n"
     ]
    },
    {
     "name": "stderr",
     "output_type": "stream",
     "text": [
      " 23%|██▎       | 23/101 [03:29<12:14,  9.42s/it]"
     ]
    },
    {
     "name": "stdout",
     "output_type": "stream",
     "text": [
      "Validation loss: 308.11818\n",
      "Loss after 21336 examples: 317.63455\n"
     ]
    },
    {
     "name": "stderr",
     "output_type": "stream",
     "text": [
      " 24%|██▍       | 24/101 [03:37<11:44,  9.15s/it]"
     ]
    },
    {
     "name": "stdout",
     "output_type": "stream",
     "text": [
      "Validation loss: 290.27842\n",
      "Loss after 22225 examples: 242.77539\n"
     ]
    },
    {
     "name": "stderr",
     "output_type": "stream",
     "text": [
      " 25%|██▍       | 25/101 [03:46<11:27,  9.05s/it]"
     ]
    },
    {
     "name": "stdout",
     "output_type": "stream",
     "text": [
      "Validation loss: 269.24961\n",
      "Loss after 23114 examples: 328.43945\n",
      "Validation loss: 283.27160\n",
      "Logging table at epoch 25\n"
     ]
    },
    {
     "name": "stderr",
     "output_type": "stream",
     "text": [
      " 26%|██▌       | 26/101 [03:55<11:21,  9.09s/it]"
     ]
    },
    {
     "name": "stdout",
     "output_type": "stream",
     "text": [
      "Loss after 24003 examples: 311.49780\n"
     ]
    },
    {
     "name": "stderr",
     "output_type": "stream",
     "text": [
      " 27%|██▋       | 27/101 [04:04<11:05,  8.99s/it]"
     ]
    },
    {
     "name": "stdout",
     "output_type": "stream",
     "text": [
      "Validation loss: 260.64697\n",
      "Loss after 24892 examples: 312.42053\n"
     ]
    },
    {
     "name": "stderr",
     "output_type": "stream",
     "text": [
      " 28%|██▊       | 28/101 [04:13<10:44,  8.83s/it]"
     ]
    },
    {
     "name": "stdout",
     "output_type": "stream",
     "text": [
      "Validation loss: 272.11208\n",
      "Loss after 25781 examples: 270.14481\n"
     ]
    },
    {
     "name": "stderr",
     "output_type": "stream",
     "text": [
      " 29%|██▊       | 29/101 [04:22<10:36,  8.83s/it]"
     ]
    },
    {
     "name": "stdout",
     "output_type": "stream",
     "text": [
      "Validation loss: 259.31459\n",
      "Loss after 26670 examples: 232.80086\n"
     ]
    },
    {
     "name": "stderr",
     "output_type": "stream",
     "text": [
      " 30%|██▉       | 30/101 [04:30<10:19,  8.72s/it]"
     ]
    },
    {
     "name": "stdout",
     "output_type": "stream",
     "text": [
      "Validation loss: 237.92310\n",
      "Loss after 27559 examples: 253.75343\n",
      "Validation loss: 251.10644\n",
      "Logging table at epoch 30\n"
     ]
    },
    {
     "name": "stderr",
     "output_type": "stream",
     "text": [
      " 31%|███       | 31/101 [04:39<10:23,  8.91s/it]"
     ]
    },
    {
     "name": "stdout",
     "output_type": "stream",
     "text": [
      "Loss after 28448 examples: 217.96555\n"
     ]
    },
    {
     "name": "stderr",
     "output_type": "stream",
     "text": [
      " 32%|███▏      | 32/101 [04:48<10:04,  8.76s/it]"
     ]
    },
    {
     "name": "stdout",
     "output_type": "stream",
     "text": [
      "Validation loss: 238.71588\n",
      "Loss after 29337 examples: 243.83305\n"
     ]
    },
    {
     "name": "stderr",
     "output_type": "stream",
     "text": [
      " 33%|███▎      | 33/101 [04:57<10:00,  8.83s/it]"
     ]
    },
    {
     "name": "stdout",
     "output_type": "stream",
     "text": [
      "Validation loss: 221.46359\n",
      "Loss after 30226 examples: 217.95305\n"
     ]
    },
    {
     "name": "stderr",
     "output_type": "stream",
     "text": [
      " 34%|███▎      | 34/101 [05:05<09:44,  8.73s/it]"
     ]
    },
    {
     "name": "stdout",
     "output_type": "stream",
     "text": [
      "Validation loss: 215.91893\n",
      "Loss after 31115 examples: 226.93556\n"
     ]
    },
    {
     "name": "stderr",
     "output_type": "stream",
     "text": [
      " 35%|███▍      | 35/101 [05:14<09:37,  8.75s/it]"
     ]
    },
    {
     "name": "stdout",
     "output_type": "stream",
     "text": [
      "Validation loss: 220.50426\n",
      "Loss after 32004 examples: 238.61603\n",
      "Validation loss: 193.28336\n",
      "Logging table at epoch 35\n"
     ]
    },
    {
     "name": "stderr",
     "output_type": "stream",
     "text": [
      " 36%|███▌      | 36/101 [05:23<09:36,  8.86s/it]"
     ]
    },
    {
     "name": "stdout",
     "output_type": "stream",
     "text": [
      "Loss after 32893 examples: 183.01427\n"
     ]
    },
    {
     "name": "stderr",
     "output_type": "stream",
     "text": [
      " 37%|███▋      | 37/101 [05:32<09:25,  8.84s/it]"
     ]
    },
    {
     "name": "stdout",
     "output_type": "stream",
     "text": [
      "Validation loss: 185.92509\n",
      "Loss after 33782 examples: 182.64790\n"
     ]
    },
    {
     "name": "stderr",
     "output_type": "stream",
     "text": [
      " 38%|███▊      | 38/101 [05:41<09:12,  8.76s/it]"
     ]
    },
    {
     "name": "stdout",
     "output_type": "stream",
     "text": [
      "Validation loss: 178.66583\n",
      "Loss after 34671 examples: 155.70866\n"
     ]
    },
    {
     "name": "stderr",
     "output_type": "stream",
     "text": [
      " 39%|███▊      | 39/101 [05:49<09:05,  8.79s/it]"
     ]
    },
    {
     "name": "stdout",
     "output_type": "stream",
     "text": [
      "Validation loss: 165.79053\n",
      "Loss after 35560 examples: 187.76022\n"
     ]
    },
    {
     "name": "stderr",
     "output_type": "stream",
     "text": [
      " 40%|███▉      | 40/101 [05:58<08:52,  8.73s/it]"
     ]
    },
    {
     "name": "stdout",
     "output_type": "stream",
     "text": [
      "Validation loss: 181.73777\n",
      "Loss after 36449 examples: 157.50633\n",
      "Validation loss: 167.42285\n",
      "Logging table at epoch 40\n"
     ]
    },
    {
     "name": "stderr",
     "output_type": "stream",
     "text": [
      " 41%|████      | 41/101 [06:11<10:02, 10.03s/it]"
     ]
    },
    {
     "name": "stdout",
     "output_type": "stream",
     "text": [
      "Loss after 37338 examples: 182.63254\n"
     ]
    },
    {
     "name": "stderr",
     "output_type": "stream",
     "text": [
      " 42%|████▏     | 42/101 [06:20<09:26,  9.61s/it]"
     ]
    },
    {
     "name": "stdout",
     "output_type": "stream",
     "text": [
      "Validation loss: 198.84146\n",
      "Loss after 38227 examples: 182.75937\n"
     ]
    },
    {
     "name": "stderr",
     "output_type": "stream",
     "text": [
      " 43%|████▎     | 43/101 [06:29<09:04,  9.39s/it]"
     ]
    },
    {
     "name": "stdout",
     "output_type": "stream",
     "text": [
      "Validation loss: 168.21928\n",
      "Loss after 39116 examples: 174.08974\n"
     ]
    },
    {
     "name": "stderr",
     "output_type": "stream",
     "text": [
      " 44%|████▎     | 44/101 [06:37<08:40,  9.13s/it]"
     ]
    },
    {
     "name": "stdout",
     "output_type": "stream",
     "text": [
      "Validation loss: 157.51179\n",
      "Loss after 40005 examples: 193.70430\n"
     ]
    },
    {
     "name": "stderr",
     "output_type": "stream",
     "text": [
      " 45%|████▍     | 45/101 [06:46<08:26,  9.04s/it]"
     ]
    },
    {
     "name": "stdout",
     "output_type": "stream",
     "text": [
      "Validation loss: 158.94714\n",
      "Loss after 40894 examples: 162.74869\n",
      "Validation loss: 158.17218\n",
      "Logging table at epoch 45\n"
     ]
    },
    {
     "name": "stderr",
     "output_type": "stream",
     "text": [
      " 46%|████▌     | 46/101 [06:55<08:23,  9.15s/it]"
     ]
    },
    {
     "name": "stdout",
     "output_type": "stream",
     "text": [
      "Loss after 41783 examples: 134.15175\n"
     ]
    },
    {
     "name": "stderr",
     "output_type": "stream",
     "text": [
      " 47%|████▋     | 47/101 [07:04<08:02,  8.93s/it]"
     ]
    },
    {
     "name": "stdout",
     "output_type": "stream",
     "text": [
      "Validation loss: 142.96533\n",
      "Loss after 42672 examples: 159.11121\n"
     ]
    },
    {
     "name": "stderr",
     "output_type": "stream",
     "text": [
      " 48%|████▊     | 48/101 [07:12<07:49,  8.86s/it]"
     ]
    },
    {
     "name": "stdout",
     "output_type": "stream",
     "text": [
      "Validation loss: 147.94325\n",
      "Loss after 43561 examples: 140.71689\n"
     ]
    },
    {
     "name": "stderr",
     "output_type": "stream",
     "text": [
      " 49%|████▊     | 49/101 [07:21<07:35,  8.76s/it]"
     ]
    },
    {
     "name": "stdout",
     "output_type": "stream",
     "text": [
      "Validation loss: 144.11683\n",
      "Loss after 44450 examples: 167.06752\n"
     ]
    },
    {
     "name": "stderr",
     "output_type": "stream",
     "text": [
      " 50%|████▉     | 50/101 [07:30<07:29,  8.81s/it]"
     ]
    },
    {
     "name": "stdout",
     "output_type": "stream",
     "text": [
      "Validation loss: 154.24783\n",
      "Loss after 45339 examples: 172.85043\n",
      "Validation loss: 155.74137\n",
      "Logging table at epoch 50\n"
     ]
    },
    {
     "name": "stderr",
     "output_type": "stream",
     "text": [
      " 50%|█████     | 51/101 [07:39<07:25,  8.92s/it]"
     ]
    },
    {
     "name": "stdout",
     "output_type": "stream",
     "text": [
      "Loss after 46228 examples: 115.04904\n"
     ]
    },
    {
     "name": "stderr",
     "output_type": "stream",
     "text": [
      " 51%|█████▏    | 52/101 [07:48<07:15,  8.89s/it]"
     ]
    },
    {
     "name": "stdout",
     "output_type": "stream",
     "text": [
      "Validation loss: 131.77082\n",
      "Loss after 47117 examples: 125.67666\n"
     ]
    },
    {
     "name": "stderr",
     "output_type": "stream",
     "text": [
      " 52%|█████▏    | 53/101 [07:56<07:01,  8.77s/it]"
     ]
    },
    {
     "name": "stdout",
     "output_type": "stream",
     "text": [
      "Validation loss: 139.72453\n",
      "Loss after 48006 examples: 133.17703\n"
     ]
    },
    {
     "name": "stderr",
     "output_type": "stream",
     "text": [
      " 53%|█████▎    | 54/101 [08:05<06:53,  8.80s/it]"
     ]
    },
    {
     "name": "stdout",
     "output_type": "stream",
     "text": [
      "Validation loss: 138.58761\n",
      "Loss after 48895 examples: 130.72423\n"
     ]
    },
    {
     "name": "stderr",
     "output_type": "stream",
     "text": [
      " 54%|█████▍    | 55/101 [08:14<06:40,  8.71s/it]"
     ]
    },
    {
     "name": "stdout",
     "output_type": "stream",
     "text": [
      "Validation loss: 136.88850\n",
      "Loss after 49784 examples: 130.58189\n",
      "Validation loss: 136.45771\n",
      "Logging table at epoch 55\n"
     ]
    },
    {
     "name": "stderr",
     "output_type": "stream",
     "text": [
      " 55%|█████▌    | 56/101 [08:23<06:43,  8.98s/it]"
     ]
    },
    {
     "name": "stdout",
     "output_type": "stream",
     "text": [
      "Loss after 50673 examples: 126.88355\n"
     ]
    },
    {
     "name": "stderr",
     "output_type": "stream",
     "text": [
      " 56%|█████▋    | 57/101 [08:32<06:28,  8.84s/it]"
     ]
    },
    {
     "name": "stdout",
     "output_type": "stream",
     "text": [
      "Validation loss: 136.18642\n",
      "Loss after 51562 examples: 146.75304\n"
     ]
    },
    {
     "name": "stderr",
     "output_type": "stream",
     "text": [
      " 57%|█████▋    | 58/101 [08:41<06:18,  8.81s/it]"
     ]
    },
    {
     "name": "stdout",
     "output_type": "stream",
     "text": [
      "Validation loss: 132.65013\n",
      "Loss after 52451 examples: 172.80806\n"
     ]
    },
    {
     "name": "stderr",
     "output_type": "stream",
     "text": [
      " 58%|█████▊    | 59/101 [08:49<06:05,  8.69s/it]"
     ]
    },
    {
     "name": "stdout",
     "output_type": "stream",
     "text": [
      "Validation loss: 148.78826\n",
      "Loss after 53340 examples: 128.83566\n"
     ]
    },
    {
     "name": "stderr",
     "output_type": "stream",
     "text": [
      " 59%|█████▉    | 60/101 [08:58<05:57,  8.72s/it]"
     ]
    },
    {
     "name": "stdout",
     "output_type": "stream",
     "text": [
      "Validation loss: 128.27403\n",
      "Loss after 54229 examples: 132.75943\n",
      "Validation loss: 122.72300\n",
      "Logging table at epoch 60\n"
     ]
    },
    {
     "name": "stderr",
     "output_type": "stream",
     "text": [
      " 60%|██████    | 61/101 [09:11<06:37,  9.94s/it]"
     ]
    },
    {
     "name": "stdout",
     "output_type": "stream",
     "text": [
      "Loss after 55118 examples: 154.10338\n"
     ]
    },
    {
     "name": "stderr",
     "output_type": "stream",
     "text": [
      " 61%|██████▏   | 62/101 [09:20<06:16,  9.64s/it]"
     ]
    },
    {
     "name": "stdout",
     "output_type": "stream",
     "text": [
      "Validation loss: 140.52054\n",
      "Loss after 56007 examples: 144.42305\n"
     ]
    },
    {
     "name": "stderr",
     "output_type": "stream",
     "text": [
      " 62%|██████▏   | 63/101 [09:28<05:54,  9.33s/it]"
     ]
    },
    {
     "name": "stdout",
     "output_type": "stream",
     "text": [
      "Validation loss: 131.26844\n",
      "Loss after 56896 examples: 135.72160\n"
     ]
    },
    {
     "name": "stderr",
     "output_type": "stream",
     "text": [
      " 63%|██████▎   | 64/101 [09:37<05:42,  9.25s/it]"
     ]
    },
    {
     "name": "stdout",
     "output_type": "stream",
     "text": [
      "Validation loss: 129.35960\n",
      "Loss after 57785 examples: 143.49814\n"
     ]
    },
    {
     "name": "stderr",
     "output_type": "stream",
     "text": [
      " 64%|██████▍   | 65/101 [09:47<05:33,  9.27s/it]"
     ]
    },
    {
     "name": "stdout",
     "output_type": "stream",
     "text": [
      "Validation loss: 118.42775\n",
      "Loss after 58674 examples: 120.73811\n",
      "Validation loss: 117.23203\n",
      "Logging table at epoch 65\n"
     ]
    },
    {
     "name": "stderr",
     "output_type": "stream",
     "text": [
      " 65%|██████▌   | 66/101 [09:56<05:29,  9.41s/it]"
     ]
    },
    {
     "name": "stdout",
     "output_type": "stream",
     "text": [
      "Loss after 59563 examples: 127.04482\n"
     ]
    },
    {
     "name": "stderr",
     "output_type": "stream",
     "text": [
      " 66%|██████▋   | 67/101 [10:05<05:12,  9.18s/it]"
     ]
    },
    {
     "name": "stdout",
     "output_type": "stream",
     "text": [
      "Validation loss: 123.37086\n",
      "Loss after 60452 examples: 117.63830\n"
     ]
    },
    {
     "name": "stderr",
     "output_type": "stream",
     "text": [
      " 67%|██████▋   | 68/101 [10:16<05:17,  9.62s/it]"
     ]
    },
    {
     "name": "stdout",
     "output_type": "stream",
     "text": [
      "Validation loss: 117.90882\n",
      "Loss after 61341 examples: 129.83505\n"
     ]
    },
    {
     "name": "stderr",
     "output_type": "stream",
     "text": [
      " 68%|██████▊   | 69/101 [10:25<05:09,  9.69s/it]"
     ]
    },
    {
     "name": "stdout",
     "output_type": "stream",
     "text": [
      "Validation loss: 136.96286\n",
      "Loss after 62230 examples: 109.20818\n"
     ]
    },
    {
     "name": "stderr",
     "output_type": "stream",
     "text": [
      " 69%|██████▉   | 70/101 [10:36<05:06,  9.88s/it]"
     ]
    },
    {
     "name": "stdout",
     "output_type": "stream",
     "text": [
      "Validation loss: 107.82961\n",
      "Loss after 63119 examples: 113.79742\n",
      "Validation loss: 107.96963\n",
      "Logging table at epoch 70\n"
     ]
    },
    {
     "name": "stderr",
     "output_type": "stream",
     "text": [
      " 70%|███████   | 71/101 [10:46<04:58,  9.96s/it]"
     ]
    },
    {
     "name": "stdout",
     "output_type": "stream",
     "text": [
      "Loss after 64008 examples: 117.69659\n"
     ]
    },
    {
     "name": "stderr",
     "output_type": "stream",
     "text": [
      " 71%|███████▏  | 72/101 [10:55<04:38,  9.60s/it]"
     ]
    },
    {
     "name": "stdout",
     "output_type": "stream",
     "text": [
      "Validation loss: 124.77805\n",
      "Loss after 64897 examples: 132.77666\n"
     ]
    },
    {
     "name": "stderr",
     "output_type": "stream",
     "text": [
      " 72%|███████▏  | 73/101 [11:04<04:24,  9.46s/it]"
     ]
    },
    {
     "name": "stdout",
     "output_type": "stream",
     "text": [
      "Validation loss: 107.29945\n",
      "Loss after 65786 examples: 124.02610\n"
     ]
    },
    {
     "name": "stderr",
     "output_type": "stream",
     "text": [
      " 73%|███████▎  | 74/101 [11:14<04:24,  9.79s/it]"
     ]
    },
    {
     "name": "stdout",
     "output_type": "stream",
     "text": [
      "Validation loss: 107.18069\n",
      "Loss after 66675 examples: 93.50729\n"
     ]
    },
    {
     "name": "stderr",
     "output_type": "stream",
     "text": [
      " 74%|███████▍  | 75/101 [11:24<04:09,  9.60s/it]"
     ]
    },
    {
     "name": "stdout",
     "output_type": "stream",
     "text": [
      "Validation loss: 109.61338\n",
      "Loss after 67564 examples: 121.07367\n",
      "Validation loss: 102.68317\n",
      "Logging table at epoch 75\n"
     ]
    },
    {
     "name": "stderr",
     "output_type": "stream",
     "text": [
      " 75%|███████▌  | 76/101 [11:34<04:05,  9.82s/it]"
     ]
    },
    {
     "name": "stdout",
     "output_type": "stream",
     "text": [
      "Loss after 68453 examples: 101.13533\n"
     ]
    },
    {
     "name": "stderr",
     "output_type": "stream",
     "text": [
      " 76%|███████▌  | 77/101 [11:43<03:49,  9.55s/it]"
     ]
    },
    {
     "name": "stdout",
     "output_type": "stream",
     "text": [
      "Validation loss: 98.70686\n",
      "Loss after 69342 examples: 115.57767\n"
     ]
    },
    {
     "name": "stderr",
     "output_type": "stream",
     "text": [
      " 77%|███████▋  | 78/101 [11:52<03:35,  9.37s/it]"
     ]
    },
    {
     "name": "stdout",
     "output_type": "stream",
     "text": [
      "Validation loss: 106.10667\n",
      "Loss after 70231 examples: 100.03592\n"
     ]
    },
    {
     "name": "stderr",
     "output_type": "stream",
     "text": [
      " 78%|███████▊  | 79/101 [12:01<03:22,  9.21s/it]"
     ]
    },
    {
     "name": "stdout",
     "output_type": "stream",
     "text": [
      "Validation loss: 107.57093\n",
      "Loss after 71120 examples: 108.83630\n"
     ]
    },
    {
     "name": "stderr",
     "output_type": "stream",
     "text": [
      " 79%|███████▉  | 80/101 [12:09<03:09,  9.04s/it]"
     ]
    },
    {
     "name": "stdout",
     "output_type": "stream",
     "text": [
      "Validation loss: 111.25093\n",
      "Loss after 72009 examples: 104.15138\n",
      "Validation loss: 102.71836\n",
      "Logging table at epoch 80\n"
     ]
    },
    {
     "name": "stderr",
     "output_type": "stream",
     "text": [
      " 80%|████████  | 81/101 [12:23<03:30, 10.54s/it]"
     ]
    },
    {
     "name": "stdout",
     "output_type": "stream",
     "text": [
      "Loss after 72898 examples: 92.47644\n"
     ]
    },
    {
     "name": "stderr",
     "output_type": "stream",
     "text": [
      " 81%|████████  | 82/101 [12:32<03:09,  9.95s/it]"
     ]
    },
    {
     "name": "stdout",
     "output_type": "stream",
     "text": [
      "Validation loss: 96.05425\n",
      "Loss after 73787 examples: 98.09881\n"
     ]
    },
    {
     "name": "stderr",
     "output_type": "stream",
     "text": [
      " 82%|████████▏ | 83/101 [12:41<02:55,  9.73s/it]"
     ]
    },
    {
     "name": "stdout",
     "output_type": "stream",
     "text": [
      "Validation loss: 94.40867\n",
      "Loss after 74676 examples: 100.26711\n"
     ]
    },
    {
     "name": "stderr",
     "output_type": "stream",
     "text": [
      " 83%|████████▎ | 84/101 [12:50<02:42,  9.57s/it]"
     ]
    },
    {
     "name": "stdout",
     "output_type": "stream",
     "text": [
      "Validation loss: 93.15135\n",
      "Loss after 75565 examples: 88.79607\n"
     ]
    },
    {
     "name": "stderr",
     "output_type": "stream",
     "text": [
      " 84%|████████▍ | 85/101 [12:59<02:30,  9.39s/it]"
     ]
    },
    {
     "name": "stdout",
     "output_type": "stream",
     "text": [
      "Validation loss: 94.88411\n",
      "Loss after 76454 examples: 89.32812\n",
      "Validation loss: 98.64455\n",
      "Logging table at epoch 85\n"
     ]
    },
    {
     "name": "stderr",
     "output_type": "stream",
     "text": [
      " 85%|████████▌ | 86/101 [13:08<02:20,  9.36s/it]"
     ]
    },
    {
     "name": "stdout",
     "output_type": "stream",
     "text": [
      "Loss after 77343 examples: 84.13279\n"
     ]
    },
    {
     "name": "stderr",
     "output_type": "stream",
     "text": [
      " 86%|████████▌ | 87/101 [13:17<02:09,  9.24s/it]"
     ]
    },
    {
     "name": "stdout",
     "output_type": "stream",
     "text": [
      "Validation loss: 91.64079\n",
      "Loss after 78232 examples: 106.69189\n"
     ]
    },
    {
     "name": "stderr",
     "output_type": "stream",
     "text": [
      " 87%|████████▋ | 88/101 [13:26<01:57,  9.04s/it]"
     ]
    },
    {
     "name": "stdout",
     "output_type": "stream",
     "text": [
      "Validation loss: 91.16084\n",
      "Loss after 79121 examples: 84.30313\n"
     ]
    },
    {
     "name": "stderr",
     "output_type": "stream",
     "text": [
      " 88%|████████▊ | 89/101 [13:35<01:48,  9.00s/it]"
     ]
    },
    {
     "name": "stdout",
     "output_type": "stream",
     "text": [
      "Validation loss: 98.31421\n",
      "Loss after 80010 examples: 91.49903\n"
     ]
    },
    {
     "name": "stderr",
     "output_type": "stream",
     "text": [
      " 89%|████████▉ | 90/101 [13:44<01:37,  8.88s/it]"
     ]
    },
    {
     "name": "stdout",
     "output_type": "stream",
     "text": [
      "Validation loss: 100.20206\n",
      "Loss after 80899 examples: 101.80525\n",
      "Validation loss: 92.24352\n",
      "Logging table at epoch 90\n"
     ]
    },
    {
     "name": "stderr",
     "output_type": "stream",
     "text": [
      " 90%|█████████ | 91/101 [13:53<01:31,  9.17s/it]"
     ]
    },
    {
     "name": "stdout",
     "output_type": "stream",
     "text": [
      "Loss after 81788 examples: 80.27010\n"
     ]
    },
    {
     "name": "stderr",
     "output_type": "stream",
     "text": [
      " 91%|█████████ | 92/101 [14:02<01:20,  8.99s/it]"
     ]
    },
    {
     "name": "stdout",
     "output_type": "stream",
     "text": [
      "Validation loss: 87.91277\n",
      "Loss after 82677 examples: 86.20851\n"
     ]
    },
    {
     "name": "stderr",
     "output_type": "stream",
     "text": [
      " 92%|█████████▏| 93/101 [14:11<01:11,  8.93s/it]"
     ]
    },
    {
     "name": "stdout",
     "output_type": "stream",
     "text": [
      "Validation loss: 94.22976\n",
      "Loss after 83566 examples: 89.25840\n"
     ]
    },
    {
     "name": "stderr",
     "output_type": "stream",
     "text": [
      " 93%|█████████▎| 94/101 [14:19<01:01,  8.80s/it]"
     ]
    },
    {
     "name": "stdout",
     "output_type": "stream",
     "text": [
      "Validation loss: 87.22353\n",
      "Loss after 84455 examples: 90.11431\n"
     ]
    },
    {
     "name": "stderr",
     "output_type": "stream",
     "text": [
      " 94%|█████████▍| 95/101 [14:28<00:52,  8.83s/it]"
     ]
    },
    {
     "name": "stdout",
     "output_type": "stream",
     "text": [
      "Validation loss: 85.59645\n",
      "Loss after 85344 examples: 79.74100\n",
      "Validation loss: 90.99213\n",
      "Logging table at epoch 95\n"
     ]
    },
    {
     "name": "stderr",
     "output_type": "stream",
     "text": [
      " 95%|█████████▌| 96/101 [14:38<00:46,  9.27s/it]"
     ]
    },
    {
     "name": "stdout",
     "output_type": "stream",
     "text": [
      "Loss after 86233 examples: 88.14915\n"
     ]
    },
    {
     "name": "stderr",
     "output_type": "stream",
     "text": [
      " 96%|█████████▌| 97/101 [14:47<00:36,  9.06s/it]"
     ]
    },
    {
     "name": "stdout",
     "output_type": "stream",
     "text": [
      "Validation loss: 95.91630\n",
      "Loss after 87122 examples: 81.48725\n"
     ]
    },
    {
     "name": "stderr",
     "output_type": "stream",
     "text": [
      " 97%|█████████▋| 98/101 [14:56<00:27,  9.01s/it]"
     ]
    },
    {
     "name": "stdout",
     "output_type": "stream",
     "text": [
      "Validation loss: 86.15946\n",
      "Loss after 88011 examples: 70.96569\n"
     ]
    },
    {
     "name": "stderr",
     "output_type": "stream",
     "text": [
      " 98%|█████████▊| 99/101 [15:05<00:17,  8.89s/it]"
     ]
    },
    {
     "name": "stdout",
     "output_type": "stream",
     "text": [
      "Validation loss: 84.17324\n",
      "Loss after 88900 examples: 79.91055\n"
     ]
    },
    {
     "name": "stderr",
     "output_type": "stream",
     "text": [
      " 99%|█████████▉| 100/101 [15:13<00:08,  8.90s/it]"
     ]
    },
    {
     "name": "stdout",
     "output_type": "stream",
     "text": [
      "Validation loss: 83.75490\n",
      "Loss after 89789 examples: 83.44768\n",
      "Validation loss: 79.30550\n",
      "Logging table at epoch 100\n"
     ]
    },
    {
     "name": "stderr",
     "output_type": "stream",
     "text": [
      "100%|██████████| 101/101 [15:28<00:00,  9.19s/it]\n"
     ]
    },
    {
     "data": {
      "application/vnd.jupyter.widget-view+json": {
       "model_id": "c496f52bb4e549f8b25bff42822331e5",
       "version_major": 2,
       "version_minor": 0
      },
      "text/plain": [
       "VBox(children=(Label(value='0.768 MB of 0.768 MB uploaded\\r'), FloatProgress(value=1.0, max=1.0)))"
      ]
     },
     "metadata": {},
     "output_type": "display_data"
    },
    {
     "data": {
      "text/html": [
       "<style>\n",
       "    table.wandb td:nth-child(1) { padding: 0 10px; text-align: left ; width: auto;} td:nth-child(2) {text-align: left ; width: 100%}\n",
       "    .wandb-row { display: flex; flex-direction: row; flex-wrap: wrap; justify-content: flex-start; width: 100% }\n",
       "    .wandb-col { display: flex; flex-direction: column; flex-basis: 100%; flex: 1; padding: 10px; }\n",
       "    </style>\n",
       "<div class=\"wandb-row\"><div class=\"wandb-col\"><h3>Run history:</h3><br/><table class=\"wandb\"><tr><td>epoch</td><td>▁▁▂▂▂▂▂▂▂▃▃▃▃▃▃▄▄▄▄▄▅▅▅▅▅▅▅▅▆▆▆▆▇▇▇▇████</td></tr><tr><td>train loss</td><td>█▇▇▆▅▅▄▄▄▄▃▃▃▃▃▃▂▂▂▂▂▂▂▂▂▂▂▂▂▂▁▁▁▁▁▁▁▁▁▁</td></tr><tr><td>val_loss</td><td>█▂▁▁▁▁▁▁▁▁▁▁▁▁▁▁▁▁▁▁▁▁▁▁▁▁▁▁▁▁▁▁▁▁▁▁▁▁▁▁</td></tr></table><br/></div><div class=\"wandb-col\"><h3>Run summary:</h3><br/><table class=\"wandb\"><tr><td>epoch</td><td>100</td></tr><tr><td>train loss</td><td>83.44768</td></tr><tr><td>val_loss</td><td>79.3055</td></tr></table><br/></div></div>"
      ],
      "text/plain": [
       "<IPython.core.display.HTML object>"
      ]
     },
     "metadata": {},
     "output_type": "display_data"
    },
    {
     "data": {
      "text/html": [
       " View run <strong style=\"color:#cdcd00\">happy-glitter-44</strong> at: <a href='https://wandb.ai/ey267-university-of-cambridge/convnet-ae-pytorch-medaka/runs/ciksggux' target=\"_blank\">https://wandb.ai/ey267-university-of-cambridge/convnet-ae-pytorch-medaka/runs/ciksggux</a><br/> View project at: <a href='https://wandb.ai/ey267-university-of-cambridge/convnet-ae-pytorch-medaka' target=\"_blank\">https://wandb.ai/ey267-university-of-cambridge/convnet-ae-pytorch-medaka</a><br/>Synced 5 W&B file(s), 0 media file(s), 64 artifact file(s) and 21 other file(s)"
      ],
      "text/plain": [
       "<IPython.core.display.HTML object>"
      ]
     },
     "metadata": {},
     "output_type": "display_data"
    },
    {
     "data": {
      "text/html": [
       "Find logs at: <code>./wandb/run-20241104_101359-ciksggux/logs</code>"
      ],
      "text/plain": [
       "<IPython.core.display.HTML object>"
      ]
     },
     "metadata": {},
     "output_type": "display_data"
    },
    {
     "name": "stdout",
     "output_type": "stream",
     "text": [
      "happy-glitter-44\n"
     ]
    }
   ],
   "source": [
    "model, run_name = model_pipeline(config)\n",
    "\n",
    "torch.cuda.empty_cache()\n",
    "print(run_name)"
   ]
  },
  {
   "cell_type": "markdown",
   "metadata": {},
   "source": [
    "## Remove layers after the embedding layer"
   ]
  },
  {
   "cell_type": "code",
   "execution_count": 12,
   "metadata": {},
   "outputs": [],
   "source": [
    "class AutoEncoderConv(nn.Module):\n",
    "    def __init__(self, input_dim, latent_dim):\n",
    "        super(AutoEncoderConv, self).__init__()\n",
    "        # encoder\n",
    "        self.conv1 = nn.Sequential(\n",
    "            nn.Conv2d(input_dim[0], 128, kernel_size=4, stride=2, padding=1),\n",
    "            nn.BatchNorm2d(128),\n",
    "            nn.ReLU()\n",
    "        )\n",
    "        self.conv2 = nn.Sequential(\n",
    "            nn.Conv2d(128, 256, kernel_size=4, stride=2, padding=1),\n",
    "            nn.BatchNorm2d(256),\n",
    "            nn.ReLU()\n",
    "        )\n",
    "        self.conv3 = nn.Sequential(\n",
    "            nn.Conv2d(256, 512, kernel_size=4, stride=2, padding=1),\n",
    "            nn.BatchNorm2d(512),\n",
    "            nn.ReLU()\n",
    "        )\n",
    "        self.conv4 = nn.Sequential(\n",
    "            nn.Conv2d(512, 1024, kernel_size=4, stride=2, padding=1),\n",
    "            nn.BatchNorm2d(1024),\n",
    "            nn.ReLU()\n",
    "        )\n",
    "        self.embedding = nn.Linear(1024 * 14 * 14, latent_dim)\n",
    "\n",
    "        # decoder\n",
    "        self.deconv1 = nn.Sequential(nn.Linear(latent_dim, 1024 * 28 * 28))\n",
    "        self.deconv2 = nn.Sequential(\n",
    "            nn.ConvTranspose2d(1024, 512, kernel_size=5, stride=2, padding=2),\n",
    "            nn.BatchNorm2d(512),\n",
    "            nn.ReLU()\n",
    "        )\n",
    "        self.deconv3 = nn.Sequential(\n",
    "            nn.ConvTranspose2d(512, 256, kernel_size=5, stride=2, padding=1, output_padding=0),\n",
    "            nn.BatchNorm2d(256),\n",
    "            nn.ReLU()\n",
    "        )\n",
    "        self.deconv4 = nn.Sequential(\n",
    "            nn.ConvTranspose2d(256, 128, kernel_size=5, stride=2, padding=2, output_padding=1),\n",
    "            nn.BatchNorm2d(128),\n",
    "            nn.ReLU()\n",
    "        )\n",
    "        self.deconv5 = nn.Sequential(\n",
    "                nn.ConvTranspose2d(128, input_dim[0], 5, 1, padding=1), nn.Sigmoid()\n",
    "        )\n",
    "    \n",
    "    def forward(self, x):\n",
    "        x = self.conv1(x)\n",
    "        x = self.conv2(x)\n",
    "        x = self.conv3(x)\n",
    "        x = self.conv4(x)\n",
    "        x = self.embedding(x.reshape(x.shape[0], -1))\n",
    "        return x\n",
    "        x = self.deconv1(x)\n",
    "        x = x.view(-1, 1024, 28, 28)\n",
    "        x = self.deconv2(x)\n",
    "        x = self.deconv3(x)\n",
    "        x = self.deconv4(x)\n",
    "        x = self.deconv5(x)"
   ]
  },
  {
   "cell_type": "code",
   "execution_count": 13,
   "metadata": {},
   "outputs": [],
   "source": [
    "class AutoDecoderConv(nn.Module):\n",
    "    def __init__(self, input_dim, latent_dim):\n",
    "        super(AutoDecoderConv, self).__init__()\n",
    "        # encoder\n",
    "        self.conv1 = nn.Sequential(\n",
    "            nn.Conv2d(input_dim[0], 128, kernel_size=4, stride=2, padding=1),\n",
    "            nn.BatchNorm2d(128),\n",
    "            nn.ReLU()\n",
    "        )\n",
    "        self.conv2 = nn.Sequential(\n",
    "            nn.Conv2d(128, 256, kernel_size=4, stride=2, padding=1),\n",
    "            nn.BatchNorm2d(256),\n",
    "            nn.ReLU()\n",
    "        )\n",
    "        self.conv3 = nn.Sequential(\n",
    "            nn.Conv2d(256, 512, kernel_size=4, stride=2, padding=1),\n",
    "            nn.BatchNorm2d(512),\n",
    "            nn.ReLU()\n",
    "        )\n",
    "        self.conv4 = nn.Sequential(\n",
    "            nn.Conv2d(512, 1024, kernel_size=4, stride=2, padding=1),\n",
    "            nn.BatchNorm2d(1024),\n",
    "            nn.ReLU()\n",
    "        )\n",
    "        self.embedding = nn.Linear(1024 * 14 * 14, latent_dim)\n",
    "\n",
    "        # decoder\n",
    "        self.deconv1 = nn.Sequential(nn.Linear(latent_dim, 1024 * 28 * 28))\n",
    "        self.deconv2 = nn.Sequential(\n",
    "            nn.ConvTranspose2d(1024, 512, kernel_size=5, stride=2, padding=2),\n",
    "            nn.BatchNorm2d(512),\n",
    "            nn.ReLU()\n",
    "        )\n",
    "        self.deconv3 = nn.Sequential(\n",
    "            nn.ConvTranspose2d(512, 256, kernel_size=5, stride=2, padding=1, output_padding=0),\n",
    "            nn.BatchNorm2d(256),\n",
    "            nn.ReLU()\n",
    "        )\n",
    "        self.deconv4 = nn.Sequential(\n",
    "            nn.ConvTranspose2d(256, 128, kernel_size=5, stride=2, padding=2, output_padding=1),\n",
    "            nn.BatchNorm2d(128),\n",
    "            nn.ReLU()\n",
    "        )\n",
    "        self.deconv5 = nn.Sequential(\n",
    "                nn.ConvTranspose2d(128, input_dim[0], 5, 1, padding=1), nn.Sigmoid()\n",
    "        )\n",
    "    \n",
    "    def forward(self, x):\n",
    "        # x = self.conv1(x)\n",
    "        # x = self.conv2(x)\n",
    "        # x = self.conv3(x)\n",
    "        # x = self.conv4(x)\n",
    "        # x = self.embedding(x.reshape(x.shape[0], -1))\n",
    "        \n",
    "        x = self.deconv1(x)\n",
    "        x = x.view(-1, 1024, 28, 28)\n",
    "        x = self.deconv2(x)\n",
    "        x = self.deconv3(x)\n",
    "        x = self.deconv4(x)\n",
    "        x = self.deconv5(x)\n",
    "        return x"
   ]
  },
  {
   "cell_type": "code",
   "execution_count": 20,
   "metadata": {},
   "outputs": [
    {
     "data": {
      "text/plain": [
       "==========================================================================================\n",
       "Layer (type:depth-idx)                   Output Shape              Param #\n",
       "==========================================================================================\n",
       "AutoEncoderConv                          [1, 128]                  120,778,755\n",
       "├─Sequential: 1-1                        [1, 128, 112, 112]        --\n",
       "│    └─Conv2d: 2-1                       [1, 128, 112, 112]        6,272\n",
       "│    └─BatchNorm2d: 2-2                  [1, 128, 112, 112]        256\n",
       "│    └─ReLU: 2-3                         [1, 128, 112, 112]        --\n",
       "├─Sequential: 1-2                        [1, 256, 56, 56]          --\n",
       "│    └─Conv2d: 2-4                       [1, 256, 56, 56]          524,544\n",
       "│    └─BatchNorm2d: 2-5                  [1, 256, 56, 56]          512\n",
       "│    └─ReLU: 2-6                         [1, 256, 56, 56]          --\n",
       "├─Sequential: 1-3                        [1, 512, 28, 28]          --\n",
       "│    └─Conv2d: 2-7                       [1, 512, 28, 28]          2,097,664\n",
       "│    └─BatchNorm2d: 2-8                  [1, 512, 28, 28]          1,024\n",
       "│    └─ReLU: 2-9                         [1, 512, 28, 28]          --\n",
       "├─Sequential: 1-4                        [1, 1024, 14, 14]         --\n",
       "│    └─Conv2d: 2-10                      [1, 1024, 14, 14]         8,389,632\n",
       "│    └─BatchNorm2d: 2-11                 [1, 1024, 14, 14]         2,048\n",
       "│    └─ReLU: 2-12                        [1, 1024, 14, 14]         --\n",
       "├─Linear: 1-5                            [1, 128]                  25,690,240\n",
       "==========================================================================================\n",
       "Total params: 157,490,947\n",
       "Trainable params: 157,490,947\n",
       "Non-trainable params: 0\n",
       "Total mult-adds (G): 5.04\n",
       "==========================================================================================\n",
       "Input size (MB): 0.60\n",
       "Forward/backward pass size (MB): 48.17\n",
       "Params size (MB): 146.85\n",
       "Estimated Total Size (MB): 195.62\n",
       "=========================================================================================="
      ]
     },
     "execution_count": 20,
     "metadata": {},
     "output_type": "execute_result"
    }
   ],
   "source": [
    "summary(model, input_size=(1, 3, 224, 224))"
   ]
  },
  {
   "cell_type": "code",
   "execution_count": 28,
   "metadata": {},
   "outputs": [],
   "source": [
    "torch.cuda.empty_cache()\n",
    "# print(run_name)"
   ]
  },
  {
   "cell_type": "code",
   "execution_count": 22,
   "metadata": {},
   "outputs": [],
   "source": [
    "# Save trained model\n",
    "torch.save(model.state_dict(), \"/nfs/research/birney/users/esther/medaka-img/src_files/vanilla-ae-medaka/polished-snow-11.pth\")"
   ]
  },
  {
   "cell_type": "code",
   "execution_count": 14,
   "metadata": {},
   "outputs": [],
   "source": [
    "# Read model back in\n",
    "model = AutoEncoderConv((3, 224, 224), 128).to(device)\n",
    "checkpoint = torch.load(f'{model_dir}/checkpoints/convnet-ae-pytorch-medaka/amber-sweep-1/ckpt-model-convnet-ae-run-amber-sweep-1-epoch-499-time-2024-10-29-1820.pt')\n",
    "model.load_state_dict(checkpoint['model_state_dict'])\n",
    "\n",
    "optimizer = torch.optim.Adam(model.parameters(), lr=0.001)\n",
    "optimizer.load_state_dict(checkpoint['optimizer_state_dict'])"
   ]
  },
  {
   "cell_type": "code",
   "execution_count": 15,
   "metadata": {},
   "outputs": [
    {
     "data": {
      "text/plain": [
       "<All keys matched successfully>"
      ]
     },
     "execution_count": 15,
     "metadata": {},
     "output_type": "execute_result"
    }
   ],
   "source": [
    "decoder = AutoDecoderConv((3, 224, 224), 128).to(device)\n",
    "checkpoint = torch.load(f'{model_dir}/checkpoints/convnet-ae-pytorch-medaka/amber-sweep-1/ckpt-model-convnet-ae-run-amber-sweep-1-epoch-499-time-2024-10-29-1820.pt')\n",
    "decoder.load_state_dict(checkpoint['model_state_dict'])"
   ]
  },
  {
   "cell_type": "code",
   "execution_count": 16,
   "metadata": {},
   "outputs": [],
   "source": [
    "def get_image_by_name(dataset, img_name):\n",
    "    for i in range(len(dataset)):\n",
    "        if dataset[i][1] == img_name:\n",
    "            return i"
   ]
  },
  {
   "cell_type": "code",
   "execution_count": 86,
   "metadata": {},
   "outputs": [
    {
     "data": {
      "text/plain": [
       "612"
      ]
     },
     "execution_count": 86,
     "metadata": {},
     "output_type": "execute_result"
    }
   ],
   "source": [
    "get_image_by_name(dataset, \"PLATE 10 F2 VC_ Male 95-1 F14 x Female 10-1 F14_F7.tif\")"
   ]
  },
  {
   "cell_type": "code",
   "execution_count": 22,
   "metadata": {},
   "outputs": [
    {
     "name": "stdout",
     "output_type": "stream",
     "text": [
      "torch.Size([3, 224, 224])\n",
      "PLATE 14 F2 VC_ Female 95-1 F14 x Male 33-1 F14_B3.tif\n"
     ]
    },
    {
     "data": {
      "text/plain": [
       "<matplotlib.image.AxesImage at 0x7fab6093d6d0>"
      ]
     },
     "execution_count": 22,
     "metadata": {},
     "output_type": "execute_result"
    },
    {
     "data": {
      "image/png": "[encoded data removed]",
      "text/plain": [
       "<Figure size 640x480 with 1 Axes>"
      ]
     },
     "metadata": {},
     "output_type": "display_data"
    }
   ],
   "source": [
    "dataset_val = 392\n",
    "example = dataset[dataset_val] #164\n",
    "\n",
    "print(example[0].shape)\n",
    "print(example[1])\n",
    "plt.axis('off')\n",
    "plt.imshow(example[0].permute(1, 2, 0).cpu().numpy()[:,:,0], cmap='gray')"
   ]
  },
  {
   "cell_type": "code",
   "execution_count": 25,
   "metadata": {},
   "outputs": [
    {
     "data": {
      "image/png": "[encoded data removed]",
      "text/plain": [
       "<Figure size 640x480 with 2 Axes>"
      ]
     },
     "metadata": {},
     "output_type": "display_data"
    }
   ],
   "source": [
    "model.eval()\n",
    "decoder.eval()\n",
    "embedding = model(example[0].unsqueeze(0).to(device))\n",
    "\n",
    "phenotype = 2\n",
    "phenotype2 = 5\n",
    "genotype = [8.61, -47.7, -167]\n",
    "genotype2 = [-78.3, -41.1, 7.69]\n",
    "\n",
    "# embedding[0][phenotype] = genotype[0]\n",
    "embedding = model(example[0].unsqueeze(0).to(device))\n",
    "output0 = decoder(embedding)\n",
    "\n",
    "embedding[0][phenotype] = genotype[0]\n",
    "output1 = decoder(embedding)\n",
    "\n",
    "plt.axis('off')\n",
    "difference = np.abs((output1.squeeze(0).permute(1, 2, 0).cpu().detach().numpy()[:,:,0] - output0.squeeze(0).permute(1, 2, 0).cpu().detach().numpy()[:,:,0]))\n",
    "# difference = (output1.squeeze(0).permute(1, 2, 0).cpu().detach().numpy()[:,:,0] - output0.squeeze(0).permute(1, 2, 0).cpu().detach().numpy()[:,:,0])\n",
    "img = plt.imshow(difference > 0.010)\n",
    "plt.colorbar(img, orientation='vertical', label='Difference in Intensity')\n",
    "plt.show()"
   ]
  },
  {
   "cell_type": "code",
   "execution_count": 85,
   "metadata": {},
   "outputs": [
    {
     "name": "stdout",
     "output_type": "stream",
     "text": [
      "[500, -500, 500, 500, -500, -500, 500, 500, 500, -500, -500, -500, 500, -500, 500, 500, 500, 500, 500, -500]\n"
     ]
    }
   ],
   "source": [
    "# 14-2_F_x_72-1_M\n",
    "phenotype = [2, 5, 23, 24, 27, 39, 46, 48, 51, 55, 59, 61, 62, 79, 81, 86, 87, 88, 93, 121]\n",
    "genotype = [[8.61, -47.7, -167], \n",
    "            [-78.3, -41.1, 7.69], \n",
    "            [253, 191, 36.9], \n",
    "            [65.1, -22.4, -260],\n",
    "            [36.3, 81.7, 118],\n",
    "            [-270, -63.5, 24.1],\n",
    "            [131, 75.8, -33.4],\n",
    "            [91.8, -51.2, -97.1],\n",
    "            [49.8, -2.45, -55.7],\n",
    "            [-113, 16.6, 202],\n",
    "            [-182, -94.8, 46.1], # X59\n",
    "            [-102, 40.9, 60.9], # X61\n",
    "            [194, -5.35, -44.2], # X62\n",
    "            [-167, -61.3, -0.268], # X79\n",
    "            [146, 34.6, -91.7], # X81,\n",
    "            [18.7, -21.4, -82.8], # X86\n",
    "            [263, 61.1, -71.9], # X87\n",
    "            [61.6, 16.3, -37.7], # X88\n",
    "            [53, -40.7, -132], # X93\n",
    "            [-73.7, 48.8, 118]] # X121\n",
    "\n",
    "extreme = []\n",
    "for sublist in genotype:\n",
    "    if all(x > y for x, y in zip(sublist, sublist[1:])):\n",
    "        extreme.append(500)\n",
    "    elif all(x < y for x, y in zip(sublist, sublist[1:])):\n",
    "        extreme.append(-500)\n",
    "\n",
    "print(extreme)"
   ]
  },
  {
   "cell_type": "code",
   "execution_count": 92,
   "metadata": {},
   "outputs": [
    {
     "name": "stdout",
     "output_type": "stream",
     "text": [
      "[-500, 500, 500, 500, -500, -500, -500, -500, 500]\n"
     ]
    }
   ],
   "source": [
    "# 95-1_F_x_33-1_M\n",
    "phenotype = [1, 12, 21, 27, 39, 61, 91, 113, 117]\n",
    "genotype = [[42.9, 71.3, 167], # X1\n",
    "            [120, -38.7, -313], # X12\n",
    "            [172, 54.4, 5.18], # X21\n",
    "            [148, 56.1, 35.6], # X27\n",
    "            [-113, 10.1, 44], # X39\n",
    "            [-57.5, 26.1, 221], # X61\n",
    "            [-46.6, 36.9, 103], # X91\n",
    "            [-68.6, -19.6, 151], # 113\n",
    "            [137, 71.2, -85.4] # 117\n",
    "]\n",
    "\n",
    "extreme = []\n",
    "for sublist in genotype:\n",
    "    if all(x > y for x, y in zip(sublist, sublist[1:])):\n",
    "        extreme.append(500)\n",
    "    elif all(x < y for x, y in zip(sublist, sublist[1:])):\n",
    "        extreme.append(-500)\n",
    "\n",
    "print(extreme)"
   ]
  },
  {
   "cell_type": "code",
   "execution_count": 104,
   "metadata": {},
   "outputs": [
    {
     "name": "stdout",
     "output_type": "stream",
     "text": [
      "[800, 800, -800, -800, -800, -800, -800, -800, -800, 800, -800, 800, 800, -800, -800, 800, -800, 800, 800, -800]\n"
     ]
    }
   ],
   "source": [
    "# 14-2_M_x_72-1_F\n",
    "phenotype = [1, 11, 22, 36, 43, 45, 53, 55, 65, 75, 76, 77, 83, 85, 99, 101, 103, 113, 120, 125]\n",
    "genotype = [[-11.2, -26.1, -143], # X1\n",
    "            [76.5, 3.76, -43.4], # X11\n",
    "            [-148, -82.5, -59.5], # X22\n",
    "            [43.7, 57.9, 113], # X36\n",
    "            [-137, -48.4, 7.24], # X43\n",
    "            [-177, -38.8, 110], # X45\n",
    "            [-148, -112, 48.1], # X53\n",
    "            [-99, -80.4, 52.7], # X55\n",
    "            [-107, -15, 108], #X65\n",
    "            [191, 79.7, -119], # X75\n",
    "            [494, 590, 751], # X76\n",
    "            [51.6, 27.2, -61.5], # X77\n",
    "            [169, 80.1, 18.2], # X83\n",
    "            [-403, -173, -125], # X85\n",
    "            [-25.8, -19.2, 36.9], # X99\n",
    "            [31.3, 16.5, -84.7], # X101\n",
    "            [-167, -52.5, 73.1], # X103\n",
    "            [101, 0.741, -173], # X113\n",
    "            [89.1, 25.9, -189], # X120\n",
    "            [-330, -213, -32.9] # X125\n",
    "]\n",
    "\n",
    "extreme = []\n",
    "for sublist in genotype:\n",
    "    if all(x > y for x, y in zip(sublist, sublist[1:])):\n",
    "        extreme.append(800)\n",
    "    elif all(x < y for x, y in zip(sublist, sublist[1:])):\n",
    "        extreme.append(-800)\n",
    "\n",
    "print(extreme)"
   ]
  },
  {
   "cell_type": "code",
   "execution_count": 100,
   "metadata": {},
   "outputs": [
    {
     "name": "stdout",
     "output_type": "stream",
     "text": [
      "True\n",
      "20\n"
     ]
    }
   ],
   "source": [
    "print(len(phenotype) == len(genotype))\n",
    "print(len(phenotype))"
   ]
  },
  {
   "cell_type": "code",
   "execution_count": 18,
   "metadata": {},
   "outputs": [
    {
     "name": "stdout",
     "output_type": "stream",
     "text": [
      "PLATE 14 F2 VC_ Female 95-1 F14 x Male 33-1 F14_B4.tif\n",
      "tensor(-150.3370, device='cuda:0', grad_fn=<SelectBackward0>)\n"
     ]
    },
    {
     "data": {
      "image/png": "[encoded data removed]",
      "text/plain": [
       "<Figure size 1200x800 with 6 Axes>"
      ]
     },
     "metadata": {},
     "output_type": "display_data"
    }
   ],
   "source": [
    "phenotype = 1\n",
    "# phenotype2 = 23\n",
    "genotype = [120, -38.7, -313]\n",
    "# genotype2 = [-78.3, -41.1, 7.69]\n",
    "\n",
    "\n",
    "model.eval()\n",
    "decoder.eval()\n",
    "embedding = model(example[0].unsqueeze(0).to(device))\n",
    "print(example[1])\n",
    "# embedding[0][1] = -143\n",
    "print(embedding[0][phenotype])\n",
    "\n",
    "# plt.axis('off')\n",
    "# plt.imshow(example[0].permute(1, 2, 0).cpu().numpy()[:,:,0])\n",
    "\n",
    "fig, axs = plt.subplots(2, 3, figsize=(12, 8))\n",
    "# fig.suptitle(f\"Phenotype reconstruction of {example[1]} ({dataset_val}), phenotype {phenotype}\", fontsize=12)\n",
    "output = decoder(embedding)\n",
    "axs[0,0].imshow(output.squeeze(0).permute(1, 2, 0).cpu().detach().numpy()[:,:,0])\n",
    "axs[0,0].set_title('Original reconstructed image', fontsize=8)\n",
    "axs[0,0].axis('off')\n",
    "\n",
    "\n",
    "# for i in range(len(phenotype)):\n",
    "#     embedding[0][phenotype[i]] = extreme[i]\n",
    "    # print(embedding[0][phenotype[i]], extreme[i])\n",
    "embedding[0][phenotype] = 1000\n",
    "# embedding[0][phenotype2] = -1000\n",
    "output = decoder(embedding)\n",
    "axs[0,1].imshow(output.squeeze(0).permute(1, 2, 0).cpu().detach().numpy()[:,:,0])\n",
    "axs[0,1].set_title('Phenotype at -1000', fontsize=8)\n",
    "axs[0,1].axis('off')\n",
    "\n",
    "\n",
    "# for i in range(len(phenotype)):\n",
    "#     embedding[0][phenotype[i]] = genotype[i][0]\n",
    "    # print(phenotype[i], genotype[i][0])\n",
    "embedding[0][phenotype] = genotype[0]\n",
    "# embedding[0][phenotype2] = genotype2[0]\n",
    "output = decoder(embedding)\n",
    "axs[0,2].imshow(output.squeeze(0).permute(1, 2, 0).cpu().detach().numpy()[:,:,0])\n",
    "axs[0,2].set_title('Phenotype at genotype 0', fontsize=8)\n",
    "axs[0,2].axis('off')\n",
    "\n",
    "\n",
    "# for i in range(len(phenotype)):\n",
    "#     embedding[0][phenotype[i]] = genotype[i][1]\n",
    "embedding[0][phenotype] = genotype[1]\n",
    "# embedding[0][phenotype2] = genotype2[1]\n",
    "output = decoder(embedding)\n",
    "axs[1,0].imshow(output.squeeze(0).permute(1, 2, 0).cpu().detach().numpy()[:,:,0])\n",
    "axs[1,0].set_title('Phenotype at genotype 1', fontsize=8)\n",
    "axs[1,0].axis('off')\n",
    "\n",
    "\n",
    "# for i in range(len(phenotype)):\n",
    "#     embedding[0][phenotype[i]] = genotype[i][2]\n",
    "embedding[0][phenotype] = genotype[2]\n",
    "# embedding[0][phenotype2] = genotype2[2]\n",
    "output = decoder(embedding)\n",
    "axs[1,1].imshow(output.squeeze(0).permute(1, 2, 0).cpu().detach().numpy()[:,:,0])\n",
    "axs[1,1].set_title('Phenotype at genotype 2', fontsize=8)\n",
    "axs[1,1].axis('off')\n",
    "# plt.imshow(output.squeeze(0).permute(1, 2, 0).cpu().detach().numpy()[:,:,0])\n",
    "\n",
    "\n",
    "# for i in range(len(phenotype)):\n",
    "#     embedding[0][phenotype[i]] = -1*extreme[i]\n",
    "embedding[0][phenotype] = -1000\n",
    "# embedding[0][phenotype2] = 1000\n",
    "output = decoder(embedding)\n",
    "axs[1,2].imshow(output.squeeze(0).permute(1, 2, 0).cpu().detach().numpy()[:,:,0])\n",
    "axs[1,2].set_title('Phenotype at +1000', fontsize=8)\n",
    "axs[1,2].axis('off')\n",
    "\n",
    "\n",
    "plt.show()\n"
   ]
  },
  {
   "cell_type": "code",
   "execution_count": 59,
   "metadata": {},
   "outputs": [
    {
     "name": "stdout",
     "output_type": "stream",
     "text": [
      "PLATE 14 F2 VC_ Female 95-1 F14 x Male 33-1 F14_B4.tif\n"
     ]
    }
   ],
   "source": [
    "print(example[1])"
   ]
  },
  {
   "cell_type": "code",
   "execution_count": 53,
   "metadata": {},
   "outputs": [
    {
     "name": "stdout",
     "output_type": "stream",
     "text": [
      "PLATE 14 F2 VC_ Female 95-1 F14 x Male 33-1 F14_B4.tif\n"
     ]
    },
    {
     "data": {
      "image/png": "[encoded data removed]",
      "text/plain": [
       "<Figure size 640x480 with 1 Axes>"
      ]
     },
     "metadata": {},
     "output_type": "display_data"
    }
   ],
   "source": [
    "dataset_val = 393\n",
    "example = dataset[dataset_val]\n",
    "print(example[1])\n",
    "plt.axis('off')\n",
    "plt.imshow(example[0].permute(1, 2, 0).cpu().numpy()[:,:,0], cmap='gray')\n",
    "\n",
    "model.eval()\n",
    "decoder.eval()\n",
    "embedding = model(example[0].unsqueeze(0).to(device))\n",
    "\n",
    "embedding[0][1] = -1000\n",
    "output = decoder(embedding)\n",
    "\n",
    "# plt.axis('off')\n",
    "# plt.imshow(output.squeeze(0).permute(1, 2, 0).cpu().detach().numpy()[:,:,0], cmap='gray')"
   ]
  },
  {
   "cell_type": "code",
   "execution_count": 74,
   "metadata": {},
   "outputs": [
    {
     "name": "stdout",
     "output_type": "stream",
     "text": [
      "torch.Size([1, 128])\n"
     ]
    }
   ],
   "source": [
    "model.eval()\n",
    "print(model(example[0].unsqueeze(0)).shape)"
   ]
  },
  {
   "cell_type": "markdown",
   "metadata": {},
   "source": [
    "### Save the embedding vectors in a df"
   ]
  },
  {
   "cell_type": "code",
   "execution_count": 78,
   "metadata": {},
   "outputs": [
    {
     "name": "stdout",
     "output_type": "stream",
     "text": [
      "1112\n"
     ]
    }
   ],
   "source": [
    "print(len(dataset))"
   ]
  },
  {
   "cell_type": "code",
   "execution_count": 94,
   "metadata": {},
   "outputs": [
    {
     "name": "stdout",
     "output_type": "stream",
     "text": [
      "0\n",
      "10\n",
      "20\n",
      "30\n",
      "40\n",
      "50\n",
      "60\n",
      "70\n",
      "80\n",
      "90\n",
      "100\n",
      "110\n",
      "120\n",
      "130\n",
      "140\n",
      "150\n",
      "160\n",
      "170\n",
      "180\n",
      "190\n",
      "200\n",
      "210\n",
      "220\n",
      "230\n",
      "240\n",
      "250\n",
      "260\n",
      "270\n",
      "280\n",
      "290\n",
      "300\n",
      "310\n",
      "320\n",
      "330\n",
      "340\n",
      "350\n",
      "360\n",
      "370\n",
      "380\n",
      "390\n",
      "400\n",
      "410\n",
      "420\n",
      "430\n",
      "440\n",
      "450\n",
      "460\n",
      "470\n",
      "480\n",
      "490\n",
      "500\n",
      "510\n",
      "520\n",
      "530\n",
      "540\n",
      "550\n",
      "560\n",
      "570\n",
      "580\n",
      "590\n",
      "600\n",
      "610\n",
      "620\n",
      "630\n",
      "640\n",
      "650\n",
      "660\n",
      "670\n",
      "680\n",
      "690\n",
      "700\n",
      "710\n",
      "720\n",
      "730\n",
      "740\n",
      "750\n",
      "760\n",
      "770\n",
      "780\n",
      "790\n",
      "800\n",
      "810\n",
      "820\n",
      "830\n",
      "840\n",
      "850\n",
      "860\n",
      "870\n",
      "880\n",
      "890\n",
      "900\n",
      "910\n",
      "920\n",
      "930\n",
      "940\n",
      "950\n",
      "960\n",
      "970\n",
      "980\n",
      "990\n",
      "1000\n",
      "1010\n",
      "1020\n",
      "1030\n",
      "1040\n",
      "1050\n",
      "1060\n",
      "1070\n",
      "1080\n",
      "1090\n",
      "1100\n",
      "1110\n"
     ]
    },
    {
     "ename": "KeyError",
     "evalue": "1112",
     "output_type": "error",
     "traceback": [
      "\u001b[0;31m---------------------------------------------------------------------------\u001b[0m",
      "\u001b[0;31mValueError\u001b[0m                                Traceback (most recent call last)",
      "File \u001b[0;32m/hps/software/users/birney/esther/micromamba/envs/indigene-img/lib/python3.9/site-packages/pandas/core/indexes/range.py:413\u001b[0m, in \u001b[0;36mRangeIndex.get_loc\u001b[0;34m(self, key)\u001b[0m\n\u001b[1;32m    412\u001b[0m \u001b[39mtry\u001b[39;00m:\n\u001b[0;32m--> 413\u001b[0m     \u001b[39mreturn\u001b[39;00m \u001b[39mself\u001b[39;49m\u001b[39m.\u001b[39;49m_range\u001b[39m.\u001b[39;49mindex(new_key)\n\u001b[1;32m    414\u001b[0m \u001b[39mexcept\u001b[39;00m \u001b[39mValueError\u001b[39;00m \u001b[39mas\u001b[39;00m err:\n",
      "\u001b[0;31mValueError\u001b[0m: 1112 is not in range",
      "\nThe above exception was the direct cause of the following exception:\n",
      "\u001b[0;31mKeyError\u001b[0m                                  Traceback (most recent call last)",
      "\u001b[1;32m/nfs/research/birney/users/esther/medaka-img/scripts/train-pythae-based-convae-pytorch.ipynb Cell 45\u001b[0m line \u001b[0;36m5\n\u001b[1;32m      <a href='vscode-notebook-cell://ssh-remote%2B7b22686f73744e616d65223a22636f646f6e2d6770752d303130222c2275736572223a22657374686572227d/nfs/research/birney/users/esther/medaka-img/scripts/train-pythae-based-convae-pytorch.ipynb#Y102sdnNjb2RlLXJlbW90ZQ%3D%3D?line=1'>2</a>\u001b[0m feature_matrix \u001b[39m=\u001b[39m {}\n\u001b[1;32m      <a href='vscode-notebook-cell://ssh-remote%2B7b22686f73744e616d65223a22636f646f6e2d6770752d303130222c2275736572223a22657374686572227d/nfs/research/birney/users/esther/medaka-img/scripts/train-pythae-based-convae-pytorch.ipynb#Y102sdnNjb2RlLXJlbW90ZQ%3D%3D?line=2'>3</a>\u001b[0m counter \u001b[39m=\u001b[39m \u001b[39m0\u001b[39m\n\u001b[0;32m----> <a href='vscode-notebook-cell://ssh-remote%2B7b22686f73744e616d65223a22636f646f6e2d6770752d303130222c2275736572223a22657374686572227d/nfs/research/birney/users/esther/medaka-img/scripts/train-pythae-based-convae-pytorch.ipynb#Y102sdnNjb2RlLXJlbW90ZQ%3D%3D?line=4'>5</a>\u001b[0m \u001b[39mfor\u001b[39;00m image, image_name \u001b[39min\u001b[39;00m dataset:\n\u001b[1;32m      <a href='vscode-notebook-cell://ssh-remote%2B7b22686f73744e616d65223a22636f646f6e2d6770752d303130222c2275736572223a22657374686572227d/nfs/research/birney/users/esther/medaka-img/scripts/train-pythae-based-convae-pytorch.ipynb#Y102sdnNjb2RlLXJlbW90ZQ%3D%3D?line=5'>6</a>\u001b[0m     embedding \u001b[39m=\u001b[39m model(image\u001b[39m.\u001b[39munsqueeze(\u001b[39m0\u001b[39m))\n\u001b[1;32m      <a href='vscode-notebook-cell://ssh-remote%2B7b22686f73744e616d65223a22636f646f6e2d6770752d303130222c2275736572223a22657374686572227d/nfs/research/birney/users/esther/medaka-img/scripts/train-pythae-based-convae-pytorch.ipynb#Y102sdnNjb2RlLXJlbW90ZQ%3D%3D?line=6'>7</a>\u001b[0m     feature_matrix[image_name] \u001b[39m=\u001b[39m embedding\u001b[39m.\u001b[39mdetach()\u001b[39m.\u001b[39mcpu()\u001b[39m.\u001b[39mnumpy()\u001b[39m.\u001b[39mreshape(\u001b[39m128\u001b[39m)\n",
      "\u001b[1;32m/nfs/research/birney/users/esther/medaka-img/scripts/train-pythae-based-convae-pytorch.ipynb Cell 45\u001b[0m line \u001b[0;36m1\n\u001b[1;32m     <a href='vscode-notebook-cell://ssh-remote%2B7b22686f73744e616d65223a22636f646f6e2d6770752d303130222c2275736572223a22657374686572227d/nfs/research/birney/users/esther/medaka-img/scripts/train-pythae-based-convae-pytorch.ipynb#Y102sdnNjb2RlLXJlbW90ZQ%3D%3D?line=9'>10</a>\u001b[0m \u001b[39mdef\u001b[39;00m \u001b[39m__getitem__\u001b[39m(\u001b[39mself\u001b[39m, idx):\n\u001b[0;32m---> <a href='vscode-notebook-cell://ssh-remote%2B7b22686f73744e616d65223a22636f646f6e2d6770752d303130222c2275736572223a22657374686572227d/nfs/research/birney/users/esther/medaka-img/scripts/train-pythae-based-convae-pytorch.ipynb#Y102sdnNjb2RlLXJlbW90ZQ%3D%3D?line=10'>11</a>\u001b[0m     img_name \u001b[39m=\u001b[39m \u001b[39mself\u001b[39;49m\u001b[39m.\u001b[39;49mimage_paths[idx]\n\u001b[1;32m     <a href='vscode-notebook-cell://ssh-remote%2B7b22686f73744e616d65223a22636f646f6e2d6770752d303130222c2275736572223a22657374686572227d/nfs/research/birney/users/esther/medaka-img/scripts/train-pythae-based-convae-pytorch.ipynb#Y102sdnNjb2RlLXJlbW90ZQ%3D%3D?line=11'>12</a>\u001b[0m     img_path \u001b[39m=\u001b[39m \u001b[39mf\u001b[39m\u001b[39m'\u001b[39m\u001b[39m{\u001b[39;00m\u001b[39mself\u001b[39m\u001b[39m.\u001b[39msrc_dir\u001b[39m}\u001b[39;00m\u001b[39m/\u001b[39m\u001b[39m{\u001b[39;00mimg_name\u001b[39m}\u001b[39;00m\u001b[39m'\u001b[39m\n\u001b[1;32m     <a href='vscode-notebook-cell://ssh-remote%2B7b22686f73744e616d65223a22636f646f6e2d6770752d303130222c2275736572223a22657374686572227d/nfs/research/birney/users/esther/medaka-img/scripts/train-pythae-based-convae-pytorch.ipynb#Y102sdnNjb2RlLXJlbW90ZQ%3D%3D?line=13'>14</a>\u001b[0m     image \u001b[39m=\u001b[39m ski\u001b[39m.\u001b[39mio\u001b[39m.\u001b[39mimread(img_path)\n",
      "File \u001b[0;32m/hps/software/users/birney/esther/micromamba/envs/indigene-img/lib/python3.9/site-packages/pandas/core/series.py:1121\u001b[0m, in \u001b[0;36mSeries.__getitem__\u001b[0;34m(self, key)\u001b[0m\n\u001b[1;32m   1118\u001b[0m     \u001b[39mreturn\u001b[39;00m \u001b[39mself\u001b[39m\u001b[39m.\u001b[39m_values[key]\n\u001b[1;32m   1120\u001b[0m \u001b[39melif\u001b[39;00m key_is_scalar:\n\u001b[0;32m-> 1121\u001b[0m     \u001b[39mreturn\u001b[39;00m \u001b[39mself\u001b[39;49m\u001b[39m.\u001b[39;49m_get_value(key)\n\u001b[1;32m   1123\u001b[0m \u001b[39m# Convert generator to list before going through hashable part\u001b[39;00m\n\u001b[1;32m   1124\u001b[0m \u001b[39m# (We will iterate through the generator there to check for slices)\u001b[39;00m\n\u001b[1;32m   1125\u001b[0m \u001b[39mif\u001b[39;00m is_iterator(key):\n",
      "File \u001b[0;32m/hps/software/users/birney/esther/micromamba/envs/indigene-img/lib/python3.9/site-packages/pandas/core/series.py:1237\u001b[0m, in \u001b[0;36mSeries._get_value\u001b[0;34m(self, label, takeable)\u001b[0m\n\u001b[1;32m   1234\u001b[0m     \u001b[39mreturn\u001b[39;00m \u001b[39mself\u001b[39m\u001b[39m.\u001b[39m_values[label]\n\u001b[1;32m   1236\u001b[0m \u001b[39m# Similar to Index.get_value, but we do not fall back to positional\u001b[39;00m\n\u001b[0;32m-> 1237\u001b[0m loc \u001b[39m=\u001b[39m \u001b[39mself\u001b[39;49m\u001b[39m.\u001b[39;49mindex\u001b[39m.\u001b[39;49mget_loc(label)\n\u001b[1;32m   1239\u001b[0m \u001b[39mif\u001b[39;00m is_integer(loc):\n\u001b[1;32m   1240\u001b[0m     \u001b[39mreturn\u001b[39;00m \u001b[39mself\u001b[39m\u001b[39m.\u001b[39m_values[loc]\n",
      "File \u001b[0;32m/hps/software/users/birney/esther/micromamba/envs/indigene-img/lib/python3.9/site-packages/pandas/core/indexes/range.py:415\u001b[0m, in \u001b[0;36mRangeIndex.get_loc\u001b[0;34m(self, key)\u001b[0m\n\u001b[1;32m    413\u001b[0m         \u001b[39mreturn\u001b[39;00m \u001b[39mself\u001b[39m\u001b[39m.\u001b[39m_range\u001b[39m.\u001b[39mindex(new_key)\n\u001b[1;32m    414\u001b[0m     \u001b[39mexcept\u001b[39;00m \u001b[39mValueError\u001b[39;00m \u001b[39mas\u001b[39;00m err:\n\u001b[0;32m--> 415\u001b[0m         \u001b[39mraise\u001b[39;00m \u001b[39mKeyError\u001b[39;00m(key) \u001b[39mfrom\u001b[39;00m \u001b[39merr\u001b[39;00m\n\u001b[1;32m    416\u001b[0m \u001b[39mif\u001b[39;00m \u001b[39misinstance\u001b[39m(key, Hashable):\n\u001b[1;32m    417\u001b[0m     \u001b[39mraise\u001b[39;00m \u001b[39mKeyError\u001b[39;00m(key)\n",
      "\u001b[0;31mKeyError\u001b[0m: 1112"
     ]
    }
   ],
   "source": [
    "model.eval()\n",
    "feature_matrix = {}\n",
    "counter = 0\n",
    "\n",
    "for image, image_name in dataset:\n",
    "    embedding = model(image.unsqueeze(0))\n",
    "    feature_matrix[image_name] = embedding.detach().cpu().numpy().reshape(128)\n",
    "\n",
    "    if counter % 10 == 0:\n",
    "        print(counter)\n",
    "\n",
    "    counter += 1"
   ]
  },
  {
   "cell_type": "code",
   "execution_count": 1,
   "metadata": {},
   "outputs": [
    {
     "ename": "NameError",
     "evalue": "name 'feature_matrix' is not defined",
     "output_type": "error",
     "traceback": [
      "\u001b[0;31m---------------------------------------------------------------------------\u001b[0m",
      "\u001b[0;31mNameError\u001b[0m                                 Traceback (most recent call last)",
      "\u001b[1;32m/nfs/research/birney/users/esther/medaka-img/scripts/train-pythae-based-convae-pytorch.ipynb Cell 46\u001b[0m line \u001b[0;36m1\n\u001b[0;32m----> <a href='vscode-notebook-cell://ssh-remote%2B7b22686f73744e616d65223a22636f646f6e2d6770752d303130222c2275736572223a22657374686572227d/nfs/research/birney/users/esther/medaka-img/scripts/train-pythae-based-convae-pytorch.ipynb#X63sdnNjb2RlLXJlbW90ZQ%3D%3D?line=0'>1</a>\u001b[0m \u001b[39mprint\u001b[39m(\u001b[39mlen\u001b[39m(feature_matrix))\n\u001b[1;32m      <a href='vscode-notebook-cell://ssh-remote%2B7b22686f73744e616d65223a22636f646f6e2d6770752d303130222c2275736572223a22657374686572227d/nfs/research/birney/users/esther/medaka-img/scripts/train-pythae-based-convae-pytorch.ipynb#X63sdnNjb2RlLXJlbW90ZQ%3D%3D?line=1'>2</a>\u001b[0m \u001b[39mprint\u001b[39m(feature_matrix)\n",
      "\u001b[0;31mNameError\u001b[0m: name 'feature_matrix' is not defined"
     ]
    }
   ],
   "source": [
    "print(len(feature_matrix))\n",
    "print(feature_matrix)"
   ]
  },
  {
   "cell_type": "code",
   "execution_count": 101,
   "metadata": {},
   "outputs": [
    {
     "name": "stdout",
     "output_type": "stream",
     "text": [
      "[ -77.71443    -61.410744    29.089512    41.218525    30.065296\n",
      "  -10.29204    410.0883     -33.349293  -723.1503    -232.67517\n",
      "  300.89902     20.10732    190.17273    540.12695   -176.24693\n",
      "   44.52819    100.90983    308.12897    -52.166943   175.80885\n",
      " -321.41968    217.52153    526.3035    -365.1253     318.0609\n",
      " -209.16046    220.87271    370.936      224.94162    351.8649\n",
      "  -27.167477   508.67697   -480.5968    -278.52948      4.4324927\n",
      "  206.6029    -134.35341   -406.53784    346.28265    256.88086\n",
      " -181.99242    485.08722   -220.7049    -424.36957   -271.82516\n",
      "  198.51367    281.1529    -357.6786      77.26173     87.08338\n",
      "  274.8931    -343.04498    577.7297     516.1294    -364.40228\n",
      "  136.5843     401.59244    151.21652    -59.072773   373.43015\n",
      "  377.18597    -21.082111  -476.3881    -143.25397   -324.05157\n",
      "  202.96922   -438.98062   -364.07556   -109.75923   -419.75226\n",
      "  173.96829    399.22427     22.354723    10.570647  -542.5288\n",
      " -136.3367     360.90564    512.31586   -159.28572    -32.151455\n",
      "    8.483862  -157.52507     72.3905      69.38138     40.616673\n",
      "  473.6822       8.868803  -187.93059    224.65918   -163.12065\n",
      " -928.3743     322.18655   -200.78867   -185.76134   -105.14524\n",
      " -173.26666    -20.069073  -429.1606     293.0661      63.438435\n",
      " -323.65353     77.07631   -203.92854   -104.59806   -322.65527\n",
      "   52.73165   -336.7799     424.20227     29.113016   463.19473\n",
      "  344.21207    409.4341     137.48318   -313.3251      43.225655\n",
      " -138.21991    136.83926    -38.59345    766.1718     522.26263\n",
      "  102.20129   -108.74386    185.71632     77.925095  -112.1269\n",
      "  -93.55536    114.91573   -113.49317  ]\n"
     ]
    }
   ],
   "source": [
    "print(feature_matrix['PLATE 1 F2 VC_Female 95-1 F14 x Male 72-1 F14_A01.tif'])"
   ]
  },
  {
   "cell_type": "code",
   "execution_count": 98,
   "metadata": {},
   "outputs": [],
   "source": [
    "feature_df = pd.DataFrame.from_dict(feature_matrix, orient='index')\n",
    "feature_df\n",
    "\n",
    "feature_df.to_csv(\"/nfs/research/birney/users/esther/medaka-img/features/convnet-ae-pytorch-medaka/amber-sweep-1-epoch500-feature_matrix.csv\")"
   ]
  },
  {
   "cell_type": "code",
   "execution_count": 25,
   "metadata": {},
   "outputs": [
    {
     "data": {
      "text/plain": [
       "<matplotlib.image.AxesImage at 0x7fd8c8a98cd0>"
      ]
     },
     "execution_count": 25,
     "metadata": {},
     "output_type": "execute_result"
    },
    {
     "data": {
      "image/png": "[encoded data removed]",
      "text/plain": [
       "<Figure size 640x480 with 1 Axes>"
      ]
     },
     "metadata": {},
     "output_type": "display_data"
    }
   ],
   "source": [
    "model.to(device)\n",
    "model_output = model(train_example[0].reshape(-1, 224*224).to(device))\n",
    "\n",
    "model_output = model_output.reshape(224, 224)\n",
    "plt.imshow(model_output.cpu().detach().numpy())"
   ]
  },
  {
   "cell_type": "code",
   "execution_count": 26,
   "metadata": {},
   "outputs": [
    {
     "data": {
      "image/png": "[encoded data removed]",
      "text/plain": [
       "<Figure size 640x480 with 2 Axes>"
      ]
     },
     "metadata": {},
     "output_type": "display_data"
    }
   ],
   "source": [
    "fig, axs = plt.subplots(1,2)\n",
    "\n",
    "axs[0].imshow(train_example[0].permute(1, 2, 0).cpu().numpy())\n",
    "axs[0].set_title('Original image')\n",
    "\n",
    "axs[1].imshow(model_output.cpu().detach().numpy())\n",
    "axs[1].set_title('Reconstructed image')\n",
    "axs[1].axis('off')\n",
    "\n",
    "plt.show()"
   ]
  },
  {
   "cell_type": "code",
   "execution_count": null,
   "metadata": {},
   "outputs": [
    {
     "ename": "",
     "evalue": "",
     "output_type": "error",
     "traceback": [
      "\u001b[1;31mFailed to start the Kernel 'indigene-img'. \n",
      "\u001b[1;31mView Jupyter <a href='command:jupyter.viewOutput'>log</a> for further details. Unknown system error -122: Unknown system error -122, close"
     ]
    }
   ],
   "source": [
    "import IPython\n",
    "app = IPython.Application.instance()\n",
    "app.kernel.do_shutdown(True)"
   ]
  }
 ],
 "metadata": {
  "kernelspec": {
   "display_name": "indigene-img",
   "language": "python",
   "name": "indigene-img"
  },
  "language_info": {
   "codemirror_mode": {
    "name": "ipython",
    "version": 3
   },
   "file_extension": ".py",
   "mimetype": "text/x-python",
   "name": "python",
   "nbconvert_exporter": "python",
   "pygments_lexer": "ipython3",
   "version": "3.9.1"
  }
 },
 "nbformat": 4,
 "nbformat_minor": 2
}
