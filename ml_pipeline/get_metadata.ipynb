{
 "cells": [
  {
   "cell_type": "code",
   "execution_count": 7,
   "metadata": {},
   "outputs": [
    {
     "name": "stdout",
     "output_type": "stream",
     "text": [
      "Format: TIFF\n",
      "Size: (1392, 1040)\n",
      "Mode: RGB\n",
      "ImageWidth: 1392\n",
      "ImageLength: 1040\n",
      "BitsPerSample: (8, 8, 8)\n",
      "Compression: 1\n",
      "PhotometricInterpretation: 2\n",
      "StripOffsets: (268, 1048444, 2096620, 3144796, 4192972)\n",
      "Orientation: 1\n",
      "SamplesPerPixel: 3\n",
      "RowsPerStrip: 251\n",
      "StripByteCounts: (1048176, 1048176, 1048176, 1048176, 150336)\n",
      "XResolution: 600.0\n",
      "YResolution: 600.0\n",
      "PlanarConfiguration: 1\n",
      "ResolutionUnit: 2\n",
      "PageNumber: (0, 0)\n",
      "NewSubfileType: 2\n"
     ]
    }
   ],
   "source": [
    "from PIL import Image\n",
    "from PIL.TiffTags import TAGS\n",
    "\n",
    "# Open an image file\n",
    "image_path = '/nfs/research/birney/users/esther/medaka-img/all_images/PLATE 18 F2 VC_ Female 14-2 F14 x Male 33-1 F14_F10.tif'\n",
    "with Image.open(image_path) as img:\n",
    "    # Get basic image information\n",
    "    print(f\"Format: {img.format}\")\n",
    "    print(f\"Size: {img.size}\")\n",
    "    print(f\"Mode: {img.mode}\")\n",
    "\n",
    "    # Get TIFF metadata\n",
    "    metadata = img.tag_v2\n",
    "    for tag, value in metadata.items():\n",
    "        tag_name = TAGS.get(tag, tag)\n",
    "        print(f\"{tag_name}: {value}\")\n",
    "\n",
    "        # Check for GPSInfo tag\n",
    "        if tag_name == 'GPSInfo':\n",
    "            gps_data = value\n",
    "            for gps_tag in gps_data:\n",
    "                gps_tag_name = GPSTAGS.get(gps_tag, gps_tag)\n",
    "                print(f\"{gps_tag_name}: {gps_data[gps_tag]}\")"
   ]
  }
 ],
 "metadata": {
  "kernelspec": {
   "display_name": "indigene-img",
   "language": "python",
   "name": "indigene-img"
  },
  "language_info": {
   "codemirror_mode": {
    "name": "ipython",
    "version": 3
   },
   "file_extension": ".py",
   "mimetype": "text/x-python",
   "name": "python",
   "nbconvert_exporter": "python",
   "pygments_lexer": "ipython3",
   "version": "3.9.1"
  }
 },
 "nbformat": 4,
 "nbformat_minor": 2
}
