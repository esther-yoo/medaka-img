{
 "cells": [
  {
   "cell_type": "code",
   "execution_count": null,
   "metadata": {},
   "outputs": [],
   "source": [
    "import scanpy as sc\n",
    "from matplotlib.pyplot import rc_context\n",
    "from pathlib import Path\n",
    "import pandas as pd\n",
    "import matplotlib.image as mpimg\n",
    "from colorir import *\n",
    "\n",
    "palette = Palette.load('cam_colours')\n",
    "torch.manual_seed(1)"
   ]
  }
 ],
 "metadata": {
  "language_info": {
   "name": "python"
  }
 },
 "nbformat": 4,
 "nbformat_minor": 2
}
